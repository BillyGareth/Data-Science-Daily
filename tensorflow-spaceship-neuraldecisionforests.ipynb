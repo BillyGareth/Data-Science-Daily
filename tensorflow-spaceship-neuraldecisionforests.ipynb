{
 "cells": [
  {
   "cell_type": "markdown",
   "id": "f646ed3b",
   "metadata": {
    "papermill": {
     "duration": 0.034519,
     "end_time": "2022-02-24T04:17:25.429821",
     "exception": false,
     "start_time": "2022-02-24T04:17:25.395302",
     "status": "completed"
    },
    "tags": []
   },
   "source": [
    "![](https://drive.google.com/uc?id=1e5ZF3Jmap6S2EAM80GrftyBIWvsOqPcQ)\n",
    "\n",
    "Welcome to the year 2912, where your data science skills are needed to solve a cosmic mystery. We've received a transmission from four lightyears away and things aren't looking good.\n",
    "\n",
    "The Spaceship Titanic was an interstellar passenger liner launched a month ago. With almost 13,000 passengers on board, the vessel set out on its maiden voyage transporting emigrants from our solar system to three newly habitable exoplanets orbiting nearby stars.\n",
    "\n",
    "While rounding Alpha Centauri en route to its first destination—the torrid 55 Cancri E—the unwary Spaceship Titanic collided with a spacetime anomaly hidden within a dust cloud. Sadly, it met a similar fate as its namesake from 1000 years before. Though the ship stayed intact, almost half of the passengers were transported to an alternate dimension!\n",
    "\n",
    "# **<span style=\"color:#F7B2B0;\">Goal</span>**\n",
    "\n",
    "The goal of this competition is to predict whether a passenger was transported to an alternate dimension during the Spaceship Titanic's collision with the spacetime anomaly.\n",
    "\n",
    "# **<span style=\"color:#F7B2B0;\">Data</span>**\n",
    "\n",
    "\n",
    "**Files**\n",
    "\n",
    "`train.csv` -  Personal records for about two-thirds (~8700) of the passengers, to be used as training data.\n",
    "\n",
    "`test.csv` - Personal records for the remaining one-third (~4300) of the passengers, to be used as test data. Your task is to predict the value of Transported for the passengers in this set. \n",
    "\n",
    "`sample_submission.csv` - a sample submission file in the correct format\n",
    "\n",
    "**Columns**\n",
    "\n",
    "`PassengerId` - A unique Id for each passenger. Each Id takes the form gggg_pp where gggg indicates a group the passenger is travelling with and pp is their number within the group. People in a group are often family members, but not always.\n",
    "\n",
    "`HomePlanet` - The planet the passenger departed from, typically their planet of permanent residence.\n",
    "\n",
    "`CryoSleep` - Indicates whether the passenger elected to be put into suspended animation for the duration of the voyage. Passengers in cryosleep are confined to their cabins.\n",
    "\n",
    "`Cabin` - The cabin number where the passenger is staying. Takes the form deck/num/side, where side can be either P for Port or S for Starboard.\n",
    "\n",
    "`Destination` - The planet the passenger will be debarking to.\n",
    "\n",
    "`Age` - The age of the passenger.\n",
    "\n",
    "`VIP` - Whether the passenger has paid for special VIP service during the voyage.\n",
    "\n",
    "`RoomService, FoodCourt, ShoppingMall, Spa, VRDeck` - Amount the passenger has billed at each of the Spaceship Titanic's many luxury amenities.\n",
    "\n",
    "`Name` - The first and last names of the passenger.\n",
    "\n",
    "`Transported` - Whether the passenger was transported to another dimension. This is the target, the column you are trying to predict.\n",
    "\n",
    "\n",
    "# **<span style=\"color:#F7B2B0;\">Evaluation Metric</span>**\n",
    "\n",
    "Submissions are evaluated based on their classification accuracy, the percentage of predicted labels that are correct.\n",
    "\n",
    "<img src=\"https://camo.githubusercontent.com/dd842f7b0be57140e68b2ab9cb007992acd131c48284eaf6b1aca758bfea358b/68747470733a2f2f692e696d6775722e636f6d2f52557469567a482e706e67\">\n",
    "\n",
    "> I will be integrating W&B for visualizations and logging artifacts!\n",
    "> \n",
    "> [Space Titanic project on W&B Dashboard](https://wandb.ai/usharengaraju/SpaceTitanic)\n",
    "> \n",
    "> - To get the API key, create an account in the [website](https://wandb.ai/site) .\n",
    "> - Use secrets to use API Keys more securely \n",
    "\n"
   ]
  },
  {
   "cell_type": "code",
   "execution_count": 1,
   "id": "e05205f4",
   "metadata": {
    "execution": {
     "iopub.execute_input": "2022-02-24T04:17:25.504767Z",
     "iopub.status.busy": "2022-02-24T04:17:25.503808Z",
     "iopub.status.idle": "2022-02-24T04:17:35.016683Z",
     "shell.execute_reply": "2022-02-24T04:17:35.015927Z",
     "shell.execute_reply.started": "2022-02-24T04:05:15.280470Z"
    },
    "papermill": {
     "duration": 9.553842,
     "end_time": "2022-02-24T04:17:35.016860",
     "exception": false,
     "start_time": "2022-02-24T04:17:25.463018",
     "status": "completed"
    },
    "tags": []
   },
   "outputs": [],
   "source": [
    "import numpy as np\n",
    "import pandas as pd\n",
    "import matplotlib.pyplot as plt\n",
    "import seaborn as sns\n",
    "import sklearn.metrics as metrics\n",
    "import missingno as msno\n",
    "import shap\n",
    "\n",
    "import wandb\n",
    "\n",
    "from tensorflow.keras.layers import StringLookup\n",
    "import tensorflow as tf\n",
    "from tensorflow import keras\n",
    "from tensorflow.keras import layers\n",
    "import math\n",
    "\n",
    "#ignore warnings\n",
    "import warnings\n",
    "warnings.filterwarnings(\"ignore\")\n",
    "%matplotlib inline\n",
    "\n",
    "from sklearn.preprocessing import OneHotEncoder, LabelEncoder, StandardScaler\n",
    "from sklearn.compose import ColumnTransformer\n",
    "from sklearn.model_selection import train_test_split\n",
    "from sklearn.ensemble import RandomForestClassifier\n",
    "from sklearn.model_selection import cross_val_score\n",
    "from sklearn.metrics import accuracy_score, roc_curve,auc, confusion_matrix,precision_recall_curve,precision_recall_curve,plot_precision_recall_curve"
   ]
  },
  {
   "cell_type": "code",
   "execution_count": 2,
   "id": "c0223ee2",
   "metadata": {
    "_kg_hide-output": true,
    "execution": {
     "iopub.execute_input": "2022-02-24T04:17:35.097839Z",
     "iopub.status.busy": "2022-02-24T04:17:35.089704Z",
     "iopub.status.idle": "2022-02-24T04:17:38.060610Z",
     "shell.execute_reply": "2022-02-24T04:17:38.061302Z",
     "shell.execute_reply.started": "2022-02-24T04:05:20.193824Z"
    },
    "papermill": {
     "duration": 3.011248,
     "end_time": "2022-02-24T04:17:38.061487",
     "exception": false,
     "start_time": "2022-02-24T04:17:35.050239",
     "status": "completed"
    },
    "tags": []
   },
   "outputs": [
    {
     "name": "stderr",
     "output_type": "stream",
     "text": [
      "\u001b[34m\u001b[1mwandb\u001b[0m: W&B API key is configured (use `wandb login --relogin` to force relogin)\n",
      "\u001b[34m\u001b[1mwandb\u001b[0m: \u001b[33mWARNING\u001b[0m If you're specifying your api key in code, ensure this code is not shared publicly.\n",
      "\u001b[34m\u001b[1mwandb\u001b[0m: \u001b[33mWARNING\u001b[0m Consider setting the WANDB_API_KEY environment variable, or running `wandb login` from the command line.\n",
      "\u001b[34m\u001b[1mwandb\u001b[0m: Appending key for api.wandb.ai to your netrc file: /root/.netrc\n"
     ]
    }
   ],
   "source": [
    "try:\n",
    "    from kaggle_secrets import UserSecretsClient\n",
    "    user_secrets = UserSecretsClient()\n",
    "    secret_value_0 = user_secrets.get_secret(\"api_key\")\n",
    "    wandb.login(key=secret_value_0)\n",
    "    anony=None\n",
    "except:\n",
    "    anony = \"must\"\n",
    "    print('If you want to use your W&B account, go to Add-ons -> Secrets and provide your W&B access token. Use the Label name as wandb_api. \\nGet your W&B access token from here: https://wandb.ai/authorize')\n",
    "    \n",
    "CONFIG = dict(competition = 'SpaceTitanic',_wandb_kernel = 'tensorgirl')"
   ]
  },
  {
   "cell_type": "code",
   "execution_count": 3,
   "id": "0a2f4811",
   "metadata": {
    "execution": {
     "iopub.execute_input": "2022-02-24T04:17:38.134848Z",
     "iopub.status.busy": "2022-02-24T04:17:38.133769Z",
     "iopub.status.idle": "2022-02-24T04:17:38.216695Z",
     "shell.execute_reply": "2022-02-24T04:17:38.216009Z",
     "shell.execute_reply.started": "2022-02-24T04:12:16.982114Z"
    },
    "papermill": {
     "duration": 0.120159,
     "end_time": "2022-02-24T04:17:38.216837",
     "exception": false,
     "start_time": "2022-02-24T04:17:38.096678",
     "status": "completed"
    },
    "tags": []
   },
   "outputs": [],
   "source": [
    "df_train = pd.read_csv(\"../input/spaceship-titanic/train.csv\")\n",
    "df_test = pd.read_csv(\"../input/spaceship-titanic/test.csv\")\n",
    "NUMERIC_FEATURE_NAMES = [\n",
    "    \"Age\",\n",
    "    \"RoomService\",\n",
    "    \"FoodCourt\",\n",
    "    \"ShoppingMall\",\n",
    "    \"Spa\",\n",
    "    \"VRDeck\",\n",
    "]\n",
    "\n",
    "CATEGORICAL_FEATURE_NAMES1 = [\"HomePlanet\",\"CryoSleep\",\"Destination\",\"VIP\"]"
   ]
  },
  {
   "cell_type": "code",
   "execution_count": 4,
   "id": "4e314447",
   "metadata": {
    "execution": {
     "iopub.execute_input": "2022-02-24T04:17:38.293350Z",
     "iopub.status.busy": "2022-02-24T04:17:38.292630Z",
     "iopub.status.idle": "2022-02-24T04:17:38.386133Z",
     "shell.execute_reply": "2022-02-24T04:17:38.386661Z",
     "shell.execute_reply.started": "2022-02-24T04:00:06.138451Z"
    },
    "papermill": {
     "duration": 0.133883,
     "end_time": "2022-02-24T04:17:38.386830",
     "exception": false,
     "start_time": "2022-02-24T04:17:38.252947",
     "status": "completed"
    },
    "tags": []
   },
   "outputs": [
    {
     "data": {
      "text/html": [
       "<style type=\"text/css\">\n",
       "#T_d8761_row0_col5, #T_d8761_row3_col10 {\n",
       "  background-color: #fed9a6;\n",
       "  color: #000000;\n",
       "}\n",
       "#T_d8761_row0_col7, #T_d8761_row0_col8, #T_d8761_row0_col9, #T_d8761_row0_col10, #T_d8761_row0_col11, #T_d8761_row1_col8, #T_d8761_row1_col9, #T_d8761_row1_col10, #T_d8761_row2_col9, #T_d8761_row3_col7, #T_d8761_row4_col5, #T_d8761_row4_col8, #T_d8761_row4_col10, #T_d8761_row4_col11 {\n",
       "  background-color: #fbb4ae;\n",
       "  color: #000000;\n",
       "}\n",
       "#T_d8761_row1_col5, #T_d8761_row2_col7 {\n",
       "  background-color: #b3cde3;\n",
       "  color: #000000;\n",
       "}\n",
       "#T_d8761_row1_col7, #T_d8761_row3_col5, #T_d8761_row3_col8, #T_d8761_row4_col9 {\n",
       "  background-color: #decbe4;\n",
       "  color: #000000;\n",
       "}\n",
       "#T_d8761_row1_col11, #T_d8761_row2_col11 {\n",
       "  background-color: #ccebc5;\n",
       "  color: #000000;\n",
       "}\n",
       "#T_d8761_row2_col5, #T_d8761_row2_col8, #T_d8761_row2_col10, #T_d8761_row3_col9, #T_d8761_row3_col11, #T_d8761_row4_col7 {\n",
       "  background-color: #f2f2f2;\n",
       "  color: #000000;\n",
       "}\n",
       "</style>\n",
       "<table id=\"T_d8761_\">\n",
       "  <thead>\n",
       "    <tr>\n",
       "      <th class=\"blank level0\" >&nbsp;</th>\n",
       "      <th class=\"col_heading level0 col0\" >PassengerId</th>\n",
       "      <th class=\"col_heading level0 col1\" >HomePlanet</th>\n",
       "      <th class=\"col_heading level0 col2\" >CryoSleep</th>\n",
       "      <th class=\"col_heading level0 col3\" >Cabin</th>\n",
       "      <th class=\"col_heading level0 col4\" >Destination</th>\n",
       "      <th class=\"col_heading level0 col5\" >Age</th>\n",
       "      <th class=\"col_heading level0 col6\" >VIP</th>\n",
       "      <th class=\"col_heading level0 col7\" >RoomService</th>\n",
       "      <th class=\"col_heading level0 col8\" >FoodCourt</th>\n",
       "      <th class=\"col_heading level0 col9\" >ShoppingMall</th>\n",
       "      <th class=\"col_heading level0 col10\" >Spa</th>\n",
       "      <th class=\"col_heading level0 col11\" >VRDeck</th>\n",
       "      <th class=\"col_heading level0 col12\" >Name</th>\n",
       "      <th class=\"col_heading level0 col13\" >Transported</th>\n",
       "    </tr>\n",
       "  </thead>\n",
       "  <tbody>\n",
       "    <tr>\n",
       "      <th id=\"T_d8761_level0_row0\" class=\"row_heading level0 row0\" >0</th>\n",
       "      <td id=\"T_d8761_row0_col0\" class=\"data row0 col0\" >0001_01</td>\n",
       "      <td id=\"T_d8761_row0_col1\" class=\"data row0 col1\" >Europa</td>\n",
       "      <td id=\"T_d8761_row0_col2\" class=\"data row0 col2\" >False</td>\n",
       "      <td id=\"T_d8761_row0_col3\" class=\"data row0 col3\" >B/0/P</td>\n",
       "      <td id=\"T_d8761_row0_col4\" class=\"data row0 col4\" >TRAPPIST-1e</td>\n",
       "      <td id=\"T_d8761_row0_col5\" class=\"data row0 col5\" >39.000000</td>\n",
       "      <td id=\"T_d8761_row0_col6\" class=\"data row0 col6\" >False</td>\n",
       "      <td id=\"T_d8761_row0_col7\" class=\"data row0 col7\" >0.000000</td>\n",
       "      <td id=\"T_d8761_row0_col8\" class=\"data row0 col8\" >0.000000</td>\n",
       "      <td id=\"T_d8761_row0_col9\" class=\"data row0 col9\" >0.000000</td>\n",
       "      <td id=\"T_d8761_row0_col10\" class=\"data row0 col10\" >0.000000</td>\n",
       "      <td id=\"T_d8761_row0_col11\" class=\"data row0 col11\" >0.000000</td>\n",
       "      <td id=\"T_d8761_row0_col12\" class=\"data row0 col12\" >Maham Ofracculy</td>\n",
       "      <td id=\"T_d8761_row0_col13\" class=\"data row0 col13\" >False</td>\n",
       "    </tr>\n",
       "    <tr>\n",
       "      <th id=\"T_d8761_level0_row1\" class=\"row_heading level0 row1\" >1</th>\n",
       "      <td id=\"T_d8761_row1_col0\" class=\"data row1 col0\" >0002_01</td>\n",
       "      <td id=\"T_d8761_row1_col1\" class=\"data row1 col1\" >Earth</td>\n",
       "      <td id=\"T_d8761_row1_col2\" class=\"data row1 col2\" >False</td>\n",
       "      <td id=\"T_d8761_row1_col3\" class=\"data row1 col3\" >F/0/S</td>\n",
       "      <td id=\"T_d8761_row1_col4\" class=\"data row1 col4\" >TRAPPIST-1e</td>\n",
       "      <td id=\"T_d8761_row1_col5\" class=\"data row1 col5\" >24.000000</td>\n",
       "      <td id=\"T_d8761_row1_col6\" class=\"data row1 col6\" >False</td>\n",
       "      <td id=\"T_d8761_row1_col7\" class=\"data row1 col7\" >109.000000</td>\n",
       "      <td id=\"T_d8761_row1_col8\" class=\"data row1 col8\" >9.000000</td>\n",
       "      <td id=\"T_d8761_row1_col9\" class=\"data row1 col9\" >25.000000</td>\n",
       "      <td id=\"T_d8761_row1_col10\" class=\"data row1 col10\" >549.000000</td>\n",
       "      <td id=\"T_d8761_row1_col11\" class=\"data row1 col11\" >44.000000</td>\n",
       "      <td id=\"T_d8761_row1_col12\" class=\"data row1 col12\" >Juanna Vines</td>\n",
       "      <td id=\"T_d8761_row1_col13\" class=\"data row1 col13\" >True</td>\n",
       "    </tr>\n",
       "    <tr>\n",
       "      <th id=\"T_d8761_level0_row2\" class=\"row_heading level0 row2\" >2</th>\n",
       "      <td id=\"T_d8761_row2_col0\" class=\"data row2 col0\" >0003_01</td>\n",
       "      <td id=\"T_d8761_row2_col1\" class=\"data row2 col1\" >Europa</td>\n",
       "      <td id=\"T_d8761_row2_col2\" class=\"data row2 col2\" >False</td>\n",
       "      <td id=\"T_d8761_row2_col3\" class=\"data row2 col3\" >A/0/S</td>\n",
       "      <td id=\"T_d8761_row2_col4\" class=\"data row2 col4\" >TRAPPIST-1e</td>\n",
       "      <td id=\"T_d8761_row2_col5\" class=\"data row2 col5\" >58.000000</td>\n",
       "      <td id=\"T_d8761_row2_col6\" class=\"data row2 col6\" >True</td>\n",
       "      <td id=\"T_d8761_row2_col7\" class=\"data row2 col7\" >43.000000</td>\n",
       "      <td id=\"T_d8761_row2_col8\" class=\"data row2 col8\" >3576.000000</td>\n",
       "      <td id=\"T_d8761_row2_col9\" class=\"data row2 col9\" >0.000000</td>\n",
       "      <td id=\"T_d8761_row2_col10\" class=\"data row2 col10\" >6715.000000</td>\n",
       "      <td id=\"T_d8761_row2_col11\" class=\"data row2 col11\" >49.000000</td>\n",
       "      <td id=\"T_d8761_row2_col12\" class=\"data row2 col12\" >Altark Susent</td>\n",
       "      <td id=\"T_d8761_row2_col13\" class=\"data row2 col13\" >False</td>\n",
       "    </tr>\n",
       "    <tr>\n",
       "      <th id=\"T_d8761_level0_row3\" class=\"row_heading level0 row3\" >3</th>\n",
       "      <td id=\"T_d8761_row3_col0\" class=\"data row3 col0\" >0003_02</td>\n",
       "      <td id=\"T_d8761_row3_col1\" class=\"data row3 col1\" >Europa</td>\n",
       "      <td id=\"T_d8761_row3_col2\" class=\"data row3 col2\" >False</td>\n",
       "      <td id=\"T_d8761_row3_col3\" class=\"data row3 col3\" >A/0/S</td>\n",
       "      <td id=\"T_d8761_row3_col4\" class=\"data row3 col4\" >TRAPPIST-1e</td>\n",
       "      <td id=\"T_d8761_row3_col5\" class=\"data row3 col5\" >33.000000</td>\n",
       "      <td id=\"T_d8761_row3_col6\" class=\"data row3 col6\" >False</td>\n",
       "      <td id=\"T_d8761_row3_col7\" class=\"data row3 col7\" >0.000000</td>\n",
       "      <td id=\"T_d8761_row3_col8\" class=\"data row3 col8\" >1283.000000</td>\n",
       "      <td id=\"T_d8761_row3_col9\" class=\"data row3 col9\" >371.000000</td>\n",
       "      <td id=\"T_d8761_row3_col10\" class=\"data row3 col10\" >3329.000000</td>\n",
       "      <td id=\"T_d8761_row3_col11\" class=\"data row3 col11\" >193.000000</td>\n",
       "      <td id=\"T_d8761_row3_col12\" class=\"data row3 col12\" >Solam Susent</td>\n",
       "      <td id=\"T_d8761_row3_col13\" class=\"data row3 col13\" >False</td>\n",
       "    </tr>\n",
       "    <tr>\n",
       "      <th id=\"T_d8761_level0_row4\" class=\"row_heading level0 row4\" >4</th>\n",
       "      <td id=\"T_d8761_row4_col0\" class=\"data row4 col0\" >0004_01</td>\n",
       "      <td id=\"T_d8761_row4_col1\" class=\"data row4 col1\" >Earth</td>\n",
       "      <td id=\"T_d8761_row4_col2\" class=\"data row4 col2\" >False</td>\n",
       "      <td id=\"T_d8761_row4_col3\" class=\"data row4 col3\" >F/1/S</td>\n",
       "      <td id=\"T_d8761_row4_col4\" class=\"data row4 col4\" >TRAPPIST-1e</td>\n",
       "      <td id=\"T_d8761_row4_col5\" class=\"data row4 col5\" >16.000000</td>\n",
       "      <td id=\"T_d8761_row4_col6\" class=\"data row4 col6\" >False</td>\n",
       "      <td id=\"T_d8761_row4_col7\" class=\"data row4 col7\" >303.000000</td>\n",
       "      <td id=\"T_d8761_row4_col8\" class=\"data row4 col8\" >70.000000</td>\n",
       "      <td id=\"T_d8761_row4_col9\" class=\"data row4 col9\" >151.000000</td>\n",
       "      <td id=\"T_d8761_row4_col10\" class=\"data row4 col10\" >565.000000</td>\n",
       "      <td id=\"T_d8761_row4_col11\" class=\"data row4 col11\" >2.000000</td>\n",
       "      <td id=\"T_d8761_row4_col12\" class=\"data row4 col12\" >Willy Santantines</td>\n",
       "      <td id=\"T_d8761_row4_col13\" class=\"data row4 col13\" >True</td>\n",
       "    </tr>\n",
       "  </tbody>\n",
       "</table>\n"
      ],
      "text/plain": [
       "<pandas.io.formats.style.Styler at 0x7f77ccde74d0>"
      ]
     },
     "execution_count": 4,
     "metadata": {},
     "output_type": "execute_result"
    }
   ],
   "source": [
    "df_train.head().style.background_gradient(cmap=\"Pastel1\")"
   ]
  },
  {
   "cell_type": "markdown",
   "id": "90b1ca17",
   "metadata": {
    "papermill": {
     "duration": 0.036069,
     "end_time": "2022-02-24T04:17:38.457390",
     "exception": false,
     "start_time": "2022-02-24T04:17:38.421321",
     "status": "completed"
    },
    "tags": []
   },
   "source": [
    "# **<span style=\"color:#F7B2B0;\">Missing Values</span>**"
   ]
  },
  {
   "cell_type": "code",
   "execution_count": 5,
   "id": "a9e58110",
   "metadata": {
    "execution": {
     "iopub.execute_input": "2022-02-24T04:17:38.530013Z",
     "iopub.status.busy": "2022-02-24T04:17:38.529247Z",
     "iopub.status.idle": "2022-02-24T04:17:39.886118Z",
     "shell.execute_reply": "2022-02-24T04:17:39.885320Z",
     "shell.execute_reply.started": "2022-02-24T03:59:19.111193Z"
    },
    "papermill": {
     "duration": 1.394628,
     "end_time": "2022-02-24T04:17:39.886283",
     "exception": false,
     "start_time": "2022-02-24T04:17:38.491655",
     "status": "completed"
    },
    "tags": []
   },
   "outputs": [
    {
     "data": {
      "image/png": "[encoded data removed]",
      "text/plain": [
       "<Figure size 1800x792 with 2 Axes>"
      ]
     },
     "metadata": {
      "needs_background": "light"
     },
     "output_type": "display_data"
    }
   ],
   "source": [
    "plt.figure(figsize = (25,11))\n",
    "sns.heatmap(df_train.isna().values, cmap = ['#fef9ef','#fe6d73'], xticklabels=df_train.columns)\n",
    "plt.title(\"Missing values in training Data\", size=20);"
   ]
  },
  {
   "cell_type": "code",
   "execution_count": 6,
   "id": "00f13cf3",
   "metadata": {
    "execution": {
     "iopub.execute_input": "2022-02-24T04:17:39.963579Z",
     "iopub.status.busy": "2022-02-24T04:17:39.962877Z",
     "iopub.status.idle": "2022-02-24T04:17:39.995318Z",
     "shell.execute_reply": "2022-02-24T04:17:39.995827Z",
     "shell.execute_reply.started": "2022-02-24T03:59:44.777728Z"
    },
    "papermill": {
     "duration": 0.072814,
     "end_time": "2022-02-24T04:17:39.996014",
     "exception": false,
     "start_time": "2022-02-24T04:17:39.923200",
     "status": "completed"
    },
    "tags": []
   },
   "outputs": [
    {
     "data": {
      "text/html": [
       "<style type=\"text/css\">\n",
       "#T_3b8fb_row0_col0, #T_3b8fb_row5_col0 {\n",
       "  background-color: #ffffcc;\n",
       "  color: #000000;\n",
       "}\n",
       "#T_3b8fb_row1_col0 {\n",
       "  background-color: #f2f2f2;\n",
       "  color: #000000;\n",
       "}\n",
       "#T_3b8fb_row2_col0, #T_3b8fb_row11_col0 {\n",
       "  background-color: #fed9a6;\n",
       "  color: #000000;\n",
       "}\n",
       "#T_3b8fb_row3_col0, #T_3b8fb_row4_col0, #T_3b8fb_row6_col0, #T_3b8fb_row7_col0, #T_3b8fb_row9_col0 {\n",
       "  background-color: #fbb4ae;\n",
       "  color: #000000;\n",
       "}\n",
       "#T_3b8fb_row8_col0 {\n",
       "  background-color: #e5d8bd;\n",
       "  color: #000000;\n",
       "}\n",
       "#T_3b8fb_row10_col0 {\n",
       "  background-color: #ccebc5;\n",
       "  color: #000000;\n",
       "}\n",
       "</style>\n",
       "<table id=\"T_3b8fb_\">\n",
       "  <thead>\n",
       "    <tr>\n",
       "      <th class=\"blank level0\" >&nbsp;</th>\n",
       "      <th class=\"col_heading level0 col0\" >Null Values Count</th>\n",
       "    </tr>\n",
       "  </thead>\n",
       "  <tbody>\n",
       "    <tr>\n",
       "      <th id=\"T_3b8fb_level0_row0\" class=\"row_heading level0 row0\" >HomePlanet</th>\n",
       "      <td id=\"T_3b8fb_row0_col0\" class=\"data row0 col0\" >201</td>\n",
       "    </tr>\n",
       "    <tr>\n",
       "      <th id=\"T_3b8fb_level0_row1\" class=\"row_heading level0 row1\" >CryoSleep</th>\n",
       "      <td id=\"T_3b8fb_row1_col0\" class=\"data row1 col0\" >217</td>\n",
       "    </tr>\n",
       "    <tr>\n",
       "      <th id=\"T_3b8fb_level0_row2\" class=\"row_heading level0 row2\" >Cabin</th>\n",
       "      <td id=\"T_3b8fb_row2_col0\" class=\"data row2 col0\" >199</td>\n",
       "    </tr>\n",
       "    <tr>\n",
       "      <th id=\"T_3b8fb_level0_row3\" class=\"row_heading level0 row3\" >Destination</th>\n",
       "      <td id=\"T_3b8fb_row3_col0\" class=\"data row3 col0\" >182</td>\n",
       "    </tr>\n",
       "    <tr>\n",
       "      <th id=\"T_3b8fb_level0_row4\" class=\"row_heading level0 row4\" >Age</th>\n",
       "      <td id=\"T_3b8fb_row4_col0\" class=\"data row4 col0\" >179</td>\n",
       "    </tr>\n",
       "    <tr>\n",
       "      <th id=\"T_3b8fb_level0_row5\" class=\"row_heading level0 row5\" >VIP</th>\n",
       "      <td id=\"T_3b8fb_row5_col0\" class=\"data row5 col0\" >203</td>\n",
       "    </tr>\n",
       "    <tr>\n",
       "      <th id=\"T_3b8fb_level0_row6\" class=\"row_heading level0 row6\" >RoomService</th>\n",
       "      <td id=\"T_3b8fb_row6_col0\" class=\"data row6 col0\" >181</td>\n",
       "    </tr>\n",
       "    <tr>\n",
       "      <th id=\"T_3b8fb_level0_row7\" class=\"row_heading level0 row7\" >FoodCourt</th>\n",
       "      <td id=\"T_3b8fb_row7_col0\" class=\"data row7 col0\" >183</td>\n",
       "    </tr>\n",
       "    <tr>\n",
       "      <th id=\"T_3b8fb_level0_row8\" class=\"row_heading level0 row8\" >ShoppingMall</th>\n",
       "      <td id=\"T_3b8fb_row8_col0\" class=\"data row8 col0\" >208</td>\n",
       "    </tr>\n",
       "    <tr>\n",
       "      <th id=\"T_3b8fb_level0_row9\" class=\"row_heading level0 row9\" >Spa</th>\n",
       "      <td id=\"T_3b8fb_row9_col0\" class=\"data row9 col0\" >183</td>\n",
       "    </tr>\n",
       "    <tr>\n",
       "      <th id=\"T_3b8fb_level0_row10\" class=\"row_heading level0 row10\" >VRDeck</th>\n",
       "      <td id=\"T_3b8fb_row10_col0\" class=\"data row10 col0\" >188</td>\n",
       "    </tr>\n",
       "    <tr>\n",
       "      <th id=\"T_3b8fb_level0_row11\" class=\"row_heading level0 row11\" >Name</th>\n",
       "      <td id=\"T_3b8fb_row11_col0\" class=\"data row11 col0\" >200</td>\n",
       "    </tr>\n",
       "  </tbody>\n",
       "</table>\n"
      ],
      "text/plain": [
       "<pandas.io.formats.style.Styler at 0x7f776564f0d0>"
      ]
     },
     "execution_count": 6,
     "metadata": {},
     "output_type": "execute_result"
    }
   ],
   "source": [
    "missing_columns = [col for col in df_train.columns if df_train[col].isnull().any()]\n",
    "missingvalues_count =df_train.isna().sum()\n",
    "missingValues_df = pd.DataFrame(missingvalues_count.rename('Null Values Count')).loc[missingvalues_count.ne(0)]\n",
    "missingValues_df .style.background_gradient(cmap=\"Pastel1\")"
   ]
  },
  {
   "cell_type": "code",
   "execution_count": 7,
   "id": "32f44c84",
   "metadata": {
    "execution": {
     "iopub.execute_input": "2022-02-24T04:17:40.074316Z",
     "iopub.status.busy": "2022-02-24T04:17:40.073508Z",
     "iopub.status.idle": "2022-02-24T04:17:40.113248Z",
     "shell.execute_reply": "2022-02-24T04:17:40.113751Z",
     "shell.execute_reply.started": "2022-02-24T03:59:47.614781Z"
    },
    "papermill": {
     "duration": 0.08024,
     "end_time": "2022-02-24T04:17:40.113938",
     "exception": false,
     "start_time": "2022-02-24T04:17:40.033698",
     "status": "completed"
    },
    "tags": []
   },
   "outputs": [
    {
     "data": {
      "text/html": [
       "<style type=\"text/css\">\n",
       "#T_1c014_row0_col0, #T_1c014_row7_col1, #T_1c014_row7_col2, #T_1c014_row7_col3, #T_1c014_row7_col4, #T_1c014_row7_col5 {\n",
       "  background-color: #f2f2f2;\n",
       "  color: #000000;\n",
       "}\n",
       "#T_1c014_row0_col1 {\n",
       "  background-color: #ffffcc;\n",
       "  color: #000000;\n",
       "}\n",
       "#T_1c014_row0_col2 {\n",
       "  background-color: #ccebc5;\n",
       "  color: #000000;\n",
       "}\n",
       "#T_1c014_row0_col3, #T_1c014_row0_col4, #T_1c014_row0_col5 {\n",
       "  background-color: #decbe4;\n",
       "  color: #000000;\n",
       "}\n",
       "#T_1c014_row1_col0, #T_1c014_row1_col1, #T_1c014_row1_col2, #T_1c014_row1_col3, #T_1c014_row1_col4, #T_1c014_row1_col5, #T_1c014_row2_col0, #T_1c014_row2_col1, #T_1c014_row2_col2, #T_1c014_row2_col3, #T_1c014_row2_col4, #T_1c014_row2_col5, #T_1c014_row3_col0, #T_1c014_row3_col1, #T_1c014_row3_col2, #T_1c014_row3_col3, #T_1c014_row3_col4, #T_1c014_row3_col5, #T_1c014_row4_col0, #T_1c014_row4_col1, #T_1c014_row4_col2, #T_1c014_row4_col3, #T_1c014_row4_col4, #T_1c014_row4_col5, #T_1c014_row5_col0, #T_1c014_row5_col1, #T_1c014_row5_col2, #T_1c014_row5_col3, #T_1c014_row5_col4, #T_1c014_row5_col5, #T_1c014_row6_col0, #T_1c014_row6_col1, #T_1c014_row6_col2, #T_1c014_row6_col3, #T_1c014_row6_col4, #T_1c014_row6_col5, #T_1c014_row7_col0 {\n",
       "  background-color: #fbb4ae;\n",
       "  color: #000000;\n",
       "}\n",
       "</style>\n",
       "<table id=\"T_1c014_\">\n",
       "  <thead>\n",
       "    <tr>\n",
       "      <th class=\"blank level0\" >&nbsp;</th>\n",
       "      <th class=\"col_heading level0 col0\" >Age</th>\n",
       "      <th class=\"col_heading level0 col1\" >RoomService</th>\n",
       "      <th class=\"col_heading level0 col2\" >FoodCourt</th>\n",
       "      <th class=\"col_heading level0 col3\" >ShoppingMall</th>\n",
       "      <th class=\"col_heading level0 col4\" >Spa</th>\n",
       "      <th class=\"col_heading level0 col5\" >VRDeck</th>\n",
       "    </tr>\n",
       "  </thead>\n",
       "  <tbody>\n",
       "    <tr>\n",
       "      <th id=\"T_1c014_level0_row0\" class=\"row_heading level0 row0\" >count</th>\n",
       "      <td id=\"T_1c014_row0_col0\" class=\"data row0 col0\" >8514.000000</td>\n",
       "      <td id=\"T_1c014_row0_col1\" class=\"data row0 col1\" >8512.000000</td>\n",
       "      <td id=\"T_1c014_row0_col2\" class=\"data row0 col2\" >8510.000000</td>\n",
       "      <td id=\"T_1c014_row0_col3\" class=\"data row0 col3\" >8485.000000</td>\n",
       "      <td id=\"T_1c014_row0_col4\" class=\"data row0 col4\" >8510.000000</td>\n",
       "      <td id=\"T_1c014_row0_col5\" class=\"data row0 col5\" >8505.000000</td>\n",
       "    </tr>\n",
       "    <tr>\n",
       "      <th id=\"T_1c014_level0_row1\" class=\"row_heading level0 row1\" >mean</th>\n",
       "      <td id=\"T_1c014_row1_col0\" class=\"data row1 col0\" >28.827930</td>\n",
       "      <td id=\"T_1c014_row1_col1\" class=\"data row1 col1\" >224.687617</td>\n",
       "      <td id=\"T_1c014_row1_col2\" class=\"data row1 col2\" >458.077203</td>\n",
       "      <td id=\"T_1c014_row1_col3\" class=\"data row1 col3\" >173.729169</td>\n",
       "      <td id=\"T_1c014_row1_col4\" class=\"data row1 col4\" >311.138778</td>\n",
       "      <td id=\"T_1c014_row1_col5\" class=\"data row1 col5\" >304.854791</td>\n",
       "    </tr>\n",
       "    <tr>\n",
       "      <th id=\"T_1c014_level0_row2\" class=\"row_heading level0 row2\" >std</th>\n",
       "      <td id=\"T_1c014_row2_col0\" class=\"data row2 col0\" >14.489021</td>\n",
       "      <td id=\"T_1c014_row2_col1\" class=\"data row2 col1\" >666.717663</td>\n",
       "      <td id=\"T_1c014_row2_col2\" class=\"data row2 col2\" >1611.489240</td>\n",
       "      <td id=\"T_1c014_row2_col3\" class=\"data row2 col3\" >604.696458</td>\n",
       "      <td id=\"T_1c014_row2_col4\" class=\"data row2 col4\" >1136.705535</td>\n",
       "      <td id=\"T_1c014_row2_col5\" class=\"data row2 col5\" >1145.717189</td>\n",
       "    </tr>\n",
       "    <tr>\n",
       "      <th id=\"T_1c014_level0_row3\" class=\"row_heading level0 row3\" >min</th>\n",
       "      <td id=\"T_1c014_row3_col0\" class=\"data row3 col0\" >0.000000</td>\n",
       "      <td id=\"T_1c014_row3_col1\" class=\"data row3 col1\" >0.000000</td>\n",
       "      <td id=\"T_1c014_row3_col2\" class=\"data row3 col2\" >0.000000</td>\n",
       "      <td id=\"T_1c014_row3_col3\" class=\"data row3 col3\" >0.000000</td>\n",
       "      <td id=\"T_1c014_row3_col4\" class=\"data row3 col4\" >0.000000</td>\n",
       "      <td id=\"T_1c014_row3_col5\" class=\"data row3 col5\" >0.000000</td>\n",
       "    </tr>\n",
       "    <tr>\n",
       "      <th id=\"T_1c014_level0_row4\" class=\"row_heading level0 row4\" >25%</th>\n",
       "      <td id=\"T_1c014_row4_col0\" class=\"data row4 col0\" >19.000000</td>\n",
       "      <td id=\"T_1c014_row4_col1\" class=\"data row4 col1\" >0.000000</td>\n",
       "      <td id=\"T_1c014_row4_col2\" class=\"data row4 col2\" >0.000000</td>\n",
       "      <td id=\"T_1c014_row4_col3\" class=\"data row4 col3\" >0.000000</td>\n",
       "      <td id=\"T_1c014_row4_col4\" class=\"data row4 col4\" >0.000000</td>\n",
       "      <td id=\"T_1c014_row4_col5\" class=\"data row4 col5\" >0.000000</td>\n",
       "    </tr>\n",
       "    <tr>\n",
       "      <th id=\"T_1c014_level0_row5\" class=\"row_heading level0 row5\" >50%</th>\n",
       "      <td id=\"T_1c014_row5_col0\" class=\"data row5 col0\" >27.000000</td>\n",
       "      <td id=\"T_1c014_row5_col1\" class=\"data row5 col1\" >0.000000</td>\n",
       "      <td id=\"T_1c014_row5_col2\" class=\"data row5 col2\" >0.000000</td>\n",
       "      <td id=\"T_1c014_row5_col3\" class=\"data row5 col3\" >0.000000</td>\n",
       "      <td id=\"T_1c014_row5_col4\" class=\"data row5 col4\" >0.000000</td>\n",
       "      <td id=\"T_1c014_row5_col5\" class=\"data row5 col5\" >0.000000</td>\n",
       "    </tr>\n",
       "    <tr>\n",
       "      <th id=\"T_1c014_level0_row6\" class=\"row_heading level0 row6\" >75%</th>\n",
       "      <td id=\"T_1c014_row6_col0\" class=\"data row6 col0\" >38.000000</td>\n",
       "      <td id=\"T_1c014_row6_col1\" class=\"data row6 col1\" >47.000000</td>\n",
       "      <td id=\"T_1c014_row6_col2\" class=\"data row6 col2\" >76.000000</td>\n",
       "      <td id=\"T_1c014_row6_col3\" class=\"data row6 col3\" >27.000000</td>\n",
       "      <td id=\"T_1c014_row6_col4\" class=\"data row6 col4\" >59.000000</td>\n",
       "      <td id=\"T_1c014_row6_col5\" class=\"data row6 col5\" >46.000000</td>\n",
       "    </tr>\n",
       "    <tr>\n",
       "      <th id=\"T_1c014_level0_row7\" class=\"row_heading level0 row7\" >max</th>\n",
       "      <td id=\"T_1c014_row7_col0\" class=\"data row7 col0\" >79.000000</td>\n",
       "      <td id=\"T_1c014_row7_col1\" class=\"data row7 col1\" >14327.000000</td>\n",
       "      <td id=\"T_1c014_row7_col2\" class=\"data row7 col2\" >29813.000000</td>\n",
       "      <td id=\"T_1c014_row7_col3\" class=\"data row7 col3\" >23492.000000</td>\n",
       "      <td id=\"T_1c014_row7_col4\" class=\"data row7 col4\" >22408.000000</td>\n",
       "      <td id=\"T_1c014_row7_col5\" class=\"data row7 col5\" >24133.000000</td>\n",
       "    </tr>\n",
       "  </tbody>\n",
       "</table>\n"
      ],
      "text/plain": [
       "<pandas.io.formats.style.Styler at 0x7f7765653650>"
      ]
     },
     "execution_count": 7,
     "metadata": {},
     "output_type": "execute_result"
    }
   ],
   "source": [
    "# basic stats of features\n",
    "df_train.describe().style.background_gradient(cmap=\"Pastel1\")"
   ]
  },
  {
   "cell_type": "markdown",
   "id": "5e475de8",
   "metadata": {
    "papermill": {
     "duration": 0.037858,
     "end_time": "2022-02-24T04:17:40.191550",
     "exception": false,
     "start_time": "2022-02-24T04:17:40.153692",
     "status": "completed"
    },
    "tags": []
   },
   "source": [
    "# **<span style=\"color:#F7B2B0;\">Target variable distribution</span>**"
   ]
  },
  {
   "cell_type": "code",
   "execution_count": 8,
   "id": "4015de5d",
   "metadata": {
    "execution": {
     "iopub.execute_input": "2022-02-24T04:17:40.271354Z",
     "iopub.status.busy": "2022-02-24T04:17:40.270600Z",
     "iopub.status.idle": "2022-02-24T04:17:40.450926Z",
     "shell.execute_reply": "2022-02-24T04:17:40.450025Z",
     "shell.execute_reply.started": "2022-02-24T04:12:26.278514Z"
    },
    "papermill": {
     "duration": 0.221365,
     "end_time": "2022-02-24T04:17:40.451084",
     "exception": false,
     "start_time": "2022-02-24T04:17:40.229719",
     "status": "completed"
    },
    "tags": []
   },
   "outputs": [
    {
     "data": {
      "image/png": "[encoded data removed]",
      "text/plain": [
       "<Figure size 1080x504 with 1 Axes>"
      ]
     },
     "metadata": {
      "needs_background": "light"
     },
     "output_type": "display_data"
    }
   ],
   "source": [
    "plt.figure(figsize = (15, 7))    \n",
    "sns.countplot(y = df_train['Transported'], color = '#fe6d73')        \n",
    "plt.title(\"Target Distribution\")    \n",
    "plt.show()"
   ]
  },
  {
   "cell_type": "markdown",
   "id": "f9d2b165",
   "metadata": {
    "papermill": {
     "duration": 0.038492,
     "end_time": "2022-02-24T04:17:40.528602",
     "exception": false,
     "start_time": "2022-02-24T04:17:40.490110",
     "status": "completed"
    },
    "tags": []
   },
   "source": [
    "## **<span style=\"color:#e76f51;\">Numerical Feature Distribution</span>**"
   ]
  },
  {
   "cell_type": "code",
   "execution_count": 9,
   "id": "44b2bfa6",
   "metadata": {
    "execution": {
     "iopub.execute_input": "2022-02-24T04:17:40.628328Z",
     "iopub.status.busy": "2022-02-24T04:17:40.626406Z",
     "iopub.status.idle": "2022-02-24T04:17:42.556622Z",
     "shell.execute_reply": "2022-02-24T04:17:42.557158Z",
     "shell.execute_reply.started": "2022-02-24T04:12:31.797487Z"
    },
    "papermill": {
     "duration": 1.989681,
     "end_time": "2022-02-24T04:17:42.557331",
     "exception": false,
     "start_time": "2022-02-24T04:17:40.567650",
     "status": "completed"
    },
    "tags": []
   },
   "outputs": [
    {
     "data": {
      "image/png": "[encoded data removed]",
      "text/plain": [
       "<Figure size 1296x1296 with 6 Axes>"
      ]
     },
     "metadata": {
      "needs_background": "light"
     },
     "output_type": "display_data"
    }
   ],
   "source": [
    "fig, ax = plt.subplots(2,3, figsize=(18, 18))\n",
    "for i, feature in enumerate(NUMERIC_FEATURE_NAMES):\n",
    "    sns.distplot(df_train[feature], color = '#fe6d73', ax=ax[math.floor(i/3),i%3]).set_title(f'{feature} Distribution')\n",
    "fig.show()"
   ]
  },
  {
   "cell_type": "markdown",
   "id": "9634f03f",
   "metadata": {
    "papermill": {
     "duration": 0.041709,
     "end_time": "2022-02-24T04:17:42.641695",
     "exception": false,
     "start_time": "2022-02-24T04:17:42.599986",
     "status": "completed"
    },
    "tags": []
   },
   "source": [
    "## **<span style=\"color:#e76f51;\">Categorical Feature Distribution</span>**"
   ]
  },
  {
   "cell_type": "code",
   "execution_count": 10,
   "id": "8deea22f",
   "metadata": {
    "execution": {
     "iopub.execute_input": "2022-02-24T04:17:42.745493Z",
     "iopub.status.busy": "2022-02-24T04:17:42.744783Z",
     "iopub.status.idle": "2022-02-24T04:17:43.520644Z",
     "shell.execute_reply": "2022-02-24T04:17:43.520104Z",
     "shell.execute_reply.started": "2022-02-24T04:13:58.626167Z"
    },
    "papermill": {
     "duration": 0.837096,
     "end_time": "2022-02-24T04:17:43.520794",
     "exception": false,
     "start_time": "2022-02-24T04:17:42.683698",
     "status": "completed"
    },
    "tags": []
   },
   "outputs": [
    {
     "data": {
      "image/png": "[encoded data removed]",
      "text/plain": [
       "<Figure size 1080x504 with 1 Axes>"
      ]
     },
     "metadata": {
      "needs_background": "light"
     },
     "output_type": "display_data"
    },
    {
     "data": {
      "image/png": "[encoded data removed]",
      "text/plain": [
       "<Figure size 1080x504 with 1 Axes>"
      ]
     },
     "metadata": {
      "needs_background": "light"
     },
     "output_type": "display_data"
    },
    {
     "data": {
      "image/png": "[encoded data removed]",
      "text/plain": [
       "<Figure size 1080x504 with 1 Axes>"
      ]
     },
     "metadata": {
      "needs_background": "light"
     },
     "output_type": "display_data"
    },
    {
     "data": {
      "image/png": "[encoded data removed]",
      "text/plain": [
       "<Figure size 1080x504 with 1 Axes>"
      ]
     },
     "metadata": {
      "needs_background": "light"
     },
     "output_type": "display_data"
    }
   ],
   "source": [
    "def countplot_features(df_train, feature, title):\n",
    "    '''Takes a column from the dataframe and plots the distribution (after count).'''    \n",
    "           \n",
    "    plt.figure(figsize = (15, 7))\n",
    "    \n",
    "    sns.countplot(df_train[feature], color = '#fe6d73')\n",
    "        \n",
    "    plt.title(title, fontsize=15)\n",
    "    plt.xticks(rotation=45)\n",
    "    plt.show();\n",
    "\n",
    "# plot distributions of categorical features\n",
    "for feature in CATEGORICAL_FEATURE_NAMES1:\n",
    "    fig = countplot_features(df_train, feature=feature, title = \"Frequency of \"+ feature)"
   ]
  },
  {
   "cell_type": "markdown",
   "id": "7d08748e",
   "metadata": {
    "papermill": {
     "duration": 0.045021,
     "end_time": "2022-02-24T04:17:43.611365",
     "exception": false,
     "start_time": "2022-02-24T04:17:43.566344",
     "status": "completed"
    },
    "tags": []
   },
   "source": [
    "## **<span style=\"color:#e76f51;\">Correlation of Features</span>**"
   ]
  },
  {
   "cell_type": "code",
   "execution_count": 11,
   "id": "441d1700",
   "metadata": {
    "execution": {
     "iopub.execute_input": "2022-02-24T04:17:43.706485Z",
     "iopub.status.busy": "2022-02-24T04:17:43.705456Z",
     "iopub.status.idle": "2022-02-24T04:17:44.276337Z",
     "shell.execute_reply": "2022-02-24T04:17:44.276824Z",
     "shell.execute_reply.started": "2022-02-24T04:01:55.680796Z"
    },
    "papermill": {
     "duration": 0.620457,
     "end_time": "2022-02-24T04:17:44.277012",
     "exception": false,
     "start_time": "2022-02-24T04:17:43.656555",
     "status": "completed"
    },
    "tags": []
   },
   "outputs": [
    {
     "data": {
      "text/plain": [
       "<AxesSubplot:>"
      ]
     },
     "execution_count": 11,
     "metadata": {},
     "output_type": "execute_result"
    },
    {
     "data": {
      "image/png": "[encoded data removed]",
      "text/plain": [
       "<Figure size 1800x648 with 2 Axes>"
      ]
     },
     "metadata": {
      "needs_background": "light"
     },
     "output_type": "display_data"
    }
   ],
   "source": [
    "plt.figure(figsize=(25, 9))\n",
    "sns.heatmap(df_train[[f'{feature}' for feature in df_train.columns]].corr(),annot=True ,cmap = \"Pastel1\")"
   ]
  },
  {
   "cell_type": "markdown",
   "id": "f9e69182",
   "metadata": {
    "papermill": {
     "duration": 0.048165,
     "end_time": "2022-02-24T04:17:44.373038",
     "exception": false,
     "start_time": "2022-02-24T04:17:44.324873",
     "status": "completed"
    },
    "tags": []
   },
   "source": [
    "# **<span style=\"color:#e76f51;\">Preprocessing</span>**"
   ]
  },
  {
   "cell_type": "code",
   "execution_count": 12,
   "id": "cf856a3e",
   "metadata": {
    "execution": {
     "iopub.execute_input": "2022-02-24T04:17:44.479142Z",
     "iopub.status.busy": "2022-02-24T04:17:44.478423Z",
     "iopub.status.idle": "2022-02-24T04:17:44.484530Z",
     "shell.execute_reply": "2022-02-24T04:17:44.485035Z",
     "shell.execute_reply.started": "2022-02-24T04:16:13.597903Z"
    },
    "papermill": {
     "duration": 0.063807,
     "end_time": "2022-02-24T04:17:44.485231",
     "exception": false,
     "start_time": "2022-02-24T04:17:44.421424",
     "status": "completed"
    },
    "tags": []
   },
   "outputs": [],
   "source": [
    "df_train.drop(['PassengerId', 'Cabin','Name','CryoSleep','VIP'],axis =1 , inplace=True)\n",
    "df_test.drop(['PassengerId', 'Cabin','Name','CryoSleep','VIP'],axis = 1 ,inplace=True)\n",
    "df_train.Transported.replace([True,False], [\"1\", \"0\"], inplace=True)"
   ]
  },
  {
   "cell_type": "code",
   "execution_count": 13,
   "id": "64ac5445",
   "metadata": {
    "execution": {
     "iopub.execute_input": "2022-02-24T04:17:44.586701Z",
     "iopub.status.busy": "2022-02-24T04:17:44.585659Z",
     "iopub.status.idle": "2022-02-24T04:17:44.616302Z",
     "shell.execute_reply": "2022-02-24T04:17:44.616820Z",
     "shell.execute_reply.started": "2022-02-24T04:16:15.998489Z"
    },
    "papermill": {
     "duration": 0.083425,
     "end_time": "2022-02-24T04:17:44.617012",
     "exception": false,
     "start_time": "2022-02-24T04:17:44.533587",
     "status": "completed"
    },
    "tags": []
   },
   "outputs": [],
   "source": [
    "df_train[\"Age\"].fillna(df_train[\"Age\"].mean(skipna=True), inplace=True)\n",
    "df_test[\"Age\"].fillna(df_test[\"Age\"].mean(skipna=True), inplace=True)\n",
    "\n",
    "df_train[\"RoomService\"].fillna(df_train[\"RoomService\"].mean(skipna=True), inplace=True)\n",
    "df_test[\"RoomService\"].fillna(df_test[\"RoomService\"].mean(skipna=True), inplace=True)\n",
    "\n",
    "df_train[\"FoodCourt\"].fillna(df_train[\"FoodCourt\"].mean(skipna=True), inplace=True)\n",
    "df_test[\"FoodCourt\"].fillna(df_test[\"FoodCourt\"].mean(skipna=True), inplace=True)\n",
    "\n",
    "df_train[\"ShoppingMall\"].fillna(df_train[\"ShoppingMall\"].mean(skipna=True), inplace=True)\n",
    "df_test[\"ShoppingMall\"].fillna(df_test[\"ShoppingMall\"].mean(skipna=True), inplace=True)\n",
    "\n",
    "df_train[\"Spa\"].fillna(df_train[\"Spa\"].mean(skipna=True), inplace=True)\n",
    "df_test[\"Spa\"].fillna(df_test[\"Spa\"].mean(skipna=True), inplace=True)\n",
    "\n",
    "df_train[\"VRDeck\"].fillna(df_train[\"VRDeck\"].mean(skipna=True), inplace=True)\n",
    "df_test[\"VRDeck\"].fillna(df_test[\"VRDeck\"].mean(skipna=True), inplace=True)\n",
    "\n",
    "\n",
    "df_train[\"HomePlanet\"].fillna('Kepler', inplace=True)\n",
    "df_test[\"HomePlanet\"].fillna('Kepler', inplace=True)\n",
    "\n",
    "df_train[\"Destination\"].fillna('TRAPPIST-1e', inplace=True)\n",
    "df_test[\"Destination\"].fillna('TRAPPIST-1e', inplace=True)\n",
    "\n",
    "df_train.dropna(inplace = True)\n",
    "df_test.dropna(inplace = True)"
   ]
  },
  {
   "cell_type": "code",
   "execution_count": 14,
   "id": "43f970fc",
   "metadata": {
    "execution": {
     "iopub.execute_input": "2022-02-24T04:17:44.718230Z",
     "iopub.status.busy": "2022-02-24T04:17:44.717103Z",
     "iopub.status.idle": "2022-02-24T04:17:44.818588Z",
     "shell.execute_reply": "2022-02-24T04:17:44.817986Z",
     "shell.execute_reply.started": "2022-02-24T04:16:19.925212Z"
    },
    "papermill": {
     "duration": 0.15338,
     "end_time": "2022-02-24T04:17:44.818729",
     "exception": false,
     "start_time": "2022-02-24T04:17:44.665349",
     "status": "completed"
    },
    "tags": []
   },
   "outputs": [],
   "source": [
    "CSV_HEADER = [\n",
    "    \"HomePlanet\",\n",
    "    \"Destination\",\n",
    "    \"Age\",\n",
    "    \"RoomService\",\n",
    "    \"FoodCourt\",\n",
    "    \"ShoppingMall\",\n",
    "    \"Spa\",\n",
    "    \"VRDeck\",\n",
    "    \"Transported\",\n",
    "    ]\n",
    "\n",
    "train_data_file = \"train_data.csv\"\n",
    "test_data_file = \"test_data.csv\"\n",
    "\n",
    "df_train.to_csv(train_data_file, index=False, header=False)\n",
    "df_test.to_csv(test_data_file, index=False, header=False)"
   ]
  },
  {
   "cell_type": "markdown",
   "id": "a0fd59d1",
   "metadata": {
    "papermill": {
     "duration": 0.049086,
     "end_time": "2022-02-24T04:17:44.917010",
     "exception": false,
     "start_time": "2022-02-24T04:17:44.867924",
     "status": "completed"
    },
    "tags": []
   },
   "source": [
    "# **<span style=\"color:#e76f51;\">W & B Artifacts</span>**\n",
    "\n",
    "An artifact as a versioned folder of data.Entire datasets can be directly stored as artifacts .\n",
    "\n",
    "W&B Artifacts are used for dataset versioning, model versioning . They are also used for tracking dependencies and results across machine learning pipelines.Artifact references can be used to point to data in other systems like S3, GCP, or your own system.\n",
    "\n",
    "You can learn more about W&B artifacts [here](https://docs.wandb.ai/guides/artifacts)\n",
    "\n",
    "![](https://drive.google.com/uc?id=1JYSaIMXuEVBheP15xxuaex-32yzxgglV)"
   ]
  },
  {
   "cell_type": "code",
   "execution_count": 15,
   "id": "4b356d64",
   "metadata": {
    "_kg_hide-output": true,
    "execution": {
     "iopub.execute_input": "2022-02-24T04:17:45.021578Z",
     "iopub.status.busy": "2022-02-24T04:17:45.020529Z",
     "iopub.status.idle": "2022-02-24T04:18:00.222334Z",
     "shell.execute_reply": "2022-02-24T04:18:00.221650Z"
    },
    "papermill": {
     "duration": 15.253357,
     "end_time": "2022-02-24T04:18:00.222479",
     "exception": false,
     "start_time": "2022-02-24T04:17:44.969122",
     "status": "completed"
    },
    "tags": []
   },
   "outputs": [
    {
     "name": "stderr",
     "output_type": "stream",
     "text": [
      "\u001b[34m\u001b[1mwandb\u001b[0m: Currently logged in as: \u001b[33musharengaraju\u001b[0m (use `wandb login --relogin` to force relogin)\n"
     ]
    },
    {
     "data": {
      "text/html": [
       "\n",
       "                    Syncing run <strong><a href=\"https://wandb.ai/usharengaraju/SpaceTitanic/runs/3aq7vag7\" target=\"_blank\">training_data</a></strong> to <a href=\"https://wandb.ai/usharengaraju/SpaceTitanic\" target=\"_blank\">Weights & Biases</a> (<a href=\"https://docs.wandb.com/integrations/jupyter.html\" target=\"_blank\">docs</a>).<br/>\n",
       "\n",
       "                "
      ],
      "text/plain": [
       "<IPython.core.display.HTML object>"
      ]
     },
     "metadata": {},
     "output_type": "display_data"
    },
    {
     "data": {
      "text/html": [
       "<br/>Waiting for W&B process to finish, PID 63... <strong style=\"color:green\">(success).</strong>"
      ],
      "text/plain": [
       "<IPython.core.display.HTML object>"
      ]
     },
     "metadata": {},
     "output_type": "display_data"
    },
    {
     "data": {
      "application/vnd.jupyter.widget-view+json": {
       "model_id": "c287edd3a8264ab99a633d224123d1d6",
       "version_major": 2,
       "version_minor": 0
      },
      "text/plain": [
       "VBox(children=(Label(value=' 0.00MB of 0.00MB uploaded (0.00MB deduped)\\r'), FloatProgress(value=1.0, max=1.0)…"
      ]
     },
     "metadata": {},
     "output_type": "display_data"
    },
    {
     "data": {
      "text/html": [
       "<style>\n",
       "    table.wandb td:nth-child(1) { padding: 0 10px; text-align: right }\n",
       "    .wandb-row { display: flex; flex-direction: row; flex-wrap: wrap; width: 100% }\n",
       "    .wandb-col { display: flex; flex-direction: column; flex-basis: 100%; flex: 1; padding: 10px; }\n",
       "    </style>\n",
       "<div class=\"wandb-row\"><div class=\"wandb-col\">\n",
       "</div><div class=\"wandb-col\">\n",
       "</div></div>\n",
       "Synced 4 W&B file(s), 0 media file(s), 0 artifact file(s) and 0 other file(s)\n",
       "<br/>Synced <strong style=\"color:#cdcd00\">training_data</strong>: <a href=\"https://wandb.ai/usharengaraju/SpaceTitanic/runs/3aq7vag7\" target=\"_blank\">https://wandb.ai/usharengaraju/SpaceTitanic/runs/3aq7vag7</a><br/>\n",
       "Find logs at: <code>./wandb/run-20220224_041745-3aq7vag7/logs</code><br/>\n"
      ],
      "text/plain": [
       "<IPython.core.display.HTML object>"
      ]
     },
     "metadata": {},
     "output_type": "display_data"
    }
   ],
   "source": [
    "# Save train data to W&B Artifacts\n",
    "run = wandb.init(project='SpaceTitanic', name='training_data', anonymous=anony,config=CONFIG) \n",
    "artifact = wandb.Artifact(name='training_data',type='dataset')\n",
    "artifact.add_file(\"./train_data.csv\")\n",
    "\n",
    "wandb.log_artifact(artifact)\n",
    "wandb.finish()"
   ]
  },
  {
   "cell_type": "code",
   "execution_count": 16,
   "id": "47454270",
   "metadata": {
    "execution": {
     "iopub.execute_input": "2022-02-24T04:18:00.329659Z",
     "iopub.status.busy": "2022-02-24T04:18:00.329018Z",
     "iopub.status.idle": "2022-02-24T04:18:00.338072Z",
     "shell.execute_reply": "2022-02-24T04:18:00.338549Z",
     "shell.execute_reply.started": "2022-02-24T04:16:51.848651Z"
    },
    "papermill": {
     "duration": 0.063793,
     "end_time": "2022-02-24T04:18:00.338765",
     "exception": false,
     "start_time": "2022-02-24T04:18:00.274972",
     "status": "completed"
    },
    "tags": []
   },
   "outputs": [],
   "source": [
    "# A list of the numerical feature names.\n",
    "NUMERIC_FEATURE_NAMES = [\n",
    "    \"Age\",\n",
    "    \"RoomService\",\n",
    "    \"FoodCourt\",\n",
    "    \"ShoppingMall\",\n",
    "    \"Spa\",\n",
    "    \"VRDeck\",\n",
    "]\n",
    "# A dictionary of the categorical features and their vocabulary.\n",
    "CATEGORICAL_FEATURES_WITH_VOCABULARY = {\n",
    "    \"HomePlanet\": sorted(list(df_train[\"HomePlanet\"].unique())),\n",
    "    \"Destination\": sorted(list(df_train[\"Destination\"].unique())),\n",
    "        \n",
    "}\n",
    "\n",
    "# A list of the categorical feature names.\n",
    "CATEGORICAL_FEATURE_NAMES = list(CATEGORICAL_FEATURES_WITH_VOCABULARY.keys())\n",
    "\n",
    "# A list of all the input features.\n",
    "FEATURE_NAMES = NUMERIC_FEATURE_NAMES + CATEGORICAL_FEATURE_NAMES\n",
    "\n",
    "# The name of the target feature.\n",
    "TARGET_FEATURE_NAME = \"Transported\"\n",
    "\n",
    "# A list of the labels of the target features.\n",
    "TARGET_LABELS = [\"0\", \"1\"]\n"
   ]
  },
  {
   "cell_type": "markdown",
   "id": "5122cd44",
   "metadata": {
    "papermill": {
     "duration": 0.051121,
     "end_time": "2022-02-24T04:18:00.441207",
     "exception": false,
     "start_time": "2022-02-24T04:18:00.390086",
     "status": "completed"
    },
    "tags": []
   },
   "source": [
    "\n",
    "## **<span style=\"color:#e76f51;\">🎯tf.data</span>**\n",
    "\n",
    "tf.data API is used for building efficient input pipelines which can handle large amounts of data and perform complex data transformations . tf.data API has provisions for handling different data formats .\n",
    "\n",
    "\n",
    "## **<span style=\"color:#e76f51;\">🎯tf.data.Dataset</span>**\n",
    "\n",
    "tf.data.Dataset is an abstraction introduced by tf.data API and consists of sequence of elements where each element has one or more components . For example , in a tabular data pipeline , an element might be a single training example , with a pair of tensor components representing the input features and its label\n",
    "\n",
    "tf.data.Dataset can be created using two distinct ways\n",
    "\n",
    "Constructing a dataset using data stored in memory by a data source\n",
    "\n",
    "Constructing a dataset from one or more tf.data.Dataset objects by a data transformation"
   ]
  },
  {
   "cell_type": "code",
   "execution_count": 17,
   "id": "cc1f670a",
   "metadata": {
    "execution": {
     "iopub.execute_input": "2022-02-24T04:18:00.547777Z",
     "iopub.status.busy": "2022-02-24T04:18:00.547036Z",
     "iopub.status.idle": "2022-02-24T04:18:00.551773Z",
     "shell.execute_reply": "2022-02-24T04:18:00.552281Z",
     "shell.execute_reply.started": "2022-02-24T00:24:42.438436Z"
    },
    "papermill": {
     "duration": 0.059708,
     "end_time": "2022-02-24T04:18:00.552447",
     "exception": false,
     "start_time": "2022-02-24T04:18:00.492739",
     "status": "completed"
    },
    "tags": []
   },
   "outputs": [],
   "source": [
    "def get_dataset_from_csv(csv_file_path, shuffle=False, batch_size=128):\n",
    "    dataset = tf.data.experimental.make_csv_dataset(\n",
    "        csv_file_path,\n",
    "        batch_size=batch_size,\n",
    "        column_names=CSV_HEADER,\n",
    "        label_name=TARGET_FEATURE_NAME,\n",
    "        num_epochs=1,\n",
    "        shuffle=shuffle\n",
    "    )\n",
    "    return dataset.cache()"
   ]
  },
  {
   "cell_type": "markdown",
   "id": "b38b28d8",
   "metadata": {
    "papermill": {
     "duration": 0.052296,
     "end_time": "2022-02-24T04:18:00.656105",
     "exception": false,
     "start_time": "2022-02-24T04:18:00.603809",
     "status": "completed"
    },
    "tags": []
   },
   "source": [
    "## **<span style=\"color:#e76f51;\">🎯Model Inputs</span>**"
   ]
  },
  {
   "cell_type": "code",
   "execution_count": 18,
   "id": "d90bbad3",
   "metadata": {
    "execution": {
     "iopub.execute_input": "2022-02-24T04:18:00.762372Z",
     "iopub.status.busy": "2022-02-24T04:18:00.761670Z",
     "iopub.status.idle": "2022-02-24T04:18:00.766767Z",
     "shell.execute_reply": "2022-02-24T04:18:00.767255Z",
     "shell.execute_reply.started": "2022-02-24T00:24:42.458925Z"
    },
    "papermill": {
     "duration": 0.059823,
     "end_time": "2022-02-24T04:18:00.767438",
     "exception": false,
     "start_time": "2022-02-24T04:18:00.707615",
     "status": "completed"
    },
    "tags": []
   },
   "outputs": [],
   "source": [
    "def create_model_inputs():\n",
    "    inputs = {}\n",
    "    for feature_name in FEATURE_NAMES:\n",
    "        if feature_name in NUMERIC_FEATURE_NAMES:\n",
    "            inputs[feature_name] = layers.Input(\n",
    "                name=feature_name, shape=(), dtype=tf.float32\n",
    "            )\n",
    "        else:\n",
    "            inputs[feature_name] = layers.Input(\n",
    "                name=feature_name, shape=(), dtype=tf.string\n",
    "            )\n",
    "    return inputs"
   ]
  },
  {
   "cell_type": "markdown",
   "id": "72de5956",
   "metadata": {
    "papermill": {
     "duration": 0.050616,
     "end_time": "2022-02-24T04:18:00.869154",
     "exception": false,
     "start_time": "2022-02-24T04:18:00.818538",
     "status": "completed"
    },
    "tags": []
   },
   "source": [
    "## **<span style=\"color:#e76f51;\">Feature representation using Keras Preprocessing Layers</span>**\n",
    "\n",
    "Feature representations can be one of the crucial aspect in model developement workflows . It is a experimental process and there is no perfect solution . Keras preprocessing Layers helps us create more flexible preprocessing pipeline where new data transformations can be applied while changing the model architecture .\n",
    "\n",
    "![](https://drive.google.com/uc?id=1248y8JYTwjnxZnIEaTQHr1xV5jUZotLm)\n",
    "\n",
    "[ImageSource](https://blog.tensorflow.org/2021/11/an-introduction-to-keras-preprocessing.html)\n",
    "\n",
    "## **<span style=\"color:#e76f51;\">Keras Preprocessing Layers - Numerical Features</span>**\n",
    "\n",
    "The Keras preprocessing layers available for numerical features are below \n",
    "\n",
    "`tf.keras.layers.Normalization`: performs feature-wise normalization of input features.\n",
    "  \n",
    "`tf.keras.layers.Discretization`: turns continuous numerical features into integer categorical features.\n",
    "\n",
    "`adapt():`\n",
    "\n",
    "Adapt is an optional utility function which helps in setting the internal state of layers from input data . adapt() is available on all stateful processing layerrs and it computes mean and variance for the layerrs and stores them as layers weights . adapt() is called before fit() , evaluate or predict()\n",
    "\n",
    "\n",
    "## **<span style=\"color:#e76f51;\">Keras Preprocessing Layers - Categorical Features</span>**\n",
    "\n",
    "The various keras preprocessing layers available for categorical variables are below .\n",
    "\n",
    "`tf.keras.layers.CategoryEncoding:` turns integer categorical features into one-hot, multi-hot, or count dense representations.\n",
    "\n",
    "`tf.keras.layers.Hashing:` performs categorical feature hashing, also known as the \"hashing trick\".\n",
    "\n",
    "`tf.keras.layers.StringLookup:` turns string categorical values an encoded representation that can be read by an Embedding layer or Dense layer.\n",
    "\n",
    "`tf.keras.layers.IntegerLookup:` turns integer categorical values into an encoded representation that can be read by an Embedding layer or Dense layer."
   ]
  },
  {
   "cell_type": "code",
   "execution_count": 19,
   "id": "6f073736",
   "metadata": {
    "execution": {
     "iopub.execute_input": "2022-02-24T04:18:00.974744Z",
     "iopub.status.busy": "2022-02-24T04:18:00.973834Z",
     "iopub.status.idle": "2022-02-24T04:18:00.981962Z",
     "shell.execute_reply": "2022-02-24T04:18:00.982533Z",
     "shell.execute_reply.started": "2022-02-24T00:24:42.46951Z"
    },
    "papermill": {
     "duration": 0.06246,
     "end_time": "2022-02-24T04:18:00.982730",
     "exception": false,
     "start_time": "2022-02-24T04:18:00.920270",
     "status": "completed"
    },
    "tags": []
   },
   "outputs": [],
   "source": [
    "def encode_inputs(inputs):\n",
    "    encoded_features = []\n",
    "    for feature_name in inputs:\n",
    "        if feature_name in CATEGORICAL_FEATURE_NAMES:\n",
    "            vocabulary = CATEGORICAL_FEATURES_WITH_VOCABULARY[feature_name]\n",
    "            # Create a lookup to convert a string values to an integer indices.\n",
    "            # Since we are not using a mask token, nor expecting any out of vocabulary\n",
    "            # (oov) token, we set mask_token to None and num_oov_indices to 0.\n",
    "            lookup = StringLookup(\n",
    "                vocabulary=vocabulary, mask_token=None, num_oov_indices=0\n",
    "            )\n",
    "            # Convert the string input values into integer indices.\n",
    "            value_index = lookup(inputs[feature_name])\n",
    "            embedding_dims = int(math.sqrt(lookup.vocabulary_size()))\n",
    "            # Create an embedding layer with the specified dimensions.\n",
    "            embedding = layers.Embedding(\n",
    "                input_dim=lookup.vocabulary_size(), output_dim=embedding_dims\n",
    "            )\n",
    "            # Convert the index values to embedding representations.\n",
    "            encoded_feature = embedding(value_index)\n",
    "        else:\n",
    "            # Use the numerical features as-is.\n",
    "            encoded_feature = inputs[feature_name]\n",
    "            if inputs[feature_name].shape[-1] is None:\n",
    "                encoded_feature = tf.expand_dims(encoded_feature, -1)\n",
    "\n",
    "        encoded_features.append(encoded_feature)\n",
    "\n",
    "    encoded_features = layers.concatenate(encoded_features)\n",
    "    return encoded_features"
   ]
  },
  {
   "cell_type": "code",
   "execution_count": 20,
   "id": "991e0f99",
   "metadata": {
    "execution": {
     "iopub.execute_input": "2022-02-24T04:18:01.091457Z",
     "iopub.status.busy": "2022-02-24T04:18:01.090695Z",
     "iopub.status.idle": "2022-02-24T04:18:01.105811Z",
     "shell.execute_reply": "2022-02-24T04:18:01.106341Z",
     "shell.execute_reply.started": "2022-02-24T00:24:42.485516Z"
    },
    "papermill": {
     "duration": 0.071392,
     "end_time": "2022-02-24T04:18:01.106530",
     "exception": false,
     "start_time": "2022-02-24T04:18:01.035138",
     "status": "completed"
    },
    "tags": []
   },
   "outputs": [],
   "source": [
    "class NeuralDecisionTree(keras.Model):\n",
    "    def __init__(self, depth, num_features, used_features_rate, num_classes):\n",
    "        super(NeuralDecisionTree, self).__init__()\n",
    "        self.depth = depth\n",
    "        self.num_leaves = 2 ** depth\n",
    "        self.num_classes = num_classes\n",
    "\n",
    "        # Create a mask for the randomly selected features.\n",
    "        num_used_features = int(num_features * used_features_rate)\n",
    "        one_hot = np.eye(num_features)\n",
    "        sampled_feature_indicies = np.random.choice(\n",
    "            np.arange(num_features), num_used_features, replace=False\n",
    "        )\n",
    "        self.used_features_mask = one_hot[sampled_feature_indicies]\n",
    "\n",
    "        # Initialize the weights of the classes in leaves.\n",
    "        self.pi = tf.Variable(\n",
    "            initial_value=tf.random_normal_initializer()(\n",
    "                shape=[self.num_leaves, self.num_classes]\n",
    "            ),\n",
    "            dtype=\"float32\",\n",
    "            trainable=True,\n",
    "        )\n",
    "\n",
    "        # Initialize the stochastic routing layer.\n",
    "        self.decision_fn = layers.Dense(\n",
    "            units=self.num_leaves, activation=\"sigmoid\", name=\"decision\"\n",
    "        )\n",
    "\n",
    "    def call(self, features):\n",
    "        batch_size = tf.shape(features)[0]\n",
    "\n",
    "        # Apply the feature mask to the input features.\n",
    "        features = tf.matmul(\n",
    "            features, self.used_features_mask, transpose_b=True\n",
    "        )  # [batch_size, num_used_features]\n",
    "        # Compute the routing probabilities.\n",
    "        decisions = tf.expand_dims(\n",
    "            self.decision_fn(features), axis=2\n",
    "        )  # [batch_size, num_leaves, 1]\n",
    "        # Concatenate the routing probabilities with their complements.\n",
    "        decisions = layers.concatenate(\n",
    "            [decisions, 1 - decisions], axis=2\n",
    "        )  # [batch_size, num_leaves, 2]\n",
    "\n",
    "        mu = tf.ones([batch_size, 1, 1])\n",
    "\n",
    "        begin_idx = 1\n",
    "        end_idx = 2\n",
    "        # Traverse the tree in breadth-first order.\n",
    "        for level in range(self.depth):\n",
    "            mu = tf.reshape(mu, [batch_size, -1, 1])  # [batch_size, 2 ** level, 1]\n",
    "            mu = tf.tile(mu, (1, 1, 2))  # [batch_size, 2 ** level, 2]\n",
    "            level_decisions = decisions[\n",
    "                :, begin_idx:end_idx, :\n",
    "            ]  # [batch_size, 2 ** level, 2]\n",
    "            mu = mu * level_decisions  # [batch_size, 2**level, 2]\n",
    "            begin_idx = end_idx\n",
    "            end_idx = begin_idx + 2 ** (level + 1)\n",
    "\n",
    "        mu = tf.reshape(mu, [batch_size, self.num_leaves])  # [batch_size, num_leaves]\n",
    "        probabilities = keras.activations.softmax(self.pi)  # [num_leaves, num_classes]\n",
    "        outputs = tf.matmul(mu, probabilities)  # [batch_size, num_classes]\n",
    "        return outputs"
   ]
  },
  {
   "cell_type": "code",
   "execution_count": 21,
   "id": "c668738d",
   "metadata": {
    "execution": {
     "iopub.execute_input": "2022-02-24T04:18:01.219362Z",
     "iopub.status.busy": "2022-02-24T04:18:01.218292Z",
     "iopub.status.idle": "2022-02-24T04:18:01.220806Z",
     "shell.execute_reply": "2022-02-24T04:18:01.220266Z",
     "shell.execute_reply.started": "2022-02-24T00:24:42.504489Z"
    },
    "papermill": {
     "duration": 0.062439,
     "end_time": "2022-02-24T04:18:01.220961",
     "exception": false,
     "start_time": "2022-02-24T04:18:01.158522",
     "status": "completed"
    },
    "tags": []
   },
   "outputs": [],
   "source": [
    "class NeuralDecisionForest(keras.Model):\n",
    "    def __init__(self, num_trees, depth, num_features, used_features_rate, num_classes):\n",
    "        super(NeuralDecisionForest, self).__init__()\n",
    "        self.ensemble = []\n",
    "        # Initialize the ensemble by adding NeuralDecisionTree instances.\n",
    "        # Each tree will have its own randomly selected input features to use.\n",
    "        for _ in range(num_trees):\n",
    "            self.ensemble.append(\n",
    "                NeuralDecisionTree(depth, num_features, used_features_rate, num_classes)\n",
    "            )\n",
    "\n",
    "    def call(self, inputs):\n",
    "        # Initialize the outputs: a [batch_size, num_classes] matrix of zeros.\n",
    "        batch_size = tf.shape(inputs)[0]\n",
    "        outputs = tf.zeros([batch_size, num_classes])\n",
    "\n",
    "        # Aggregate the outputs of trees in the ensemble.\n",
    "        for tree in self.ensemble:\n",
    "            outputs += tree(inputs)\n",
    "        # Divide the outputs by the ensemble size to get the average.\n",
    "        outputs /= len(self.ensemble)\n",
    "        return outputs"
   ]
  },
  {
   "cell_type": "code",
   "execution_count": 22,
   "id": "7f151e55",
   "metadata": {
    "execution": {
     "iopub.execute_input": "2022-02-24T04:18:01.331800Z",
     "iopub.status.busy": "2022-02-24T04:18:01.331079Z",
     "iopub.status.idle": "2022-02-24T04:18:01.333146Z",
     "shell.execute_reply": "2022-02-24T04:18:01.333614Z",
     "shell.execute_reply.started": "2022-02-24T00:24:42.526049Z"
    },
    "papermill": {
     "duration": 0.061679,
     "end_time": "2022-02-24T04:18:01.333797",
     "exception": false,
     "start_time": "2022-02-24T04:18:01.272118",
     "status": "completed"
    },
    "tags": []
   },
   "outputs": [],
   "source": [
    "learning_rate = 0.01\n",
    "batch_size = 265\n",
    "num_epochs = 10\n",
    "hidden_units = [64, 64]\n",
    "num_trees = 25\n",
    "depth = 5\n",
    "used_features_rate = 0.5\n",
    "num_classes = len(TARGET_LABELS)\n",
    "\n",
    "\n",
    "def run_experiment(model):\n",
    "\n",
    "    model.compile(\n",
    "        optimizer=keras.optimizers.Adam(learning_rate=learning_rate),\n",
    "        loss=keras.losses.SparseCategoricalCrossentropy(),\n",
    "        metrics=[keras.metrics.SparseCategoricalAccuracy()],\n",
    "    )\n",
    "\n",
    "    print(\"Start training the model...\")\n",
    "    train_dataset = get_dataset_from_csv(\n",
    "        train_data_file, shuffle=True, batch_size=batch_size\n",
    "    )\n",
    "\n",
    "    model.fit(train_dataset, epochs=num_epochs)\n",
    "    print(\"Model training finished\")\n",
    "\n",
    "  "
   ]
  },
  {
   "cell_type": "code",
   "execution_count": 23,
   "id": "16d0bcf6",
   "metadata": {
    "execution": {
     "iopub.execute_input": "2022-02-24T04:18:01.442030Z",
     "iopub.status.busy": "2022-02-24T04:18:01.440932Z",
     "iopub.status.idle": "2022-02-24T04:18:30.204761Z",
     "shell.execute_reply": "2022-02-24T04:18:30.205446Z",
     "shell.execute_reply.started": "2022-02-24T00:24:42.538063Z"
    },
    "papermill": {
     "duration": 28.819488,
     "end_time": "2022-02-24T04:18:30.205636",
     "exception": false,
     "start_time": "2022-02-24T04:18:01.386148",
     "status": "completed"
    },
    "tags": []
   },
   "outputs": [
    {
     "name": "stderr",
     "output_type": "stream",
     "text": [
      "2022-02-24 04:18:01.493926: I tensorflow/core/common_runtime/process_util.cc:146] Creating new thread pool with default inter op setting: 2. Tune using inter_op_parallelism_threads for best performance.\n"
     ]
    },
    {
     "name": "stdout",
     "output_type": "stream",
     "text": [
      "Start training the model...\n"
     ]
    },
    {
     "name": "stderr",
     "output_type": "stream",
     "text": [
      "2022-02-24 04:18:03.620531: I tensorflow/compiler/mlir/mlir_graph_optimization_pass.cc:185] None of the MLIR Optimization Passes are enabled (registered 2)\n"
     ]
    },
    {
     "name": "stdout",
     "output_type": "stream",
     "text": [
      "Epoch 1/10\n",
      "33/33 [==============================] - 19s 26ms/step - loss: 0.6765 - sparse_categorical_accuracy: 0.6699\n",
      "Epoch 2/10\n",
      "33/33 [==============================] - 1s 23ms/step - loss: 0.6088 - sparse_categorical_accuracy: 0.7142\n",
      "Epoch 3/10\n",
      "33/33 [==============================] - 1s 23ms/step - loss: 0.5513 - sparse_categorical_accuracy: 0.7429\n",
      "Epoch 4/10\n",
      "33/33 [==============================] - 1s 24ms/step - loss: 0.5234 - sparse_categorical_accuracy: 0.7582\n",
      "Epoch 5/10\n",
      "33/33 [==============================] - 1s 23ms/step - loss: 0.5102 - sparse_categorical_accuracy: 0.7647\n",
      "Epoch 6/10\n",
      "33/33 [==============================] - 1s 23ms/step - loss: 0.5028 - sparse_categorical_accuracy: 0.7681\n",
      "Epoch 7/10\n",
      "33/33 [==============================] - 1s 23ms/step - loss: 0.4978 - sparse_categorical_accuracy: 0.7728\n",
      "Epoch 8/10\n",
      "33/33 [==============================] - 1s 23ms/step - loss: 0.4942 - sparse_categorical_accuracy: 0.7746\n",
      "Epoch 9/10\n",
      "33/33 [==============================] - 1s 23ms/step - loss: 0.4914 - sparse_categorical_accuracy: 0.7765\n",
      "Epoch 10/10\n",
      "33/33 [==============================] - 1s 24ms/step - loss: 0.4893 - sparse_categorical_accuracy: 0.7766\n",
      "Model training finished\n"
     ]
    }
   ],
   "source": [
    "\n",
    "def create_forest_model():\n",
    "    inputs = create_model_inputs()\n",
    "    features = encode_inputs(inputs)\n",
    "    features = layers.BatchNormalization()(features)\n",
    "    num_features = features.shape[1]\n",
    "\n",
    "    forest_model = NeuralDecisionForest(\n",
    "        num_trees, depth, num_features, used_features_rate, num_classes\n",
    "    )\n",
    "\n",
    "    outputs = forest_model(features)\n",
    "    model = keras.Model(inputs=inputs, outputs=outputs)\n",
    "    return model\n",
    "\n",
    "forest_model = create_forest_model()\n",
    "run_experiment(forest_model)\n"
   ]
  },
  {
   "cell_type": "markdown",
   "id": "9642963b",
   "metadata": {
    "papermill": {
     "duration": 0.098744,
     "end_time": "2022-02-24T04:18:30.405547",
     "exception": false,
     "start_time": "2022-02-24T04:18:30.306803",
     "status": "completed"
    },
    "tags": []
   },
   "source": [
    "# **<span style=\"color:#F7B2B0;\">References</span>**\n",
    "\n",
    "[Deep Neural Decision Forests](https://github.com/keras-team/keras-io/blob/master/examples/structured_data/deep_neural_decision_forests.py)"
   ]
  },
  {
   "cell_type": "markdown",
   "id": "8936bab7",
   "metadata": {
    "papermill": {
     "duration": 0.098742,
     "end_time": "2022-02-24T04:18:30.603377",
     "exception": false,
     "start_time": "2022-02-24T04:18:30.504635",
     "status": "completed"
    },
    "tags": []
   },
   "source": [
    "# Work in progress 🚧"
   ]
  },
  {
   "cell_type": "code",
   "execution_count": null,
   "id": "6600f63b",
   "metadata": {
    "papermill": {
     "duration": 0.098348,
     "end_time": "2022-02-24T04:18:30.800674",
     "exception": false,
     "start_time": "2022-02-24T04:18:30.702326",
     "status": "completed"
    },
    "tags": []
   },
   "outputs": [],
   "source": []
  }
 ],
 "metadata": {
  "kernelspec": {
   "display_name": "Python 3",
   "language": "python",
   "name": "python3"
  },
  "language_info": {
   "codemirror_mode": {
    "name": "ipython",
    "version": 3
   },
   "file_extension": ".py",
   "mimetype": "text/x-python",
   "name": "python",
   "nbconvert_exporter": "python",
   "pygments_lexer": "ipython3",
   "version": "3.7.12"
  },
  "papermill": {
   "default_parameters": {},
   "duration": 78.707367,
   "end_time": "2022-02-24T04:18:34.170524",
   "environment_variables": {},
   "exception": null,
   "input_path": "__notebook__.ipynb",
   "output_path": "__notebook__.ipynb",
   "parameters": {},
   "start_time": "2022-02-24T04:17:15.463157",
   "version": "2.3.3"
  },
  "widgets": {
   "application/vnd.jupyter.widget-state+json": {
    "state": {
     "31aeb20256ff4579afcc0969f9c58e3d": {
      "model_module": "@jupyter-widgets/base",
      "model_module_version": "1.2.0",
      "model_name": "LayoutModel",
      "state": {
       "_model_module": "@jupyter-widgets/base",
       "_model_module_version": "1.2.0",
       "_model_name": "LayoutModel",
       "_view_count": null,
       "_view_module": "@jupyter-widgets/base",
       "_view_module_version": "1.2.0",
       "_view_name": "LayoutView",
       "align_content": null,
       "align_items": null,
       "align_self": null,
       "border": null,
       "bottom": null,
       "display": null,
       "flex": null,
       "flex_flow": null,
       "grid_area": null,
       "grid_auto_columns": null,
       "grid_auto_flow": null,
       "grid_auto_rows": null,
       "grid_column": null,
       "grid_gap": null,
       "grid_row": null,
       "grid_template_areas": null,
       "grid_template_columns": null,
       "grid_template_rows": null,
       "height": null,
       "justify_content": null,
       "justify_items": null,
       "left": null,
       "margin": null,
       "max_height": null,
       "max_width": null,
       "min_height": null,
       "min_width": null,
       "object_fit": null,
       "object_position": null,
       "order": null,
       "overflow": null,
       "overflow_x": null,
       "overflow_y": null,
       "padding": null,
       "right": null,
       "top": null,
       "visibility": null,
       "width": null
      }
     },
     "5969f64800474b60ab4f59f7f0e02d77": {
      "model_module": "@jupyter-widgets/base",
      "model_module_version": "1.2.0",
      "model_name": "LayoutModel",
      "state": {
       "_model_module": "@jupyter-widgets/base",
       "_model_module_version": "1.2.0",
       "_model_name": "LayoutModel",
       "_view_count": null,
       "_view_module": "@jupyter-widgets/base",
       "_view_module_version": "1.2.0",
       "_view_name": "LayoutView",
       "align_content": null,
       "align_items": null,
       "align_self": null,
       "border": null,
       "bottom": null,
       "display": null,
       "flex": null,
       "flex_flow": null,
       "grid_area": null,
       "grid_auto_columns": null,
       "grid_auto_flow": null,
       "grid_auto_rows": null,
       "grid_column": null,
       "grid_gap": null,
       "grid_row": null,
       "grid_template_areas": null,
       "grid_template_columns": null,
       "grid_template_rows": null,
       "height": null,
       "justify_content": null,
       "justify_items": null,
       "left": null,
       "margin": null,
       "max_height": null,
       "max_width": null,
       "min_height": null,
       "min_width": null,
       "object_fit": null,
       "object_position": null,
       "order": null,
       "overflow": null,
       "overflow_x": null,
       "overflow_y": null,
       "padding": null,
       "right": null,
       "top": null,
       "visibility": null,
       "width": null
      }
     },
     "68273be1ce154c9e8f3665a301146c85": {
      "model_module": "@jupyter-widgets/controls",
      "model_module_version": "1.5.0",
      "model_name": "LabelModel",
      "state": {
       "_dom_classes": [],
       "_model_module": "@jupyter-widgets/controls",
       "_model_module_version": "1.5.0",
       "_model_name": "LabelModel",
       "_view_count": null,
       "_view_module": "@jupyter-widgets/controls",
       "_view_module_version": "1.5.0",
       "_view_name": "LabelView",
       "description": "",
       "description_tooltip": null,
       "layout": "IPY_MODEL_5969f64800474b60ab4f59f7f0e02d77",
       "placeholder": "​",
       "style": "IPY_MODEL_7a660fd08f814307b68ebc2fffe22883",
       "value": " 0.01MB of 0.01MB uploaded (0.00MB deduped)\r"
      }
     },
     "7a660fd08f814307b68ebc2fffe22883": {
      "model_module": "@jupyter-widgets/controls",
      "model_module_version": "1.5.0",
      "model_name": "DescriptionStyleModel",
      "state": {
       "_model_module": "@jupyter-widgets/controls",
       "_model_module_version": "1.5.0",
       "_model_name": "DescriptionStyleModel",
       "_view_count": null,
       "_view_module": "@jupyter-widgets/base",
       "_view_module_version": "1.2.0",
       "_view_name": "StyleView",
       "description_width": ""
      }
     },
     "7b9f0ee1b0ec475daf60e5dcc4a98644": {
      "model_module": "@jupyter-widgets/base",
      "model_module_version": "1.2.0",
      "model_name": "LayoutModel",
      "state": {
       "_model_module": "@jupyter-widgets/base",
       "_model_module_version": "1.2.0",
       "_model_name": "LayoutModel",
       "_view_count": null,
       "_view_module": "@jupyter-widgets/base",
       "_view_module_version": "1.2.0",
       "_view_name": "LayoutView",
       "align_content": null,
       "align_items": null,
       "align_self": null,
       "border": null,
       "bottom": null,
       "display": null,
       "flex": null,
       "flex_flow": null,
       "grid_area": null,
       "grid_auto_columns": null,
       "grid_auto_flow": null,
       "grid_auto_rows": null,
       "grid_column": null,
       "grid_gap": null,
       "grid_row": null,
       "grid_template_areas": null,
       "grid_template_columns": null,
       "grid_template_rows": null,
       "height": null,
       "justify_content": null,
       "justify_items": null,
       "left": null,
       "margin": null,
       "max_height": null,
       "max_width": null,
       "min_height": null,
       "min_width": null,
       "object_fit": null,
       "object_position": null,
       "order": null,
       "overflow": null,
       "overflow_x": null,
       "overflow_y": null,
       "padding": null,
       "right": null,
       "top": null,
       "visibility": null,
       "width": null
      }
     },
     "a0b29cd18d5246dbaea17957c317f5cd": {
      "model_module": "@jupyter-widgets/controls",
      "model_module_version": "1.5.0",
      "model_name": "ProgressStyleModel",
      "state": {
       "_model_module": "@jupyter-widgets/controls",
       "_model_module_version": "1.5.0",
       "_model_name": "ProgressStyleModel",
       "_view_count": null,
       "_view_module": "@jupyter-widgets/base",
       "_view_module_version": "1.2.0",
       "_view_name": "StyleView",
       "bar_color": null,
       "description_width": ""
      }
     },
     "a0c6eb57816f4330bf9eb276211f2064": {
      "model_module": "@jupyter-widgets/controls",
      "model_module_version": "1.5.0",
      "model_name": "FloatProgressModel",
      "state": {
       "_dom_classes": [],
       "_model_module": "@jupyter-widgets/controls",
       "_model_module_version": "1.5.0",
       "_model_name": "FloatProgressModel",
       "_view_count": null,
       "_view_module": "@jupyter-widgets/controls",
       "_view_module_version": "1.5.0",
       "_view_name": "ProgressView",
       "bar_style": "",
       "description": "",
       "description_tooltip": null,
       "layout": "IPY_MODEL_31aeb20256ff4579afcc0969f9c58e3d",
       "max": 1.0,
       "min": 0.0,
       "orientation": "horizontal",
       "style": "IPY_MODEL_a0b29cd18d5246dbaea17957c317f5cd",
       "value": 1.0
      }
     },
     "c287edd3a8264ab99a633d224123d1d6": {
      "model_module": "@jupyter-widgets/controls",
      "model_module_version": "1.5.0",
      "model_name": "VBoxModel",
      "state": {
       "_dom_classes": [],
       "_model_module": "@jupyter-widgets/controls",
       "_model_module_version": "1.5.0",
       "_model_name": "VBoxModel",
       "_view_count": null,
       "_view_module": "@jupyter-widgets/controls",
       "_view_module_version": "1.5.0",
       "_view_name": "VBoxView",
       "box_style": "",
       "children": [
        "IPY_MODEL_68273be1ce154c9e8f3665a301146c85",
        "IPY_MODEL_a0c6eb57816f4330bf9eb276211f2064"
       ],
       "layout": "IPY_MODEL_7b9f0ee1b0ec475daf60e5dcc4a98644"
      }
     }
    },
    "version_major": 2,
    "version_minor": 0
   }
  }
 },
 "nbformat": 4,
 "nbformat_minor": 5
}
