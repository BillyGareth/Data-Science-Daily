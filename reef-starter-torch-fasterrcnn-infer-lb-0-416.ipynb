{
 "cells": [
  {
   "cell_type": "markdown",
   "metadata": {
    "_kg_hide-input": false,
    "papermill": {
     "duration": 0.007869,
     "end_time": "2021-11-24T20:52:45.789554",
     "exception": false,
     "start_time": "2021-11-24T20:52:45.781685",
     "status": "completed"
    },
    "tags": []
   },
   "source": [
    "# 🐠 Reef - Pytorch FasterRCNN Infer\n",
    "\n",
    "## A self-contained, simple, pure pytorch 🔥 Faster R-CNN implementation with `LB=0.413`\n",
    "\n",
    "![](https://storage.googleapis.com/kaggle-competitions/kaggle/31703/logos/header.png)\n",
    "\n",
    "#### FasterR-CNN is one of the SOTA models for Object detection.\n",
    "\n",
    "### In this notebook we present a simple solution using a pure pytorch Faster R-CNN with pretrained weights, and finetuning it for few epochs.\n",
    "\n",
    "\n",
    "Is is an adapted version of [this notebook](https://www.kaggle.com/pestipeti/pytorch-starter-fasterrcnn-inference) mentioned in [this comment](https://www.kaggle.com/c/tensorflow-great-barrier-reef/discussion/290016)\n",
    "\n",
    "## You can find the [training notebook here](https://www.kaggle.com/julian3833/coral-reef-pytorch-starter-fasterrcnn-train)\n",
    "\n",
    "\n",
    "## Details: \n",
    "- FasterRCNN from torchvision\n",
    "- Use Resnet50 backbone\n",
    "\n",
    "\n",
    "# Please, _DO_ upvote if you find it useful or interesting!!\n",
    "\n",
    "&nbsp;\n",
    "&nbsp;\n",
    "&nbsp;\n",
    "&nbsp;\n",
    "\n",
    "---\n",
    "\n",
    "### Changelog\n",
    "\n",
    "\n",
    "|Best| Version | Description|  Weights| LB |\n",
    "|---| --- | ----| --- | --- |\n",
    "|| [**V5**](https://www.kaggle.com/julian3833/reef-starter-torch-fasterrcnn-infer-lb-0-293?scriptVersionId=80517131)  | 2 epochs. `detection_threshold=0.5` | [coral-reef-pytorch-starter-fasterrcnn-weights](https://www.kaggle.com/julian3833/coral-reef-pytorch-starter-fasterrcnn-weights) | `0.201`|\n",
    "|| [**V6**](https://www.kaggle.com/julian3833/reef-starter-torch-fasterrcnn-infer-lb-0-293?scriptVersionId=80518365)  | `detection_threshold=0.66` | [coral-reef-pytorch-starter-fasterrcnn-weights](https://www.kaggle.com/julian3833/coral-reef-pytorch-starter-fasterrcnn-weights) |`0.243`|\n",
    "|| [**V7**](https://www.kaggle.com/julian3833/reef-starter-torch-fasterrcnn-infer-lb-0-293?scriptVersionId=80520095)  | `detection_threshold=0.85` |[coral-reef-pytorch-starter-fasterrcnn-weights](https://www.kaggle.com/julian3833/coral-reef-pytorch-starter-fasterrcnn-weights) | `0.292`|\n",
    "|| [**V8**](https://www.kaggle.com/julian3833/reef-starter-torch-fasterrcnn-infer-lb-0-293?scriptVersionId=80534807)  | `detection_threshold=0.9` |  [coral-reef-pytorch-starter-fasterrcnn-weights](https://www.kaggle.com/julian3833/coral-reef-pytorch-starter-fasterrcnn-weights)|`0.293`|\n",
    "|| [**V10**](https://www.kaggle.com/julian3833/reef-starter-torch-fasterrcnn-infer-lb-0-293)  | V8 + 4 epochs | [reef-starter-torch-fasterrcnn-4e](https://www.kaggle.com/julian3833/reef-starter-torch-fasterrcnn-4e) | `0.361`|\n",
    "|| [**V11**](https://www.kaggle.com/julian3833/reef-starter-torch-fasterrcnn-infer-lb-0-361?scriptVersionId=80610091)  | Train 8 epochs with validation. Pick best epoch (6th epoch ) | [reef-starter-torch-fasterrcnn-8e](https://www.kaggle.com/julian3833/reef-starter-torch-fasterrcnn-8e) |`0.343`|\n",
    "|| [**V12**](https://www.kaggle.com/julian3833/reef-starter-torch-fasterrcnn-infer-lb-0-361?scriptVersionId=80622626)  | V11 + `detection_threshold=0.66` | [reef-starter-torch-fasterrcnn-8e](https://www.kaggle.com/julian3833/reef-starter-torch-fasterrcnn-8e) |  `0.369`|\n",
    "|_Best_| [**V13**](https://www.kaggle.com/julian3833/reef-starter-torch-fasterrcnn-infer-lb-0-413?scriptVersionId=80624811)  |Best of 12 epochs, lower LR (epoch=5th) + `detection_threshold=0.66` | [reef-starter-torch-fasterrcnn-12e](https://www.kaggle.com/julian3833/reef-starter-torch-fasterrcnn-12e) |  `0.413` |\n",
    "|| [**V14**](https://www.kaggle.com/julian3833/reef-starter-torch-fasterrcnn-infer-lb-0-293)  | Best of 12 epochs. Split 90-10. Augmentations.  (epoch=8th) + `detection_threshold=0.66` | [reef-starter-torch-fasterrcnn-12e-v2](https://www.kaggle.com/julian3833/reef-starter-torch-fasterrcnn-12e-v2) |  `??` |\n",
    "\n",
    "\n",
    "---"
   ]
  },
  {
   "cell_type": "markdown",
   "metadata": {
    "papermill": {
     "duration": 0.006446,
     "end_time": "2021-11-24T20:52:45.802931",
     "exception": false,
     "start_time": "2021-11-24T20:52:45.796485",
     "status": "completed"
    },
    "tags": []
   },
   "source": [
    "# Imports"
   ]
  },
  {
   "cell_type": "code",
   "execution_count": 1,
   "metadata": {
    "_cell_guid": "b1076dfc-b9ad-4769-8c92-a6c4dae69d19",
    "_uuid": "8f2839f25d086af736a60e9eeb907d3b93b6e0e5",
    "execution": {
     "iopub.execute_input": "2021-11-24T01:15:48.931866Z",
     "iopub.status.busy": "2021-11-24T01:15:48.931318Z",
     "iopub.status.idle": "2021-11-24T01:15:51.465785Z",
     "shell.execute_reply": "2021-11-24T01:15:51.46487Z",
     "shell.execute_reply.started": "2021-11-24T01:15:48.9318Z"
    },
    "papermill": {
     "duration": 2.588647,
     "end_time": "2021-11-24T20:52:48.398396",
     "exception": false,
     "start_time": "2021-11-24T20:52:45.809749",
     "status": "completed"
    },
    "tags": []
   },
   "outputs": [],
   "source": [
    "import numpy as np\n",
    "from albumentations.pytorch.transforms import ToTensorV2\n",
    "\n",
    "import torch\n",
    "import torchvision\n",
    "from torchvision.models.detection.faster_rcnn import FastRCNNPredictor\n",
    "from torchvision.models.detection import FasterRCNN\n",
    "\n",
    "device = torch.device('cuda') if torch.cuda.is_available() else torch.device('cpu')\n",
    "\n",
    "WEIGHTS_FILE = \"../input/reef-starter-torch-fasterrcnn-12e-v2/fasterrcnn_resnet50_fpn-e7.bin\""
   ]
  },
  {
   "cell_type": "markdown",
   "metadata": {
    "papermill": {
     "duration": 0.006632,
     "end_time": "2021-11-24T20:52:48.412609",
     "exception": false,
     "start_time": "2021-11-24T20:52:48.405977",
     "status": "completed"
    },
    "tags": []
   },
   "source": [
    "# Model"
   ]
  },
  {
   "cell_type": "code",
   "execution_count": 2,
   "metadata": {
    "execution": {
     "iopub.execute_input": "2021-11-24T01:15:51.467878Z",
     "iopub.status.busy": "2021-11-24T01:15:51.46747Z",
     "iopub.status.idle": "2021-11-24T01:15:51.475665Z",
     "shell.execute_reply": "2021-11-24T01:15:51.474025Z",
     "shell.execute_reply.started": "2021-11-24T01:15:51.467824Z"
    },
    "papermill": {
     "duration": 7.14973,
     "end_time": "2021-11-24T20:52:55.569371",
     "exception": false,
     "start_time": "2021-11-24T20:52:48.419641",
     "status": "completed"
    },
    "tags": []
   },
   "outputs": [],
   "source": [
    "def get_model():\n",
    "    model = torchvision.models.detection.fasterrcnn_resnet50_fpn(pretrained=False, pretrained_backbone=False)\n",
    "    num_classes = 2  # 1 class (starfish) + background\n",
    "\n",
    "    # get number of input features for the classifier\n",
    "    in_features = model.roi_heads.box_predictor.cls_score.in_features\n",
    "\n",
    "    # replace the pre-trained head with a new one\n",
    "    model.roi_heads.box_predictor = FastRCNNPredictor(in_features, num_classes)\n",
    "\n",
    "    # Load the trained weights\n",
    "    model.load_state_dict(torch.load(WEIGHTS_FILE))\n",
    "    model.eval()\n",
    "\n",
    "    model = model.to(device)\n",
    "    return model\n",
    "\n",
    "model = get_model()"
   ]
  },
  {
   "cell_type": "markdown",
   "metadata": {
    "papermill": {
     "duration": 0.006395,
     "end_time": "2021-11-24T20:52:55.582662",
     "exception": false,
     "start_time": "2021-11-24T20:52:55.576267",
     "status": "completed"
    },
    "tags": []
   },
   "source": [
    "# Predict functions"
   ]
  },
  {
   "cell_type": "code",
   "execution_count": 3,
   "metadata": {
    "execution": {
     "iopub.execute_input": "2021-11-24T01:15:58.143057Z",
     "iopub.status.busy": "2021-11-24T01:15:58.142761Z",
     "iopub.status.idle": "2021-11-24T01:15:58.149164Z",
     "shell.execute_reply": "2021-11-24T01:15:58.148459Z",
     "shell.execute_reply.started": "2021-11-24T01:15:58.143011Z"
    },
    "papermill": {
     "duration": 0.012839,
     "end_time": "2021-11-24T20:52:55.602426",
     "exception": false,
     "start_time": "2021-11-24T20:52:55.589587",
     "status": "completed"
    },
    "tags": []
   },
   "outputs": [],
   "source": [
    "detection_threshold = 0.66"
   ]
  },
  {
   "cell_type": "code",
   "execution_count": 4,
   "metadata": {
    "execution": {
     "iopub.execute_input": "2021-11-24T01:15:58.152821Z",
     "iopub.status.busy": "2021-11-24T01:15:58.152542Z",
     "iopub.status.idle": "2021-11-24T01:15:58.164493Z",
     "shell.execute_reply": "2021-11-24T01:15:58.163732Z",
     "shell.execute_reply.started": "2021-11-24T01:15:58.152778Z"
    },
    "papermill": {
     "duration": 0.01993,
     "end_time": "2021-11-24T20:52:55.628981",
     "exception": false,
     "start_time": "2021-11-24T20:52:55.609051",
     "status": "completed"
    },
    "tags": []
   },
   "outputs": [],
   "source": [
    "def format_prediction_string(boxes, scores):\n",
    "    # Format as specified in the evaluation page\n",
    "    pred_strings = []\n",
    "    for j in zip(scores, boxes):\n",
    "        pred_strings.append(\"{0:.2f} {1} {2} {3} {4}\".format(j[0], j[1][0], j[1][1], j[1][2], j[1][3]))\n",
    "\n",
    "    return \" \".join(pred_strings)\n",
    "\n",
    "\n",
    "def predict(model, pixel_array):\n",
    "    # Predictions for a single image\n",
    "    \n",
    "    # Apply all the transformations that are required\n",
    "    pixel_array = pixel_array.astype(np.float32) / 255.\n",
    "    tensor_img = ToTensorV2(p=1.0)(image=pixel_array)['image'].unsqueeze(0)\n",
    "    \n",
    "    # Get predictions\n",
    "    with torch.no_grad():\n",
    "        outputs = model(tensor_img.to(device))[0]\n",
    "    \n",
    "    # Move predictions to cpu and numpy\n",
    "    boxes = outputs['boxes'].data.cpu().numpy()\n",
    "    scores = outputs['scores'].data.cpu().numpy()\n",
    "    \n",
    "    # Filter predictions with low score\n",
    "    boxes = boxes[scores >= detection_threshold].astype(np.int32)\n",
    "    scores = scores[scores >= detection_threshold]\n",
    "    \n",
    "    # Go back from x_min, y_min, x_max, y_max to x_min, y_min, w, h\n",
    "    boxes[:, 2] = boxes[:, 2] - boxes[:, 0]\n",
    "    boxes[:, 3] = boxes[:, 3] - boxes[:, 1]\n",
    "  \n",
    "    # Format results as requested in the Evaluation tab\n",
    "    return format_prediction_string(boxes, scores)"
   ]
  },
  {
   "cell_type": "markdown",
   "metadata": {
    "papermill": {
     "duration": 0.00636,
     "end_time": "2021-11-24T20:52:55.641997",
     "exception": false,
     "start_time": "2021-11-24T20:52:55.635637",
     "status": "completed"
    },
    "tags": []
   },
   "source": [
    "# Submit\n",
    "\n",
    "## See: [Great Barrier Reef API Tutorial](https://www.kaggle.com/sohier/great-barrier-reef-api-tutorial)"
   ]
  },
  {
   "cell_type": "code",
   "execution_count": 5,
   "metadata": {
    "execution": {
     "iopub.execute_input": "2021-11-24T01:16:52.771377Z",
     "iopub.status.busy": "2021-11-24T01:16:52.771073Z",
     "iopub.status.idle": "2021-11-24T01:16:53.297905Z",
     "shell.execute_reply": "2021-11-24T01:16:53.297031Z",
     "shell.execute_reply.started": "2021-11-24T01:16:52.771329Z"
    },
    "papermill": {
     "duration": 1.158087,
     "end_time": "2021-11-24T20:52:56.806553",
     "exception": false,
     "start_time": "2021-11-24T20:52:55.648466",
     "status": "completed"
    },
    "tags": []
   },
   "outputs": [
    {
     "name": "stdout",
     "output_type": "stream",
     "text": [
      "This version of the API is not optimized and should not be used to estimate the runtime of your code on the hidden test set.\n"
     ]
    }
   ],
   "source": [
    "import greatbarrierreef\n",
    "env = greatbarrierreef.make_env()\n",
    "iter_test = env.iter_test() \n",
    "\n",
    "for (pixel_array, df_pred) in iter_test:  # iterate through all test set images\n",
    "    df_pred['annotations'] = predict(model, pixel_array)\n",
    "    env.predict(df_pred)"
   ]
  },
  {
   "cell_type": "markdown",
   "metadata": {
    "papermill": {
     "duration": 0.006822,
     "end_time": "2021-11-24T20:52:56.822360",
     "exception": false,
     "start_time": "2021-11-24T20:52:56.815538",
     "status": "completed"
    },
    "tags": []
   },
   "source": [
    "# Please, _DO_ upvote if you find it useful or interesting!!"
   ]
  }
 ],
 "metadata": {
  "kernelspec": {
   "display_name": "Python 3",
   "language": "python",
   "name": "python3"
  },
  "language_info": {
   "codemirror_mode": {
    "name": "ipython",
    "version": 3
   },
   "file_extension": ".py",
   "mimetype": "text/x-python",
   "name": "python",
   "nbconvert_exporter": "python",
   "pygments_lexer": "ipython3",
   "version": "3.7.6"
  },
  "papermill": {
   "duration": 15.343249,
   "end_time": "2021-11-24T20:52:57.636422",
   "environment_variables": {},
   "exception": null,
   "input_path": "__notebook__.ipynb",
   "output_path": "__notebook__.ipynb",
   "parameters": {},
   "start_time": "2021-11-24T20:52:42.293173",
   "version": "1.2.1"
  }
 },
 "nbformat": 4,
 "nbformat_minor": 4
}
