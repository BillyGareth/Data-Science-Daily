{
 "cells": [
  {
   "cell_type": "markdown",
   "id": "0db56bda",
   "metadata": {
    "papermill": {
     "duration": 0.011277,
     "end_time": "2021-10-05T22:07:03.367046",
     "exception": false,
     "start_time": "2021-10-05T22:07:03.355769",
     "status": "completed"
    },
    "tags": []
   },
   "source": [
    "# Boost CV LB +0.2 with RAPIDS SVR Head\n",
    "In this notebook, we demonstrate how to add a RAPIDS SVR second head to an already trained CNN or Image Transformer with first head. This boosts CV LB by +0.2! This trick was used in CommonLit Comp [here][3] to boost our team into Gold Medal!\n",
    "\n",
    "We begin with [Abhishek's][2] public notebook [here][1] which already contains a fully trained Image Transformer model (with NN head). Now in this notebook, we extract the image embeddings (from the trained fold models) and train additional RAPIDS SVR heads for each fold. The original NN head achieves overall CV RSME 18.0 and the new RAPIDS SVR head achieves overall CV RSME 18.0. Both heads are very diverse because the NN head uses Classification (BCE) loss and the SVR head uses Regression loss. During inference, we predict with both heads. When we average both heads' predictions, we achieve overall CV RSME 17.8!\n",
    "\n",
    "The technique illustrated here can be applied to any trained image (or NLP) model for CV LB boost! In the first version of this notebook, we train the SVR heads and save the fold models. Then, in later notebook versions and during Kaggle submission, we load the saved SVR models (from this notebook's version 1 which was made into a Kaggle dataset).\n",
    "\n",
    "[1]: https://www.kaggle.com/abhishek/tez-pawpular-swin-ference\n",
    "[2]: https://www.kaggle.com/abhishek\n",
    "[3]: https://www.kaggle.com/c/commonlitreadabilityprize/discussion/260800"
   ]
  },
  {
   "cell_type": "markdown",
   "id": "61276b7e",
   "metadata": {
    "papermill": {
     "duration": 0.009734,
     "end_time": "2021-10-05T22:07:03.388699",
     "exception": false,
     "start_time": "2021-10-05T22:07:03.378965",
     "status": "completed"
    },
    "tags": []
   },
   "source": [
    "# How to Add RAPIDS SVR Head\n",
    "There are 3 steps to building a double headed model. The first step is to train your Image NN backbone and head. This was done by Abhishek in his notebook [here][1] and achieves CV RSME 18.0. The next step is to train our RAPIDS SVR head with extracted embeddings from frozen Image NN backbone. This is done in version 1 of notebook you are reading [here][2] and achieves CV RSME 18.0. Lastly, we infer with both heads and average the predictions. This is done in the notebook you are reading and achieves CV RSME 17.8!\n",
    "\n",
    "![](https://raw.githubusercontent.com/cdeotte/Kaggle_Images/main/Oct-2021/st1.png)\n",
    "![](https://raw.githubusercontent.com/cdeotte/Kaggle_Images/main/Oct-2021/st2.png)\n",
    "![](https://raw.githubusercontent.com/cdeotte/Kaggle_Images/main/Oct-2021/st3.png)\n",
    "\n",
    "[1]: https://www.kaggle.com/abhishek/tez-pawpular-swin-ference\n",
    "[2]: https://www.kaggle.com/cdeotte/rapids-svr-boost-17-8?scriptVersionId=76282086"
   ]
  },
  {
   "cell_type": "markdown",
   "id": "7dac5e80",
   "metadata": {
    "papermill": {
     "duration": 0.009693,
     "end_time": "2021-10-05T22:07:03.408138",
     "exception": false,
     "start_time": "2021-10-05T22:07:03.398445",
     "status": "completed"
    },
    "tags": []
   },
   "source": [
    "# Load Libraries"
   ]
  },
  {
   "cell_type": "code",
   "execution_count": 1,
   "id": "3b72d761",
   "metadata": {
    "_kg_hide-input": true,
    "execution": {
     "iopub.execute_input": "2021-10-05T22:07:03.508693Z",
     "iopub.status.busy": "2021-10-05T22:07:03.507905Z",
     "iopub.status.idle": "2021-10-05T22:07:12.119488Z",
     "shell.execute_reply": "2021-10-05T22:07:12.118575Z",
     "shell.execute_reply.started": "2021-10-04T03:57:34.038678Z"
    },
    "papermill": {
     "duration": 8.701617,
     "end_time": "2021-10-05T22:07:12.119641",
     "exception": false,
     "start_time": "2021-10-05T22:07:03.418024",
     "status": "completed"
    },
    "tags": []
   },
   "outputs": [],
   "source": [
    "# based on the post here: https://www.kaggle.com/c/petfinder-pawpularity-score/discussion/275094\n",
    "\n",
    "import sys\n",
    "sys.path.append(\"../input/tez-lib/\")\n",
    "sys.path.append(\"../input/timmmaster/\")\n",
    "\n",
    "import tez\n",
    "import albumentations\n",
    "import pandas as pd\n",
    "import cv2\n",
    "import numpy as np\n",
    "import timm\n",
    "import torch.nn as nn\n",
    "from sklearn import metrics\n",
    "import torch\n",
    "from tez.callbacks import EarlyStopping\n",
    "from tqdm import tqdm\n",
    "import math\n",
    "\n",
    "class args:\n",
    "    batch_size = 16\n",
    "    image_size = 384\n",
    "    \n",
    "def sigmoid(x):\n",
    "    return 1 / (1 + math.exp(-x))"
   ]
  },
  {
   "cell_type": "markdown",
   "id": "3d579c9c",
   "metadata": {
    "papermill": {
     "duration": 0.009896,
     "end_time": "2021-10-05T22:07:12.139824",
     "exception": false,
     "start_time": "2021-10-05T22:07:12.129928",
     "status": "completed"
    },
    "tags": []
   },
   "source": [
    "# Define Swim Model and Swim Dataset"
   ]
  },
  {
   "cell_type": "code",
   "execution_count": 2,
   "id": "d0fb6d79",
   "metadata": {
    "_cell_guid": "b1076dfc-b9ad-4769-8c92-a6c4dae69d19",
    "_kg_hide-input": true,
    "_uuid": "8f2839f25d086af736a60e9eeb907d3b93b6e0e5",
    "execution": {
     "iopub.execute_input": "2021-10-05T22:07:12.176466Z",
     "iopub.status.busy": "2021-10-05T22:07:12.174759Z",
     "iopub.status.idle": "2021-10-05T22:07:12.177077Z",
     "shell.execute_reply": "2021-10-05T22:07:12.177487Z",
     "shell.execute_reply.started": "2021-10-04T03:57:42.248172Z"
    },
    "papermill": {
     "duration": 0.027653,
     "end_time": "2021-10-05T22:07:12.177608",
     "exception": false,
     "start_time": "2021-10-05T22:07:12.149955",
     "status": "completed"
    },
    "tags": []
   },
   "outputs": [],
   "source": [
    "class PawpularDataset:\n",
    "    def __init__(self, image_paths, dense_features, targets, augmentations):\n",
    "        self.image_paths = image_paths\n",
    "        self.dense_features = dense_features\n",
    "        self.targets = targets\n",
    "        self.augmentations = augmentations\n",
    "        \n",
    "    def __len__(self):\n",
    "        return len(self.image_paths)\n",
    "    \n",
    "    def __getitem__(self, item):\n",
    "        image = cv2.imread(self.image_paths[item])\n",
    "        image = cv2.cvtColor(image, cv2.COLOR_BGR2RGB)\n",
    "        \n",
    "        if self.augmentations is not None:\n",
    "            augmented = self.augmentations(image=image)\n",
    "            image = augmented[\"image\"]\n",
    "            \n",
    "        image = np.transpose(image, (2, 0, 1)).astype(np.float32)\n",
    "        \n",
    "        features = self.dense_features[item, :]\n",
    "        targets = self.targets[item]\n",
    "        \n",
    "        return {\n",
    "            \"image\": torch.tensor(image, dtype=torch.float),\n",
    "            \"features\": torch.tensor(features, dtype=torch.float),\n",
    "            \"targets\": torch.tensor(targets, dtype=torch.float),\n",
    "        }\n",
    "    \n",
    "class PawpularModel(tez.Model):\n",
    "    def __init__(self, model_name):\n",
    "        super().__init__()\n",
    "        self.model = timm.create_model(model_name, pretrained=False, in_chans=3)\n",
    "        self.model.head = nn.Linear(self.model.head.in_features, 128)\n",
    "        self.dropout = nn.Dropout(0.1)\n",
    "        self.dense1 = nn.Linear(140, 64)\n",
    "        self.dense2 = nn.Linear(64, 1)\n",
    "\n",
    "    def forward(self, image, features, targets=None):\n",
    "        x1 = self.model(image)\n",
    "        x = self.dropout(x1)\n",
    "        x = torch.cat([x, features], dim=1)\n",
    "        x = self.dense1(x)\n",
    "        x = self.dense2(x)\n",
    "        \n",
    "        x = torch.cat([x, x1, features], dim=1)\n",
    "        return x, 0, {}\n",
    "    \n",
    "test_aug = albumentations.Compose(\n",
    "    [\n",
    "        albumentations.Resize(args.image_size, args.image_size, p=1),\n",
    "        albumentations.Normalize(\n",
    "            mean=[0.485, 0.456, 0.406],\n",
    "            std=[0.229, 0.224, 0.225],\n",
    "            max_pixel_value=255.0,\n",
    "            p=1.0,\n",
    "        ),\n",
    "    ],\n",
    "    p=1.0,\n",
    ")"
   ]
  },
  {
   "cell_type": "markdown",
   "id": "5df6b965",
   "metadata": {
    "papermill": {
     "duration": 0.009649,
     "end_time": "2021-10-05T22:07:12.197049",
     "exception": false,
     "start_time": "2021-10-05T22:07:12.187400",
     "status": "completed"
    },
    "tags": []
   },
   "source": [
    "# Import RAPIDS"
   ]
  },
  {
   "cell_type": "code",
   "execution_count": 3,
   "id": "53d78695",
   "metadata": {
    "execution": {
     "iopub.execute_input": "2021-10-05T22:07:12.221006Z",
     "iopub.status.busy": "2021-10-05T22:07:12.220411Z",
     "iopub.status.idle": "2021-10-05T22:07:15.646291Z",
     "shell.execute_reply": "2021-10-05T22:07:15.646771Z",
     "shell.execute_reply.started": "2021-10-04T03:57:42.266715Z"
    },
    "papermill": {
     "duration": 3.440029,
     "end_time": "2021-10-05T22:07:15.646926",
     "exception": false,
     "start_time": "2021-10-05T22:07:12.206897",
     "status": "completed"
    },
    "tags": []
   },
   "outputs": [
    {
     "name": "stdout",
     "output_type": "stream",
     "text": [
      "RAPIDS version 21.08.01 \n",
      "\n",
      "Train shape: (9912, 15)\n"
     ]
    },
    {
     "data": {
      "text/html": [
       "<div>\n",
       "<style scoped>\n",
       "    .dataframe tbody tr th:only-of-type {\n",
       "        vertical-align: middle;\n",
       "    }\n",
       "\n",
       "    .dataframe tbody tr th {\n",
       "        vertical-align: top;\n",
       "    }\n",
       "\n",
       "    .dataframe thead th {\n",
       "        text-align: right;\n",
       "    }\n",
       "</style>\n",
       "<table border=\"1\" class=\"dataframe\">\n",
       "  <thead>\n",
       "    <tr style=\"text-align: right;\">\n",
       "      <th></th>\n",
       "      <th>Id</th>\n",
       "      <th>Subject Focus</th>\n",
       "      <th>Eyes</th>\n",
       "      <th>Face</th>\n",
       "      <th>Near</th>\n",
       "      <th>Action</th>\n",
       "      <th>Accessory</th>\n",
       "      <th>Group</th>\n",
       "      <th>Collage</th>\n",
       "      <th>Human</th>\n",
       "      <th>Occlusion</th>\n",
       "      <th>Info</th>\n",
       "      <th>Blur</th>\n",
       "      <th>Pawpularity</th>\n",
       "      <th>kfold</th>\n",
       "    </tr>\n",
       "  </thead>\n",
       "  <tbody>\n",
       "    <tr>\n",
       "      <th>0</th>\n",
       "      <td>0007de18844b0dbbb5e1f607da0606e0</td>\n",
       "      <td>0</td>\n",
       "      <td>1</td>\n",
       "      <td>1</td>\n",
       "      <td>1</td>\n",
       "      <td>0</td>\n",
       "      <td>0</td>\n",
       "      <td>1</td>\n",
       "      <td>0</td>\n",
       "      <td>0</td>\n",
       "      <td>0</td>\n",
       "      <td>0</td>\n",
       "      <td>0</td>\n",
       "      <td>63</td>\n",
       "      <td>1</td>\n",
       "    </tr>\n",
       "    <tr>\n",
       "      <th>1</th>\n",
       "      <td>0009c66b9439883ba2750fb825e1d7db</td>\n",
       "      <td>0</td>\n",
       "      <td>1</td>\n",
       "      <td>1</td>\n",
       "      <td>0</td>\n",
       "      <td>0</td>\n",
       "      <td>0</td>\n",
       "      <td>0</td>\n",
       "      <td>0</td>\n",
       "      <td>0</td>\n",
       "      <td>0</td>\n",
       "      <td>0</td>\n",
       "      <td>0</td>\n",
       "      <td>42</td>\n",
       "      <td>5</td>\n",
       "    </tr>\n",
       "    <tr>\n",
       "      <th>2</th>\n",
       "      <td>0013fd999caf9a3efe1352ca1b0d937e</td>\n",
       "      <td>0</td>\n",
       "      <td>1</td>\n",
       "      <td>1</td>\n",
       "      <td>1</td>\n",
       "      <td>0</td>\n",
       "      <td>0</td>\n",
       "      <td>0</td>\n",
       "      <td>0</td>\n",
       "      <td>1</td>\n",
       "      <td>1</td>\n",
       "      <td>0</td>\n",
       "      <td>0</td>\n",
       "      <td>28</td>\n",
       "      <td>1</td>\n",
       "    </tr>\n",
       "    <tr>\n",
       "      <th>3</th>\n",
       "      <td>0018df346ac9c1d8413cfcc888ca8246</td>\n",
       "      <td>0</td>\n",
       "      <td>1</td>\n",
       "      <td>1</td>\n",
       "      <td>1</td>\n",
       "      <td>0</td>\n",
       "      <td>0</td>\n",
       "      <td>0</td>\n",
       "      <td>0</td>\n",
       "      <td>0</td>\n",
       "      <td>0</td>\n",
       "      <td>0</td>\n",
       "      <td>0</td>\n",
       "      <td>15</td>\n",
       "      <td>6</td>\n",
       "    </tr>\n",
       "    <tr>\n",
       "      <th>4</th>\n",
       "      <td>001dc955e10590d3ca4673f034feeef2</td>\n",
       "      <td>0</td>\n",
       "      <td>0</td>\n",
       "      <td>0</td>\n",
       "      <td>1</td>\n",
       "      <td>0</td>\n",
       "      <td>0</td>\n",
       "      <td>1</td>\n",
       "      <td>0</td>\n",
       "      <td>0</td>\n",
       "      <td>0</td>\n",
       "      <td>0</td>\n",
       "      <td>0</td>\n",
       "      <td>72</td>\n",
       "      <td>8</td>\n",
       "    </tr>\n",
       "  </tbody>\n",
       "</table>\n",
       "</div>"
      ],
      "text/plain": [
       "                                 Id  Subject Focus  Eyes  Face  Near  Action  \\\n",
       "0  0007de18844b0dbbb5e1f607da0606e0              0     1     1     1       0   \n",
       "1  0009c66b9439883ba2750fb825e1d7db              0     1     1     0       0   \n",
       "2  0013fd999caf9a3efe1352ca1b0d937e              0     1     1     1       0   \n",
       "3  0018df346ac9c1d8413cfcc888ca8246              0     1     1     1       0   \n",
       "4  001dc955e10590d3ca4673f034feeef2              0     0     0     1       0   \n",
       "\n",
       "   Accessory  Group  Collage  Human  Occlusion  Info  Blur  Pawpularity  kfold  \n",
       "0          0      1        0      0          0     0     0           63      1  \n",
       "1          0      0        0      0          0     0     0           42      5  \n",
       "2          0      0        0      1          1     0     0           28      1  \n",
       "3          0      0        0      0          0     0     0           15      6  \n",
       "4          0      1        0      0          0     0     0           72      8  "
      ]
     },
     "execution_count": 3,
     "metadata": {},
     "output_type": "execute_result"
    }
   ],
   "source": [
    "import cuml, pickle\n",
    "from cuml.svm import SVR\n",
    "print('RAPIDS version',cuml.__version__,'\\n')\n",
    "\n",
    "LOAD_SVR_FROM_PATH = '../input/svr-models-10-folds/'\n",
    "\n",
    "df = pd.read_csv('../input/same-old-creating-folds/train_10folds.csv')\n",
    "print('Train shape:', df.shape )\n",
    "df.head()"
   ]
  },
  {
   "cell_type": "markdown",
   "id": "8230941a",
   "metadata": {
    "papermill": {
     "duration": 0.011681,
     "end_time": "2021-10-05T22:07:15.670152",
     "exception": false,
     "start_time": "2021-10-05T22:07:15.658471",
     "status": "completed"
    },
    "tags": []
   },
   "source": [
    "# Infer Test and OOF\n",
    "In version 1 of this notebook, we extract train embeddings and train RAPIDS SVR heads. (Click version 1 to see this). In later versions and during Kaggle submit, we load these saved RAPIDS SVR fold models and just infer data (without training anything)."
   ]
  },
  {
   "cell_type": "code",
   "execution_count": 4,
   "id": "0f7ed406",
   "metadata": {
    "execution": {
     "iopub.execute_input": "2021-10-05T22:07:15.716567Z",
     "iopub.status.busy": "2021-10-05T22:07:15.698982Z",
     "iopub.status.idle": "2021-10-05T22:16:52.582042Z",
     "shell.execute_reply": "2021-10-05T22:16:52.582563Z",
     "shell.execute_reply.started": "2021-10-04T03:57:45.804949Z"
    },
    "papermill": {
     "duration": 576.901959,
     "end_time": "2021-10-05T22:16:52.582742",
     "exception": false,
     "start_time": "2021-10-05T22:07:15.680783",
     "status": "completed"
    },
    "tags": []
   },
   "outputs": [
    {
     "name": "stdout",
     "output_type": "stream",
     "text": [
      "#########################\n",
      "### FOLD 1\n",
      "#########################\n",
      "Loading SVR... ../input/svr-models-10-folds/SVR_fold_0.pkl\n",
      "Predicting test...\n"
     ]
    },
    {
     "name": "stderr",
     "output_type": "stream",
     "text": [
      "100%|██████████| 1/1 [00:00<00:00,  1.36it/s, stage=test]\n"
     ]
    },
    {
     "name": "stdout",
     "output_type": "stream",
     "text": [
      "Predicting oof...\n"
     ]
    },
    {
     "name": "stderr",
     "output_type": "stream",
     "text": [
      "100%|██████████| 31/31 [00:44<00:00,  1.42s/it, stage=test]\n"
     ]
    },
    {
     "name": "stdout",
     "output_type": "stream",
     "text": [
      "NN RSME = 17.885706951550716 \n",
      "\n",
      "SVR RSME = 18.270196793851838 \n",
      "\n",
      "Ensemble RSME = 17.85101016657597 \n",
      "\n",
      "#########################\n",
      "### FOLD 2\n",
      "#########################\n",
      "Loading SVR... ../input/svr-models-10-folds/SVR_fold_1.pkl\n",
      "Predicting test...\n"
     ]
    },
    {
     "name": "stderr",
     "output_type": "stream",
     "text": [
      "100%|██████████| 1/1 [00:00<00:00,  1.71it/s, stage=test]\n"
     ]
    },
    {
     "name": "stdout",
     "output_type": "stream",
     "text": [
      "Predicting oof...\n"
     ]
    },
    {
     "name": "stderr",
     "output_type": "stream",
     "text": [
      "100%|██████████| 31/31 [00:44<00:00,  1.43s/it, stage=test]\n"
     ]
    },
    {
     "name": "stdout",
     "output_type": "stream",
     "text": [
      "NN RSME = 18.180458903665826 \n",
      "\n",
      "SVR RSME = 18.087203473572476 \n",
      "\n",
      "Ensemble RSME = 17.96400149394548 \n",
      "\n",
      "#########################\n",
      "### FOLD 3\n",
      "#########################\n",
      "Loading SVR... ../input/svr-models-10-folds/SVR_fold_2.pkl\n",
      "Predicting test...\n"
     ]
    },
    {
     "name": "stderr",
     "output_type": "stream",
     "text": [
      "100%|██████████| 1/1 [00:00<00:00,  1.67it/s, stage=test]\n"
     ]
    },
    {
     "name": "stdout",
     "output_type": "stream",
     "text": [
      "Predicting oof...\n"
     ]
    },
    {
     "name": "stderr",
     "output_type": "stream",
     "text": [
      "100%|██████████| 31/31 [00:43<00:00,  1.41s/it, stage=test]\n"
     ]
    },
    {
     "name": "stdout",
     "output_type": "stream",
     "text": [
      "NN RSME = 18.174499147617055 \n",
      "\n",
      "SVR RSME = 18.63462838971806 \n",
      "\n",
      "Ensemble RSME = 18.262901999688694 \n",
      "\n",
      "#########################\n",
      "### FOLD 4\n",
      "#########################\n",
      "Loading SVR... ../input/svr-models-10-folds/SVR_fold_3.pkl\n",
      "Predicting test...\n"
     ]
    },
    {
     "name": "stderr",
     "output_type": "stream",
     "text": [
      "100%|██████████| 1/1 [00:00<00:00,  1.63it/s, stage=test]\n"
     ]
    },
    {
     "name": "stdout",
     "output_type": "stream",
     "text": [
      "Predicting oof...\n"
     ]
    },
    {
     "name": "stderr",
     "output_type": "stream",
     "text": [
      "100%|██████████| 31/31 [00:43<00:00,  1.41s/it, stage=test]\n"
     ]
    },
    {
     "name": "stdout",
     "output_type": "stream",
     "text": [
      "NN RSME = 18.21322085813045 \n",
      "\n",
      "SVR RSME = 18.61290296074279 \n",
      "\n",
      "Ensemble RSME = 18.21185362750887 \n",
      "\n",
      "#########################\n",
      "### FOLD 5\n",
      "#########################\n",
      "Loading SVR... ../input/svr-models-10-folds/SVR_fold_4.pkl\n",
      "Predicting test...\n"
     ]
    },
    {
     "name": "stderr",
     "output_type": "stream",
     "text": [
      "100%|██████████| 1/1 [00:00<00:00,  1.67it/s, stage=test]\n"
     ]
    },
    {
     "name": "stdout",
     "output_type": "stream",
     "text": [
      "Predicting oof...\n"
     ]
    },
    {
     "name": "stderr",
     "output_type": "stream",
     "text": [
      "100%|██████████| 31/31 [00:44<00:00,  1.42s/it, stage=test]\n"
     ]
    },
    {
     "name": "stdout",
     "output_type": "stream",
     "text": [
      "NN RSME = 18.379703734384243 \n",
      "\n",
      "SVR RSME = 18.657330732508147 \n",
      "\n",
      "Ensemble RSME = 18.255886900976734 \n",
      "\n",
      "#########################\n",
      "### FOLD 6\n",
      "#########################\n",
      "Loading SVR... ../input/svr-models-10-folds/SVR_fold_5.pkl\n",
      "Predicting test...\n"
     ]
    },
    {
     "name": "stderr",
     "output_type": "stream",
     "text": [
      "100%|██████████| 1/1 [00:00<00:00,  1.62it/s, stage=test]\n"
     ]
    },
    {
     "name": "stdout",
     "output_type": "stream",
     "text": [
      "Predicting oof...\n"
     ]
    },
    {
     "name": "stderr",
     "output_type": "stream",
     "text": [
      "100%|██████████| 31/31 [00:43<00:00,  1.42s/it, stage=test]\n"
     ]
    },
    {
     "name": "stdout",
     "output_type": "stream",
     "text": [
      "NN RSME = 17.604086467656092 \n",
      "\n",
      "SVR RSME = 17.840501215098953 \n",
      "\n",
      "Ensemble RSME = 17.616803115805926 \n",
      "\n",
      "#########################\n",
      "### FOLD 7\n",
      "#########################\n",
      "Loading SVR... ../input/svr-models-10-folds/SVR_fold_6.pkl\n",
      "Predicting test...\n"
     ]
    },
    {
     "name": "stderr",
     "output_type": "stream",
     "text": [
      "100%|██████████| 1/1 [00:00<00:00,  1.66it/s, stage=test]\n"
     ]
    },
    {
     "name": "stdout",
     "output_type": "stream",
     "text": [
      "Predicting oof...\n"
     ]
    },
    {
     "name": "stderr",
     "output_type": "stream",
     "text": [
      "100%|██████████| 31/31 [00:43<00:00,  1.41s/it, stage=test]\n"
     ]
    },
    {
     "name": "stdout",
     "output_type": "stream",
     "text": [
      "NN RSME = 18.194533099140646 \n",
      "\n",
      "SVR RSME = 17.675722437167224 \n",
      "\n",
      "Ensemble RSME = 17.52104106683986 \n",
      "\n",
      "#########################\n",
      "### FOLD 8\n",
      "#########################\n",
      "Loading SVR... ../input/svr-models-10-folds/SVR_fold_7.pkl\n",
      "Predicting test...\n"
     ]
    },
    {
     "name": "stderr",
     "output_type": "stream",
     "text": [
      "100%|██████████| 1/1 [00:00<00:00,  1.53it/s, stage=test]\n"
     ]
    },
    {
     "name": "stdout",
     "output_type": "stream",
     "text": [
      "Predicting oof...\n"
     ]
    },
    {
     "name": "stderr",
     "output_type": "stream",
     "text": [
      "100%|██████████| 31/31 [00:44<00:00,  1.42s/it, stage=test]\n"
     ]
    },
    {
     "name": "stdout",
     "output_type": "stream",
     "text": [
      "NN RSME = 17.36336004792075 \n",
      "\n",
      "SVR RSME = 17.38088159778331 \n",
      "\n",
      "Ensemble RSME = 17.14418426064325 \n",
      "\n",
      "#########################\n",
      "### FOLD 9\n",
      "#########################\n",
      "Loading SVR... ../input/svr-models-10-folds/SVR_fold_8.pkl\n",
      "Predicting test...\n"
     ]
    },
    {
     "name": "stderr",
     "output_type": "stream",
     "text": [
      "100%|██████████| 1/1 [00:00<00:00,  1.41it/s, stage=test]\n"
     ]
    },
    {
     "name": "stdout",
     "output_type": "stream",
     "text": [
      "Predicting oof...\n"
     ]
    },
    {
     "name": "stderr",
     "output_type": "stream",
     "text": [
      "100%|██████████| 31/31 [00:43<00:00,  1.41s/it, stage=test]\n"
     ]
    },
    {
     "name": "stdout",
     "output_type": "stream",
     "text": [
      "NN RSME = 18.124772264918583 \n",
      "\n",
      "SVR RSME = 17.776294589506946 \n",
      "\n",
      "Ensemble RSME = 17.63281675918235 \n",
      "\n",
      "#########################\n",
      "### FOLD 10\n",
      "#########################\n",
      "Loading SVR... ../input/svr-models-10-folds/SVR_fold_9.pkl\n",
      "Predicting test...\n"
     ]
    },
    {
     "name": "stderr",
     "output_type": "stream",
     "text": [
      "100%|██████████| 1/1 [00:00<00:00,  1.67it/s, stage=test]\n"
     ]
    },
    {
     "name": "stdout",
     "output_type": "stream",
     "text": [
      "Predicting oof...\n"
     ]
    },
    {
     "name": "stderr",
     "output_type": "stream",
     "text": [
      "100%|██████████| 31/31 [00:43<00:00,  1.41s/it, stage=test]"
     ]
    },
    {
     "name": "stdout",
     "output_type": "stream",
     "text": [
      "NN RSME = 18.164906634868263 \n",
      "\n",
      "SVR RSME = 17.45609180569719 \n",
      "\n",
      "Ensemble RSME = 17.543734605981193 \n",
      "\n"
     ]
    },
    {
     "name": "stderr",
     "output_type": "stream",
     "text": [
      "\n"
     ]
    }
   ],
   "source": [
    "super_final_predictions = []\n",
    "super_final_predictions2 = []\n",
    "super_final_oof_predictions = []\n",
    "super_final_oof_predictions2 = []\n",
    "super_final_oof_true = []\n",
    "\n",
    "for fold_ in range(10):\n",
    "    print('#'*25)\n",
    "    print('### FOLD',fold_+1)\n",
    "    print('#'*25)\n",
    "    \n",
    "    model = PawpularModel(model_name=\"swin_large_patch4_window12_384\")\n",
    "    model.load(f\"../input/paw-models/model_f{fold_}.bin\", device=\"cuda\", weights_only=True)\n",
    "\n",
    "    df_test = pd.read_csv(\"../input/petfinder-pawpularity-score/test.csv\")\n",
    "    test_img_paths = [f\"../input/petfinder-pawpularity-score/test/{x}.jpg\" for x in df_test[\"Id\"].values]\n",
    "        \n",
    "    df_valid = df[df.kfold == fold_].reset_index(drop=True)#.iloc[:160]\n",
    "    valid_img_paths = [f\"../input/petfinder-pawpularity-score/train/{x}.jpg\" for x in df_valid[\"Id\"].values]\n",
    "\n",
    "    dense_features = [\n",
    "        'Subject Focus', 'Eyes', 'Face', 'Near', 'Action', 'Accessory',\n",
    "        'Group', 'Collage', 'Human', 'Occlusion', 'Info', 'Blur'\n",
    "    ]\n",
    "    \n",
    "    name = f\"SVR_fold_{fold_}.pkl\" \n",
    "    if LOAD_SVR_FROM_PATH is None:\n",
    "        ##################\n",
    "        # EXTRACT TRAIN EMBEDDINGS\n",
    "        \n",
    "        df_train = df[df.kfold != fold_].reset_index(drop=True)#.iloc[:320]\n",
    "        train_img_paths = [f\"../input/petfinder-pawpularity-score/train/{x}.jpg\" for x in df_train[\"Id\"].values]\n",
    "        \n",
    "        train_dataset = PawpularDataset(\n",
    "            image_paths=train_img_paths,\n",
    "            dense_features=df_train[dense_features].values,\n",
    "            targets=df_train['Pawpularity'].values/100.0,\n",
    "            augmentations=test_aug,\n",
    "        )\n",
    "        print('Extracting train embedding...')\n",
    "        train_predictions = model.predict(train_dataset, batch_size=2*args.batch_size, n_jobs=-1)\n",
    "    \n",
    "        embed = np.array([]).reshape((0,128+12))\n",
    "        for preds in train_predictions:\n",
    "            embed = np.concatenate([embed,preds[:,1:]],axis=0)\n",
    "        \n",
    "        ##################\n",
    "        # FIT RAPIDS SVR\n",
    "        print('Fitting SVR...')\n",
    "        clf = SVR(C=20.0)\n",
    "        clf.fit(embed.astype('float32'), df_train.Pawpularity.values.astype('int32'))\n",
    "    \n",
    "        ##################\n",
    "        # SAVE RAPIDS SVR \n",
    "        pickle.dump(clf, open(name, \"wb\"))\n",
    "        \n",
    "    else:\n",
    "        ##################\n",
    "        # LOAD RAPIDS SVR \n",
    "        print('Loading SVR...',LOAD_SVR_FROM_PATH+name)\n",
    "        clf = pickle.load(open(LOAD_SVR_FROM_PATH+name, \"rb\"))\n",
    "\n",
    "    ##################\n",
    "    # TEST PREDICTIONS\n",
    "    test_dataset = PawpularDataset(\n",
    "        image_paths=test_img_paths,\n",
    "        dense_features=df_test[dense_features].values,\n",
    "        targets=np.ones(len(test_img_paths)),\n",
    "        augmentations=test_aug,\n",
    "    )\n",
    "    print('Predicting test...')\n",
    "    test_predictions = model.predict(test_dataset, batch_size=2*args.batch_size, n_jobs=-1)\n",
    "\n",
    "    final_test_predictions = []\n",
    "    embed = np.array([]).reshape((0,128+12))\n",
    "    for preds in test_predictions: #tqdm\n",
    "        final_test_predictions.extend(preds[:,:1].ravel().tolist())\n",
    "        embed = np.concatenate([embed,preds[:,1:]],axis=0)\n",
    "\n",
    "    final_test_predictions = [sigmoid(x) * 100 for x in final_test_predictions]\n",
    "    final_test_predictions2 = clf.predict(embed)\n",
    "    super_final_predictions.append(final_test_predictions)\n",
    "    super_final_predictions2.append(final_test_predictions2)\n",
    "    ##################\n",
    "    \n",
    "    ##################\n",
    "    # OOF PREDICTIONS\n",
    "    valid_dataset = PawpularDataset(\n",
    "        image_paths=valid_img_paths,\n",
    "        dense_features=df_valid[dense_features].values,\n",
    "        targets=df_valid['Pawpularity'].values/100.0,\n",
    "        augmentations=test_aug,\n",
    "    )\n",
    "    print('Predicting oof...')\n",
    "    valid_predictions = model.predict(valid_dataset, batch_size=2*args.batch_size, n_jobs=-1)\n",
    "\n",
    "    final_oof_predictions = []\n",
    "    embed = np.array([]).reshape((0,128+12))\n",
    "    for preds in valid_predictions:\n",
    "        final_oof_predictions.extend(preds[:,:1].ravel().tolist())\n",
    "        embed = np.concatenate([embed,preds[:,1:]],axis=0)\n",
    "\n",
    "    final_oof_predictions = [sigmoid(x) * 100 for x in final_oof_predictions]\n",
    "    final_oof_predictions2 = clf.predict(embed)    \n",
    "    super_final_oof_predictions.append(final_oof_predictions)\n",
    "    super_final_oof_predictions2.append(final_oof_predictions2)\n",
    "    \n",
    "    final_oof_true = df_valid['Pawpularity'].values\n",
    "    super_final_oof_true.append(final_oof_true)\n",
    "    ##################\n",
    "    \n",
    "    ##################\n",
    "    # COMPUTE RSME\n",
    "    rsme = np.sqrt( np.mean( (super_final_oof_true[-1] - np.array(super_final_oof_predictions[-1]))**2.0 ) )\n",
    "    print('NN RSME =',rsme,'\\n')\n",
    "    rsme = np.sqrt( np.mean( (super_final_oof_true[-1] - np.array(super_final_oof_predictions2[-1]))**2.0 ) )\n",
    "    print('SVR RSME =',rsme,'\\n')\n",
    "    \n",
    "    w = 0.5\n",
    "    oof2 = (1-w)*np.array(super_final_oof_predictions[-1]) + w*np.array(super_final_oof_predictions2[-1])\n",
    "    rsme = np.sqrt( np.mean( (super_final_oof_true[-1] - oof2)**2.0 ) )\n",
    "    print('Ensemble RSME =',rsme,'\\n')"
   ]
  },
  {
   "cell_type": "markdown",
   "id": "3f4acf14",
   "metadata": {
    "papermill": {
     "duration": 0.206557,
     "end_time": "2021-10-05T22:16:53.003500",
     "exception": false,
     "start_time": "2021-10-05T22:16:52.796943",
     "status": "completed"
    },
    "tags": []
   },
   "source": [
    "# Compute CV Score\n",
    "Below we compute the overall CV RSME scores of just the NN head, just the SVR head, and an ensemble of 50% NN and 50% SVR heads. Then we plot all ensemble weights to find the optimal weights for NN head and SVR heads."
   ]
  },
  {
   "cell_type": "code",
   "execution_count": 5,
   "id": "ca837846",
   "metadata": {
    "execution": {
     "iopub.execute_input": "2021-10-05T22:16:53.417133Z",
     "iopub.status.busy": "2021-10-05T22:16:53.416195Z",
     "iopub.status.idle": "2021-10-05T22:16:53.424669Z",
     "shell.execute_reply": "2021-10-05T22:16:53.423927Z",
     "shell.execute_reply.started": "2021-10-04T04:01:29.004541Z"
    },
    "papermill": {
     "duration": 0.220703,
     "end_time": "2021-10-05T22:16:53.424831",
     "exception": false,
     "start_time": "2021-10-05T22:16:53.204128",
     "status": "completed"
    },
    "tags": []
   },
   "outputs": [
    {
     "name": "stdout",
     "output_type": "stream",
     "text": [
      "Overall CV NN head RSME = 18.031021894289673\n",
      "Overall CV SVR head RSME = 18.04512069078766\n",
      "Overall CV Ensemble heads RSME with 50% NN and 50% SVR = 17.803972947752452\n"
     ]
    }
   ],
   "source": [
    "true = np.hstack(super_final_oof_true)\n",
    "\n",
    "oof = np.hstack(super_final_oof_predictions)\n",
    "rsme = np.sqrt( np.mean( (oof - true)**2.0 ))\n",
    "print('Overall CV NN head RSME =',rsme)\n",
    "\n",
    "oof2 = np.hstack(super_final_oof_predictions2)\n",
    "rsme = np.sqrt( np.mean( (oof2 - true)**2.0 ))\n",
    "print('Overall CV SVR head RSME =',rsme)\n",
    "\n",
    "oof3 = (1-w)*oof + w*oof2\n",
    "rsme = np.sqrt( np.mean( (oof3 - true)**2.0 ))\n",
    "print('Overall CV Ensemble heads RSME with 50% NN and 50% SVR =',rsme)"
   ]
  },
  {
   "cell_type": "code",
   "execution_count": 6,
   "id": "efa8d861",
   "metadata": {
    "_kg_hide-input": true,
    "execution": {
     "iopub.execute_input": "2021-10-05T22:16:53.857992Z",
     "iopub.status.busy": "2021-10-05T22:16:53.857049Z",
     "iopub.status.idle": "2021-10-05T22:16:54.116391Z",
     "shell.execute_reply": "2021-10-05T22:16:54.115594Z",
     "shell.execute_reply.started": "2021-10-04T04:01:29.006261Z"
    },
    "papermill": {
     "duration": 0.466363,
     "end_time": "2021-10-05T22:16:54.116541",
     "exception": false,
     "start_time": "2021-10-05T22:16:53.650178",
     "status": "completed"
    },
    "tags": []
   },
   "outputs": [
    {
     "data": {
      "image/png": "[encoded data removed]",
      "text/plain": [
       "<Figure size 1440x360 with 1 Axes>"
      ]
     },
     "metadata": {
      "needs_background": "light"
     },
     "output_type": "display_data"
    }
   ],
   "source": [
    "import matplotlib.pyplot as plt\n",
    "\n",
    "score = []\n",
    "for ww in np.arange(0,1.05,0.05):\n",
    "    oof3 = (1-ww)*oof + ww*oof2\n",
    "    rsme = np.sqrt( np.mean( (oof3 - true)**2.0 ))\n",
    "    #print(f'{ww:0.2} CV Ensemble RSME =',rsme)\n",
    "    score.append(rsme)\n",
    "best_w = np.argmin(score)*0.05\n",
    "\n",
    "plt.figure(figsize=(20,5))\n",
    "plt.plot(np.arange(21)/20.0,score,'-o')\n",
    "plt.plot([best_w],np.min(score),'o',color='black',markersize=15)\n",
    "plt.title(f'Best Overall CV RSME={np.min(score):.4} with SVR Ensemble Weight={best_w:.2}',size=16)\n",
    "plt.ylabel('Overall Ensemble RSME',size=14)\n",
    "plt.xlabel('SVR Weight',size=14)\n",
    "plt.show()"
   ]
  },
  {
   "cell_type": "markdown",
   "id": "ec4b54a6",
   "metadata": {
    "papermill": {
     "duration": 0.213322,
     "end_time": "2021-10-05T22:16:54.543833",
     "exception": false,
     "start_time": "2021-10-05T22:16:54.330511",
     "status": "completed"
    },
    "tags": []
   },
   "source": [
    "# Trust CV or LB?\n",
    "Above we see that using 50% NN head and 50% SVR head achieves the best overall CV score. However our RAPIDS SVR head isn't helping public LB much. We also notice that our RAPIDS SVR head helped folds `1, 2, 4, 5, 7, 8, 9, 10` but did not help folds `3, 6`. So is public test data just a \"bad fold\"? Will our RAPIDS SVR head help private LB? Below we force the weight of SVR head to be 10% in order to achieve a slight public LB boost. But maybe for final submission, we should use 50%??"
   ]
  },
  {
   "cell_type": "code",
   "execution_count": 7,
   "id": "b8c5ed10",
   "metadata": {
    "execution": {
     "iopub.execute_input": "2021-10-05T22:16:54.950609Z",
     "iopub.status.busy": "2021-10-05T22:16:54.949718Z",
     "iopub.status.idle": "2021-10-05T22:16:54.951851Z",
     "shell.execute_reply": "2021-10-05T22:16:54.952229Z"
    },
    "papermill": {
     "duration": 0.207513,
     "end_time": "2021-10-05T22:16:54.952366",
     "exception": false,
     "start_time": "2021-10-05T22:16:54.744853",
     "status": "completed"
    },
    "tags": []
   },
   "outputs": [],
   "source": [
    "# FORCE SVR WEIGHT TO LOWER VALUE TO HELP PUBLIC LB\n",
    "best_w = 0.2"
   ]
  },
  {
   "cell_type": "markdown",
   "id": "eef938a1",
   "metadata": {
    "papermill": {
     "duration": 0.205798,
     "end_time": "2021-10-05T22:16:55.360488",
     "exception": false,
     "start_time": "2021-10-05T22:16:55.154690",
     "status": "completed"
    },
    "tags": []
   },
   "source": [
    "# Make Submission CSV\n",
    "We make a submission csv using an ensemble of both heads. We use the optimal ensemble weights that we discovered above."
   ]
  },
  {
   "cell_type": "code",
   "execution_count": 8,
   "id": "e31bd601",
   "metadata": {
    "execution": {
     "iopub.execute_input": "2021-10-05T22:16:55.840774Z",
     "iopub.status.busy": "2021-10-05T22:16:55.835617Z",
     "iopub.status.idle": "2021-10-05T22:16:55.855220Z",
     "shell.execute_reply": "2021-10-05T22:16:55.854314Z",
     "shell.execute_reply.started": "2021-10-04T04:01:29.008375Z"
    },
    "papermill": {
     "duration": 0.225261,
     "end_time": "2021-10-05T22:16:55.855351",
     "exception": false,
     "start_time": "2021-10-05T22:16:55.630090",
     "status": "completed"
    },
    "tags": []
   },
   "outputs": [
    {
     "data": {
      "text/html": [
       "<div>\n",
       "<style scoped>\n",
       "    .dataframe tbody tr th:only-of-type {\n",
       "        vertical-align: middle;\n",
       "    }\n",
       "\n",
       "    .dataframe tbody tr th {\n",
       "        vertical-align: top;\n",
       "    }\n",
       "\n",
       "    .dataframe thead th {\n",
       "        text-align: right;\n",
       "    }\n",
       "</style>\n",
       "<table border=\"1\" class=\"dataframe\">\n",
       "  <thead>\n",
       "    <tr style=\"text-align: right;\">\n",
       "      <th></th>\n",
       "      <th>Id</th>\n",
       "      <th>Pawpularity</th>\n",
       "    </tr>\n",
       "  </thead>\n",
       "  <tbody>\n",
       "    <tr>\n",
       "      <th>0</th>\n",
       "      <td>4128bae22183829d2b5fea10effdb0c3</td>\n",
       "      <td>38.029146</td>\n",
       "    </tr>\n",
       "    <tr>\n",
       "      <th>1</th>\n",
       "      <td>43a2262d7738e3d420d453815151079e</td>\n",
       "      <td>37.308950</td>\n",
       "    </tr>\n",
       "    <tr>\n",
       "      <th>2</th>\n",
       "      <td>4e429cead1848a298432a0acad014c9d</td>\n",
       "      <td>36.416784</td>\n",
       "    </tr>\n",
       "    <tr>\n",
       "      <th>3</th>\n",
       "      <td>80bc3ccafcc51b66303c2c263aa38486</td>\n",
       "      <td>36.117093</td>\n",
       "    </tr>\n",
       "    <tr>\n",
       "      <th>4</th>\n",
       "      <td>8f49844c382931444e68dffbe20228f4</td>\n",
       "      <td>36.325476</td>\n",
       "    </tr>\n",
       "  </tbody>\n",
       "</table>\n",
       "</div>"
      ],
      "text/plain": [
       "                                 Id  Pawpularity\n",
       "0  4128bae22183829d2b5fea10effdb0c3    38.029146\n",
       "1  43a2262d7738e3d420d453815151079e    37.308950\n",
       "2  4e429cead1848a298432a0acad014c9d    36.416784\n",
       "3  80bc3ccafcc51b66303c2c263aa38486    36.117093\n",
       "4  8f49844c382931444e68dffbe20228f4    36.325476"
      ]
     },
     "execution_count": 8,
     "metadata": {},
     "output_type": "execute_result"
    }
   ],
   "source": [
    "super_final_predictions = np.mean(np.column_stack(super_final_predictions), axis=1)\n",
    "super_final_predictions2 = np.mean(np.column_stack(super_final_predictions2), axis=1)\n",
    "df_test[\"Pawpularity\"] = (1-best_w)*super_final_predictions + best_w*super_final_predictions2\n",
    "df_test = df_test[[\"Id\", \"Pawpularity\"]]\n",
    "df_test.to_csv(\"submission.csv\", index=False)\n",
    "df_test.head()"
   ]
  }
 ],
 "metadata": {
  "kernelspec": {
   "display_name": "Python 3",
   "language": "python",
   "name": "python3"
  },
  "language_info": {
   "codemirror_mode": {
    "name": "ipython",
    "version": 3
   },
   "file_extension": ".py",
   "mimetype": "text/x-python",
   "name": "python",
   "nbconvert_exporter": "python",
   "pygments_lexer": "ipython3",
   "version": "3.7.10"
  },
  "papermill": {
   "default_parameters": {},
   "duration": 601.884652,
   "end_time": "2021-10-05T22:16:58.837621",
   "environment_variables": {},
   "exception": null,
   "input_path": "__notebook__.ipynb",
   "output_path": "__notebook__.ipynb",
   "parameters": {},
   "start_time": "2021-10-05T22:06:56.952969",
   "version": "2.3.3"
  }
 },
 "nbformat": 4,
 "nbformat_minor": 5
}
