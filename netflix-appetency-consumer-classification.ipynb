{
 "cells": [
  {
   "cell_type": "markdown",
   "id": "50e7c7bc",
   "metadata": {
    "papermill": {
     "duration": 0.070635,
     "end_time": "2022-02-21T10:10:58.701828",
     "exception": false,
     "start_time": "2022-02-21T10:10:58.631193",
     "status": "completed"
    },
    "tags": []
   },
   "source": [
    "<h1 id=\"Netflix\" style=\"color:white;background:#0076a8;padding:8px;border-radius:8px\"> Netflix Appetency - Identify consumer willing to subscribe </h1>\n",
    "\n",
    "<center><img src=\"https://play-lh.googleusercontent.com/0rgPYj0GwZ6txpYZrzoMdhwzqg7vY6C9B-Ol7jlaz-Ox2rgpD4Tr82ZgDqkirrEohbGm\"></center>\n",
    "\n",
    "<h2>Goal:</h2>\n",
    "    \n",
    "Classify consumers according to their appetite to subscribe to Netflix.\n",
    "\n",
    "<h2>Metric:</h2>\n",
    "\n",
    "The metric used is AUC\n",
    "\n",
    "<h2>Data:</h2>\n",
    "\n",
    "* train.csv - the training set. it consists of an id column, the customers features, and a target column: target.\n",
    "* test.csv - the test set. it consists of everything in train.csv except target.\n",
    "* sample_submission.csv - a sample submission file in the correct format target=1 means that the customer subscribes to Netflix\n",
    "\n",
    "For reasons of confidentiality, the data is anonymized and augmented.\n"
   ]
  },
  {
   "cell_type": "markdown",
   "id": "04ec7808",
   "metadata": {
    "papermill": {
     "duration": 0.067782,
     "end_time": "2022-02-21T10:10:58.839694",
     "exception": false,
     "start_time": "2022-02-21T10:10:58.771912",
     "status": "completed"
    },
    "tags": []
   },
   "source": [
    "<h1 id=\"import\" style=\"color:white;background:#0076a8;padding:8px;border-radius:8px\">Import libraries</h1>"
   ]
  },
  {
   "cell_type": "code",
   "execution_count": 1,
   "id": "6ca8a0de",
   "metadata": {
    "_cell_guid": "b1076dfc-b9ad-4769-8c92-a6c4dae69d19",
    "_kg_hide-input": true,
    "_uuid": "8f2839f25d086af736a60e9eeb907d3b93b6e0e5",
    "execution": {
     "iopub.execute_input": "2022-02-21T10:10:58.992868Z",
     "iopub.status.busy": "2022-02-21T10:10:58.992067Z",
     "iopub.status.idle": "2022-02-21T10:11:01.890113Z",
     "shell.execute_reply": "2022-02-21T10:11:01.889275Z",
     "shell.execute_reply.started": "2022-02-21T09:29:24.439320Z"
    },
    "papermill": {
     "duration": 2.982514,
     "end_time": "2022-02-21T10:11:01.890327",
     "exception": false,
     "start_time": "2022-02-21T10:10:58.907813",
     "status": "completed"
    },
    "tags": []
   },
   "outputs": [
    {
     "data": {
      "text/html": [
       "<style type='text/css'>\n",
       ".datatable table.frame { margin-bottom: 0; }\n",
       ".datatable table.frame thead { border-bottom: none; }\n",
       ".datatable table.frame tr.coltypes td {  color: #FFFFFF;  line-height: 6px;  padding: 0 0.5em;}\n",
       ".datatable .bool    { background: #DDDD99; }\n",
       ".datatable .object  { background: #565656; }\n",
       ".datatable .int     { background: #5D9E5D; }\n",
       ".datatable .float   { background: #4040CC; }\n",
       ".datatable .str     { background: #CC4040; }\n",
       ".datatable .time    { background: #40CC40; }\n",
       ".datatable .row_index {  background: var(--jp-border-color3);  border-right: 1px solid var(--jp-border-color0);  color: var(--jp-ui-font-color3);  font-size: 9px;}\n",
       ".datatable .frame tbody td { text-align: left; }\n",
       ".datatable .frame tr.coltypes .row_index {  background: var(--jp-border-color0);}\n",
       ".datatable th:nth-child(2) { padding-left: 12px; }\n",
       ".datatable .hellipsis {  color: var(--jp-cell-editor-border-color);}\n",
       ".datatable .vellipsis {  background: var(--jp-layout-color0);  color: var(--jp-cell-editor-border-color);}\n",
       ".datatable .na {  color: var(--jp-cell-editor-border-color);  font-size: 80%;}\n",
       ".datatable .sp {  opacity: 0.25;}\n",
       ".datatable .footer { font-size: 9px; }\n",
       ".datatable .frame_dimensions {  background: var(--jp-border-color3);  border-top: 1px solid var(--jp-border-color0);  color: var(--jp-ui-font-color3);  display: inline-block;  opacity: 0.6;  padding: 1px 10px 1px 5px;}\n",
       "</style>\n"
      ],
      "text/plain": [
       "<IPython.core.display.HTML object>"
      ]
     },
     "metadata": {},
     "output_type": "display_data"
    }
   ],
   "source": [
    "import numpy as np\n",
    "import pandas as pd\n",
    "import seaborn as sns\n",
    "import matplotlib.pyplot as plt\n",
    "import datetime\n",
    "from sklearn.preprocessing import StandardScaler\n",
    "from catboost import CatBoostClassifier\n",
    "from xgboost import XGBClassifier\n",
    "from lightgbm import LGBMClassifier\n",
    "from sklearn.preprocessing import LabelEncoder\n",
    "from sklearn.model_selection import cross_val_score, KFold, RepeatedStratifiedKFold,StratifiedKFold,cross_val_predict\n",
    "from sklearn.model_selection import train_test_split, GridSearchCV\n",
    "from sklearn.metrics import roc_auc_score\n",
    "\n",
    "import warnings\n",
    "warnings.filterwarnings('ignore')\n",
    "sns.set()"
   ]
  },
  {
   "cell_type": "markdown",
   "id": "41f1f111",
   "metadata": {
    "papermill": {
     "duration": 0.065452,
     "end_time": "2022-02-21T10:11:02.021752",
     "exception": false,
     "start_time": "2022-02-21T10:11:01.956300",
     "status": "completed"
    },
    "tags": []
   },
   "source": [
    "<h1 id=\"reading\" style=\"color:white;background:#0076a8;padding:8px;border-radius:8px\">Reading datasets</h1>"
   ]
  },
  {
   "cell_type": "code",
   "execution_count": 2,
   "id": "01497135",
   "metadata": {
    "execution": {
     "iopub.execute_input": "2022-02-21T10:11:02.158574Z",
     "iopub.status.busy": "2022-02-21T10:11:02.157733Z",
     "iopub.status.idle": "2022-02-21T10:11:11.278899Z",
     "shell.execute_reply": "2022-02-21T10:11:11.277975Z",
     "shell.execute_reply.started": "2022-02-21T09:29:26.873638Z"
    },
    "papermill": {
     "duration": 9.190655,
     "end_time": "2022-02-21T10:11:11.279097",
     "exception": false,
     "start_time": "2022-02-21T10:11:02.088442",
     "status": "completed"
    },
    "tags": []
   },
   "outputs": [],
   "source": [
    "train=pd.read_csv('../input/netflix-appetency/train.csv')\n",
    "test=pd.read_csv('../input/netflix-appetency/test.csv')\n",
    "sample=pd.read_csv('../input/netflix-appetency/sample_submission.csv')"
   ]
  },
  {
   "cell_type": "code",
   "execution_count": 3,
   "id": "30990133",
   "metadata": {
    "execution": {
     "iopub.execute_input": "2022-02-21T10:11:11.421769Z",
     "iopub.status.busy": "2022-02-21T10:11:11.420619Z",
     "iopub.status.idle": "2022-02-21T10:11:11.428536Z",
     "shell.execute_reply": "2022-02-21T10:11:11.427917Z",
     "shell.execute_reply.started": "2022-02-21T09:29:34.445432Z"
    },
    "papermill": {
     "duration": 0.080248,
     "end_time": "2022-02-21T10:11:11.428712",
     "exception": false,
     "start_time": "2022-02-21T10:11:11.348464",
     "status": "completed"
    },
    "tags": []
   },
   "outputs": [
    {
     "data": {
      "text/plain": [
       "((70000, 509), (30000, 508))"
      ]
     },
     "execution_count": 3,
     "metadata": {},
     "output_type": "execute_result"
    }
   ],
   "source": [
    "train.shape, test.shape"
   ]
  },
  {
   "cell_type": "markdown",
   "id": "810b1fb5",
   "metadata": {
    "papermill": {
     "duration": 0.066781,
     "end_time": "2022-02-21T10:11:11.564988",
     "exception": false,
     "start_time": "2022-02-21T10:11:11.498207",
     "status": "completed"
    },
    "tags": []
   },
   "source": [
    "### Describe"
   ]
  },
  {
   "cell_type": "code",
   "execution_count": 4,
   "id": "ced9221e",
   "metadata": {
    "execution": {
     "iopub.execute_input": "2022-02-21T10:11:11.797080Z",
     "iopub.status.busy": "2022-02-21T10:11:11.796248Z",
     "iopub.status.idle": "2022-02-21T10:11:13.536784Z",
     "shell.execute_reply": "2022-02-21T10:11:13.537502Z",
     "shell.execute_reply.started": "2022-02-21T09:29:34.453762Z"
    },
    "papermill": {
     "duration": 1.907043,
     "end_time": "2022-02-21T10:11:13.537711",
     "exception": false,
     "start_time": "2022-02-21T10:11:11.630668",
     "status": "completed"
    },
    "tags": []
   },
   "outputs": [
    {
     "data": {
      "text/html": [
       "<div>\n",
       "<style scoped>\n",
       "    .dataframe tbody tr th:only-of-type {\n",
       "        vertical-align: middle;\n",
       "    }\n",
       "\n",
       "    .dataframe tbody tr th {\n",
       "        vertical-align: top;\n",
       "    }\n",
       "\n",
       "    .dataframe thead th {\n",
       "        text-align: right;\n",
       "    }\n",
       "</style>\n",
       "<table border=\"1\" class=\"dataframe\">\n",
       "  <thead>\n",
       "    <tr style=\"text-align: right;\">\n",
       "      <th></th>\n",
       "      <th>id</th>\n",
       "      <th>target</th>\n",
       "      <th>feature_5</th>\n",
       "      <th>feature_6</th>\n",
       "      <th>feature_7</th>\n",
       "      <th>feature_8</th>\n",
       "      <th>feature_9</th>\n",
       "      <th>feature_10</th>\n",
       "      <th>feature_11</th>\n",
       "      <th>feature_12</th>\n",
       "      <th>...</th>\n",
       "      <th>feature_497</th>\n",
       "      <th>feature_498</th>\n",
       "      <th>feature_499</th>\n",
       "      <th>feature_500</th>\n",
       "      <th>feature_501</th>\n",
       "      <th>feature_502</th>\n",
       "      <th>feature_503</th>\n",
       "      <th>feature_504</th>\n",
       "      <th>feature_505</th>\n",
       "      <th>feature_506</th>\n",
       "    </tr>\n",
       "  </thead>\n",
       "  <tbody>\n",
       "    <tr>\n",
       "      <th>count</th>\n",
       "      <td>70000.000000</td>\n",
       "      <td>70000.000000</td>\n",
       "      <td>25424.000000</td>\n",
       "      <td>26389.000000</td>\n",
       "      <td>27792.000000</td>\n",
       "      <td>25424.000000</td>\n",
       "      <td>26389.000000</td>\n",
       "      <td>27792.000000</td>\n",
       "      <td>25424.000000</td>\n",
       "      <td>26389.000000</td>\n",
       "      <td>...</td>\n",
       "      <td>70000.000000</td>\n",
       "      <td>70000.0</td>\n",
       "      <td>70000.000000</td>\n",
       "      <td>70000.0</td>\n",
       "      <td>70000.000000</td>\n",
       "      <td>70000.0</td>\n",
       "      <td>70000.000000</td>\n",
       "      <td>70000.000000</td>\n",
       "      <td>70000.0</td>\n",
       "      <td>70000.000000</td>\n",
       "    </tr>\n",
       "    <tr>\n",
       "      <th>mean</th>\n",
       "      <td>50025.281314</td>\n",
       "      <td>0.298186</td>\n",
       "      <td>40.124969</td>\n",
       "      <td>39.975888</td>\n",
       "      <td>38.937569</td>\n",
       "      <td>32.120109</td>\n",
       "      <td>31.533970</td>\n",
       "      <td>30.517150</td>\n",
       "      <td>2.891956</td>\n",
       "      <td>2.847829</td>\n",
       "      <td>...</td>\n",
       "      <td>-3.138300</td>\n",
       "      <td>0.0</td>\n",
       "      <td>-3.138300</td>\n",
       "      <td>0.0</td>\n",
       "      <td>3.138300</td>\n",
       "      <td>0.0</td>\n",
       "      <td>3.138300</td>\n",
       "      <td>-3.138300</td>\n",
       "      <td>0.0</td>\n",
       "      <td>3.138300</td>\n",
       "    </tr>\n",
       "    <tr>\n",
       "      <th>std</th>\n",
       "      <td>28878.675532</td>\n",
       "      <td>0.457465</td>\n",
       "      <td>21.415242</td>\n",
       "      <td>20.591512</td>\n",
       "      <td>20.364727</td>\n",
       "      <td>13.766195</td>\n",
       "      <td>13.330736</td>\n",
       "      <td>13.692785</td>\n",
       "      <td>2.294987</td>\n",
       "      <td>2.267976</td>\n",
       "      <td>...</td>\n",
       "      <td>17.344944</td>\n",
       "      <td>0.0</td>\n",
       "      <td>17.344944</td>\n",
       "      <td>0.0</td>\n",
       "      <td>17.344944</td>\n",
       "      <td>0.0</td>\n",
       "      <td>17.344944</td>\n",
       "      <td>17.344944</td>\n",
       "      <td>0.0</td>\n",
       "      <td>17.344944</td>\n",
       "    </tr>\n",
       "    <tr>\n",
       "      <th>min</th>\n",
       "      <td>0.000000</td>\n",
       "      <td>0.000000</td>\n",
       "      <td>-217.460000</td>\n",
       "      <td>-89.690000</td>\n",
       "      <td>-66.497000</td>\n",
       "      <td>-219.180000</td>\n",
       "      <td>-89.690000</td>\n",
       "      <td>-49.390000</td>\n",
       "      <td>-30.850000</td>\n",
       "      <td>-19.813333</td>\n",
       "      <td>...</td>\n",
       "      <td>-99.000000</td>\n",
       "      <td>0.0</td>\n",
       "      <td>-99.000000</td>\n",
       "      <td>0.0</td>\n",
       "      <td>0.000000</td>\n",
       "      <td>0.0</td>\n",
       "      <td>0.000000</td>\n",
       "      <td>-99.000000</td>\n",
       "      <td>0.0</td>\n",
       "      <td>0.000000</td>\n",
       "    </tr>\n",
       "    <tr>\n",
       "      <th>25%</th>\n",
       "      <td>24999.750000</td>\n",
       "      <td>0.000000</td>\n",
       "      <td>32.470000</td>\n",
       "      <td>32.470000</td>\n",
       "      <td>31.923333</td>\n",
       "      <td>30.750000</td>\n",
       "      <td>28.600000</td>\n",
       "      <td>27.215000</td>\n",
       "      <td>2.500000</td>\n",
       "      <td>2.500000</td>\n",
       "      <td>...</td>\n",
       "      <td>0.000000</td>\n",
       "      <td>0.0</td>\n",
       "      <td>0.000000</td>\n",
       "      <td>0.0</td>\n",
       "      <td>0.000000</td>\n",
       "      <td>0.0</td>\n",
       "      <td>0.000000</td>\n",
       "      <td>0.000000</td>\n",
       "      <td>0.0</td>\n",
       "      <td>0.000000</td>\n",
       "    </tr>\n",
       "    <tr>\n",
       "      <th>50%</th>\n",
       "      <td>50030.500000</td>\n",
       "      <td>0.000000</td>\n",
       "      <td>37.480000</td>\n",
       "      <td>37.560000</td>\n",
       "      <td>37.030667</td>\n",
       "      <td>34.160000</td>\n",
       "      <td>33.320000</td>\n",
       "      <td>31.710000</td>\n",
       "      <td>2.500000</td>\n",
       "      <td>2.500000</td>\n",
       "      <td>...</td>\n",
       "      <td>0.000000</td>\n",
       "      <td>0.0</td>\n",
       "      <td>0.000000</td>\n",
       "      <td>0.0</td>\n",
       "      <td>0.000000</td>\n",
       "      <td>0.0</td>\n",
       "      <td>0.000000</td>\n",
       "      <td>0.000000</td>\n",
       "      <td>0.0</td>\n",
       "      <td>0.000000</td>\n",
       "    </tr>\n",
       "    <tr>\n",
       "      <th>75%</th>\n",
       "      <td>75027.250000</td>\n",
       "      <td>1.000000</td>\n",
       "      <td>48.062750</td>\n",
       "      <td>48.490000</td>\n",
       "      <td>47.726458</td>\n",
       "      <td>35.830000</td>\n",
       "      <td>35.830000</td>\n",
       "      <td>35.830000</td>\n",
       "      <td>2.500000</td>\n",
       "      <td>2.500000</td>\n",
       "      <td>...</td>\n",
       "      <td>0.000000</td>\n",
       "      <td>0.0</td>\n",
       "      <td>0.000000</td>\n",
       "      <td>0.0</td>\n",
       "      <td>0.000000</td>\n",
       "      <td>0.0</td>\n",
       "      <td>0.000000</td>\n",
       "      <td>0.000000</td>\n",
       "      <td>0.0</td>\n",
       "      <td>0.000000</td>\n",
       "    </tr>\n",
       "    <tr>\n",
       "      <th>max</th>\n",
       "      <td>99999.000000</td>\n",
       "      <td>1.000000</td>\n",
       "      <td>403.880000</td>\n",
       "      <td>639.756667</td>\n",
       "      <td>511.091667</td>\n",
       "      <td>148.360000</td>\n",
       "      <td>136.030000</td>\n",
       "      <td>136.030000</td>\n",
       "      <td>47.000000</td>\n",
       "      <td>53.556667</td>\n",
       "      <td>...</td>\n",
       "      <td>0.000000</td>\n",
       "      <td>0.0</td>\n",
       "      <td>0.000000</td>\n",
       "      <td>0.0</td>\n",
       "      <td>99.000000</td>\n",
       "      <td>0.0</td>\n",
       "      <td>99.000000</td>\n",
       "      <td>0.000000</td>\n",
       "      <td>0.0</td>\n",
       "      <td>99.000000</td>\n",
       "    </tr>\n",
       "  </tbody>\n",
       "</table>\n",
       "<p>8 rows × 417 columns</p>\n",
       "</div>"
      ],
      "text/plain": [
       "                 id        target     feature_5     feature_6     feature_7  \\\n",
       "count  70000.000000  70000.000000  25424.000000  26389.000000  27792.000000   \n",
       "mean   50025.281314      0.298186     40.124969     39.975888     38.937569   \n",
       "std    28878.675532      0.457465     21.415242     20.591512     20.364727   \n",
       "min        0.000000      0.000000   -217.460000    -89.690000    -66.497000   \n",
       "25%    24999.750000      0.000000     32.470000     32.470000     31.923333   \n",
       "50%    50030.500000      0.000000     37.480000     37.560000     37.030667   \n",
       "75%    75027.250000      1.000000     48.062750     48.490000     47.726458   \n",
       "max    99999.000000      1.000000    403.880000    639.756667    511.091667   \n",
       "\n",
       "          feature_8     feature_9    feature_10    feature_11    feature_12  \\\n",
       "count  25424.000000  26389.000000  27792.000000  25424.000000  26389.000000   \n",
       "mean      32.120109     31.533970     30.517150      2.891956      2.847829   \n",
       "std       13.766195     13.330736     13.692785      2.294987      2.267976   \n",
       "min     -219.180000    -89.690000    -49.390000    -30.850000    -19.813333   \n",
       "25%       30.750000     28.600000     27.215000      2.500000      2.500000   \n",
       "50%       34.160000     33.320000     31.710000      2.500000      2.500000   \n",
       "75%       35.830000     35.830000     35.830000      2.500000      2.500000   \n",
       "max      148.360000    136.030000    136.030000     47.000000     53.556667   \n",
       "\n",
       "       ...   feature_497  feature_498   feature_499  feature_500  \\\n",
       "count  ...  70000.000000      70000.0  70000.000000      70000.0   \n",
       "mean   ...     -3.138300          0.0     -3.138300          0.0   \n",
       "std    ...     17.344944          0.0     17.344944          0.0   \n",
       "min    ...    -99.000000          0.0    -99.000000          0.0   \n",
       "25%    ...      0.000000          0.0      0.000000          0.0   \n",
       "50%    ...      0.000000          0.0      0.000000          0.0   \n",
       "75%    ...      0.000000          0.0      0.000000          0.0   \n",
       "max    ...      0.000000          0.0      0.000000          0.0   \n",
       "\n",
       "        feature_501  feature_502   feature_503   feature_504  feature_505  \\\n",
       "count  70000.000000      70000.0  70000.000000  70000.000000      70000.0   \n",
       "mean       3.138300          0.0      3.138300     -3.138300          0.0   \n",
       "std       17.344944          0.0     17.344944     17.344944          0.0   \n",
       "min        0.000000          0.0      0.000000    -99.000000          0.0   \n",
       "25%        0.000000          0.0      0.000000      0.000000          0.0   \n",
       "50%        0.000000          0.0      0.000000      0.000000          0.0   \n",
       "75%        0.000000          0.0      0.000000      0.000000          0.0   \n",
       "max       99.000000          0.0     99.000000      0.000000          0.0   \n",
       "\n",
       "        feature_506  \n",
       "count  70000.000000  \n",
       "mean       3.138300  \n",
       "std       17.344944  \n",
       "min        0.000000  \n",
       "25%        0.000000  \n",
       "50%        0.000000  \n",
       "75%        0.000000  \n",
       "max       99.000000  \n",
       "\n",
       "[8 rows x 417 columns]"
      ]
     },
     "execution_count": 4,
     "metadata": {},
     "output_type": "execute_result"
    }
   ],
   "source": [
    "#Describe\n",
    "train.describe()"
   ]
  },
  {
   "cell_type": "markdown",
   "id": "cd20518c",
   "metadata": {
    "papermill": {
     "duration": 0.066548,
     "end_time": "2022-02-21T10:11:13.672119",
     "exception": false,
     "start_time": "2022-02-21T10:11:13.605571",
     "status": "completed"
    },
    "tags": []
   },
   "source": [
    "<h1 id=\"missings\" style=\"color:white;background:#0076a8;padding:8px;border-radius:8px\"> Missing values </h1>"
   ]
  },
  {
   "cell_type": "code",
   "execution_count": 5,
   "id": "1a3bd3c2",
   "metadata": {
    "_kg_hide-input": true,
    "execution": {
     "iopub.execute_input": "2022-02-21T10:11:13.811458Z",
     "iopub.status.busy": "2022-02-21T10:11:13.810206Z",
     "iopub.status.idle": "2022-02-21T10:11:13.819187Z",
     "shell.execute_reply": "2022-02-21T10:11:13.819901Z",
     "shell.execute_reply.started": "2022-02-21T09:29:36.007555Z"
    },
    "papermill": {
     "duration": 0.080868,
     "end_time": "2022-02-21T10:11:13.820123",
     "exception": false,
     "start_time": "2022-02-21T10:11:13.739255",
     "status": "completed"
    },
    "tags": []
   },
   "outputs": [],
   "source": [
    "def get_missings(df):\n",
    "    labels,values = list(),list()\n",
    "    if df.isna().sum().sum()>0:\n",
    "        for column in df.columns:\n",
    "            if df[column].isnull().sum():\n",
    "                labels.append(column)\n",
    "                values.append((df[column].isnull().sum() / len(df[column]))*100)\n",
    "        missings=pd.DataFrame({'Feature':labels,'MissingPercent':values }).sort_values(by='MissingPercent',ascending=False)\n",
    "        return missings\n",
    "    else:\n",
    "        return False"
   ]
  },
  {
   "cell_type": "code",
   "execution_count": 6,
   "id": "3469d912",
   "metadata": {
    "execution": {
     "iopub.execute_input": "2022-02-21T10:11:13.959516Z",
     "iopub.status.busy": "2022-02-21T10:11:13.958353Z",
     "iopub.status.idle": "2022-02-21T10:11:15.635386Z",
     "shell.execute_reply": "2022-02-21T10:11:15.635945Z",
     "shell.execute_reply.started": "2022-02-21T09:29:36.016403Z"
    },
    "papermill": {
     "duration": 1.749323,
     "end_time": "2022-02-21T10:11:15.636164",
     "exception": false,
     "start_time": "2022-02-21T10:11:13.886841",
     "status": "completed"
    },
    "tags": []
   },
   "outputs": [
    {
     "data": {
      "text/html": [
       "<div>\n",
       "<style scoped>\n",
       "    .dataframe tbody tr th:only-of-type {\n",
       "        vertical-align: middle;\n",
       "    }\n",
       "\n",
       "    .dataframe tbody tr th {\n",
       "        vertical-align: top;\n",
       "    }\n",
       "\n",
       "    .dataframe thead th {\n",
       "        text-align: right;\n",
       "    }\n",
       "</style>\n",
       "<table border=\"1\" class=\"dataframe\">\n",
       "  <thead>\n",
       "    <tr style=\"text-align: right;\">\n",
       "      <th></th>\n",
       "      <th>Feature</th>\n",
       "      <th>MissingPercent</th>\n",
       "    </tr>\n",
       "  </thead>\n",
       "  <tbody>\n",
       "    <tr>\n",
       "      <th>52</th>\n",
       "      <td>feature_193</td>\n",
       "      <td>100.000000</td>\n",
       "    </tr>\n",
       "    <tr>\n",
       "      <th>55</th>\n",
       "      <td>feature_196</td>\n",
       "      <td>100.000000</td>\n",
       "    </tr>\n",
       "    <tr>\n",
       "      <th>56</th>\n",
       "      <td>feature_197</td>\n",
       "      <td>100.000000</td>\n",
       "    </tr>\n",
       "    <tr>\n",
       "      <th>57</th>\n",
       "      <td>feature_198</td>\n",
       "      <td>100.000000</td>\n",
       "    </tr>\n",
       "    <tr>\n",
       "      <th>21</th>\n",
       "      <td>feature_83</td>\n",
       "      <td>98.320000</td>\n",
       "    </tr>\n",
       "    <tr>\n",
       "      <th>18</th>\n",
       "      <td>feature_75</td>\n",
       "      <td>70.297143</td>\n",
       "    </tr>\n",
       "    <tr>\n",
       "      <th>19</th>\n",
       "      <td>feature_76</td>\n",
       "      <td>70.297143</td>\n",
       "    </tr>\n",
       "    <tr>\n",
       "      <th>54</th>\n",
       "      <td>feature_195</td>\n",
       "      <td>63.890000</td>\n",
       "    </tr>\n",
       "    <tr>\n",
       "      <th>0</th>\n",
       "      <td>feature_5</td>\n",
       "      <td>63.680000</td>\n",
       "    </tr>\n",
       "    <tr>\n",
       "      <th>3</th>\n",
       "      <td>feature_8</td>\n",
       "      <td>63.680000</td>\n",
       "    </tr>\n",
       "  </tbody>\n",
       "</table>\n",
       "</div>"
      ],
      "text/plain": [
       "        Feature  MissingPercent\n",
       "52  feature_193      100.000000\n",
       "55  feature_196      100.000000\n",
       "56  feature_197      100.000000\n",
       "57  feature_198      100.000000\n",
       "21   feature_83       98.320000\n",
       "18   feature_75       70.297143\n",
       "19   feature_76       70.297143\n",
       "54  feature_195       63.890000\n",
       "0     feature_5       63.680000\n",
       "3     feature_8       63.680000"
      ]
     },
     "execution_count": 6,
     "metadata": {},
     "output_type": "execute_result"
    }
   ],
   "source": [
    "#Missing values report\n",
    "Missings_df=get_missings(train)\n",
    "Missings_df.head(10)"
   ]
  },
  {
   "cell_type": "markdown",
   "id": "832d62bd",
   "metadata": {
    "papermill": {
     "duration": 0.066835,
     "end_time": "2022-02-21T10:11:15.771947",
     "exception": false,
     "start_time": "2022-02-21T10:11:15.705112",
     "status": "completed"
    },
    "tags": []
   },
   "source": [
    "## Distribution of missing values"
   ]
  },
  {
   "cell_type": "code",
   "execution_count": 7,
   "id": "ffccd402",
   "metadata": {
    "execution": {
     "iopub.execute_input": "2022-02-21T10:11:15.923952Z",
     "iopub.status.busy": "2022-02-21T10:11:15.923151Z",
     "iopub.status.idle": "2022-02-21T10:11:16.286463Z",
     "shell.execute_reply": "2022-02-21T10:11:16.287098Z",
     "shell.execute_reply.started": "2022-02-21T09:29:37.648454Z"
    },
    "papermill": {
     "duration": 0.44654,
     "end_time": "2022-02-21T10:11:16.287309",
     "exception": false,
     "start_time": "2022-02-21T10:11:15.840769",
     "status": "completed"
    },
    "tags": []
   },
   "outputs": [
    {
     "data": {
      "text/plain": [
       "Text(0, 0.5, 'The number of features')"
      ]
     },
     "execution_count": 7,
     "metadata": {},
     "output_type": "execute_result"
    },
    {
     "data": {
      "image/png": "[encoded data removed]",
      "text/plain": [
       "<Figure size 720x360 with 1 Axes>"
      ]
     },
     "metadata": {},
     "output_type": "display_data"
    }
   ],
   "source": [
    "plt.figure(figsize=(10,5))\n",
    "sns.histplot(x=Missings_df.MissingPercent).set_title('Missing values distribution',size=15)\n",
    "plt.ylabel('The number of features')"
   ]
  },
  {
   "cell_type": "markdown",
   "id": "752fa92f",
   "metadata": {
    "papermill": {
     "duration": 0.069901,
     "end_time": "2022-02-21T10:11:16.428985",
     "exception": false,
     "start_time": "2022-02-21T10:11:16.359084",
     "status": "completed"
    },
    "tags": []
   },
   "source": [
    "<h2> Drop features with more than 25% missing values </h2>"
   ]
  },
  {
   "cell_type": "code",
   "execution_count": 8,
   "id": "8adee448",
   "metadata": {
    "execution": {
     "iopub.execute_input": "2022-02-21T10:11:16.661813Z",
     "iopub.status.busy": "2022-02-21T10:11:16.660513Z",
     "iopub.status.idle": "2022-02-21T10:11:16.807298Z",
     "shell.execute_reply": "2022-02-21T10:11:16.806639Z",
     "shell.execute_reply.started": "2022-02-21T09:29:37.948833Z"
    },
    "papermill": {
     "duration": 0.308192,
     "end_time": "2022-02-21T10:11:16.807504",
     "exception": false,
     "start_time": "2022-02-21T10:11:16.499312",
     "status": "completed"
    },
    "tags": []
   },
   "outputs": [],
   "source": [
    "#Get columns with more than 30% missing values\n",
    "Missings_custom=Missings_df[Missings_df.MissingPercent>25]\n",
    "#Drop from train and test \n",
    "train=train.drop(list(Missings_custom.Feature),axis=1)\n",
    "test=test.drop(list(Missings_custom.Feature),axis=1)"
   ]
  },
  {
   "cell_type": "markdown",
   "id": "354cfd5e",
   "metadata": {
    "papermill": {
     "duration": 0.06776,
     "end_time": "2022-02-21T10:11:16.945455",
     "exception": false,
     "start_time": "2022-02-21T10:11:16.877695",
     "status": "completed"
    },
    "tags": []
   },
   "source": [
    "<h2> Numeric and categorical features</h2>"
   ]
  },
  {
   "cell_type": "code",
   "execution_count": 9,
   "id": "7c9da3ad",
   "metadata": {
    "execution": {
     "iopub.execute_input": "2022-02-21T10:11:17.246375Z",
     "iopub.status.busy": "2022-02-21T10:11:17.245637Z",
     "iopub.status.idle": "2022-02-21T10:11:17.248821Z",
     "shell.execute_reply": "2022-02-21T10:11:17.248220Z",
     "shell.execute_reply.started": "2022-02-21T09:29:38.163438Z"
    },
    "papermill": {
     "duration": 0.234509,
     "end_time": "2022-02-21T10:11:17.249003",
     "exception": false,
     "start_time": "2022-02-21T10:11:17.014494",
     "status": "completed"
    },
    "tags": []
   },
   "outputs": [],
   "source": [
    "#Categorical features name\n",
    "Categorical_Features=train.select_dtypes(include=['object']).columns\n",
    "        \n",
    "#Numeric features name\n",
    "Numeric_Features=train.select_dtypes(exclude=['object']).columns[2:] #skip id,target"
   ]
  },
  {
   "cell_type": "code",
   "execution_count": 10,
   "id": "32116e6c",
   "metadata": {
    "_kg_hide-input": true,
    "execution": {
     "iopub.execute_input": "2022-02-21T10:11:17.419111Z",
     "iopub.status.busy": "2022-02-21T10:11:17.417102Z",
     "iopub.status.idle": "2022-02-21T10:11:17.558510Z",
     "shell.execute_reply": "2022-02-21T10:11:17.559555Z",
     "shell.execute_reply.started": "2022-02-21T09:29:38.313286Z"
    },
    "papermill": {
     "duration": 0.240062,
     "end_time": "2022-02-21T10:11:17.559914",
     "exception": false,
     "start_time": "2022-02-21T10:11:17.319852",
     "status": "completed"
    },
    "tags": []
   },
   "outputs": [
    {
     "data": {
      "image/png": "[encoded data removed]",
      "text/plain": [
       "<Figure size 720x360 with 1 Axes>"
      ]
     },
     "metadata": {},
     "output_type": "display_data"
    }
   ],
   "source": [
    "#Pichart\n",
    "data = [len(Categorical_Features),len(Numeric_Features)]\n",
    "colors = sns.color_palette('pastel')\n",
    "plt.figure(figsize=(10,5))\n",
    "plt.title('The percentage of numeric and categorical features',size=15)\n",
    "plt.pie(data, colors = colors, labels=['Categorical','Numeric'] ,autopct = '%0.0f%%')\n",
    "plt.show()"
   ]
  },
  {
   "cell_type": "markdown",
   "id": "da3068c6",
   "metadata": {
    "papermill": {
     "duration": 0.068758,
     "end_time": "2022-02-21T10:11:17.732646",
     "exception": false,
     "start_time": "2022-02-21T10:11:17.663888",
     "status": "completed"
    },
    "tags": []
   },
   "source": [
    "<h2> Filling missing values </h2>"
   ]
  },
  {
   "cell_type": "markdown",
   "id": "e60bb0bf",
   "metadata": {
    "papermill": {
     "duration": 0.07375,
     "end_time": "2022-02-21T10:11:17.880113",
     "exception": false,
     "start_time": "2022-02-21T10:11:17.806363",
     "status": "completed"
    },
    "tags": []
   },
   "source": [
    "<h3> Numeric features </h3>"
   ]
  },
  {
   "cell_type": "code",
   "execution_count": 11,
   "id": "16be187b",
   "metadata": {
    "execution": {
     "iopub.execute_input": "2022-02-21T10:11:18.029931Z",
     "iopub.status.busy": "2022-02-21T10:11:18.028823Z",
     "iopub.status.idle": "2022-02-21T10:11:18.549946Z",
     "shell.execute_reply": "2022-02-21T10:11:18.550580Z",
     "shell.execute_reply.started": "2022-02-21T09:29:38.430754Z"
    },
    "papermill": {
     "duration": 0.597839,
     "end_time": "2022-02-21T10:11:18.550813",
     "exception": false,
     "start_time": "2022-02-21T10:11:17.952974",
     "status": "completed"
    },
    "tags": []
   },
   "outputs": [],
   "source": [
    "#Fill with median\n",
    "for col in Numeric_Features:\n",
    "    train[col].fillna(train[col].median(),inplace=True)\n",
    "    test[col].fillna(test[col].median(),inplace=True)"
   ]
  },
  {
   "cell_type": "markdown",
   "id": "bf4cb1d1",
   "metadata": {
    "papermill": {
     "duration": 0.077967,
     "end_time": "2022-02-21T10:11:18.702567",
     "exception": false,
     "start_time": "2022-02-21T10:11:18.624600",
     "status": "completed"
    },
    "tags": []
   },
   "source": [
    "<h3> Categorical features </h3>"
   ]
  },
  {
   "cell_type": "code",
   "execution_count": 12,
   "id": "6318257c",
   "metadata": {
    "execution": {
     "iopub.execute_input": "2022-02-21T10:11:18.857171Z",
     "iopub.status.busy": "2022-02-21T10:11:18.856157Z",
     "iopub.status.idle": "2022-02-21T10:11:21.553062Z",
     "shell.execute_reply": "2022-02-21T10:11:21.552191Z",
     "shell.execute_reply.started": "2022-02-21T09:29:38.971511Z"
    },
    "papermill": {
     "duration": 2.775186,
     "end_time": "2022-02-21T10:11:21.553234",
     "exception": false,
     "start_time": "2022-02-21T10:11:18.778048",
     "status": "completed"
    },
    "tags": []
   },
   "outputs": [],
   "source": [
    "#Fill with mode\n",
    "def get_mode(feature,df):\n",
    "    return df[feature].mode()[0]\n",
    "\n",
    "for col in Categorical_Features:\n",
    "    train[col].fillna(get_mode(col,train),inplace=True)\n",
    "    test[col].fillna(get_mode(col,test),inplace=True)"
   ]
  },
  {
   "cell_type": "markdown",
   "id": "b3731cd3",
   "metadata": {
    "papermill": {
     "duration": 0.068892,
     "end_time": "2022-02-21T10:11:21.691778",
     "exception": false,
     "start_time": "2022-02-21T10:11:21.622886",
     "status": "completed"
    },
    "tags": []
   },
   "source": [
    "<h2> Information about dataset </h2>"
   ]
  },
  {
   "cell_type": "code",
   "execution_count": 13,
   "id": "34655468",
   "metadata": {
    "execution": {
     "iopub.execute_input": "2022-02-21T10:11:21.840418Z",
     "iopub.status.busy": "2022-02-21T10:11:21.839610Z",
     "iopub.status.idle": "2022-02-21T10:11:21.858347Z",
     "shell.execute_reply": "2022-02-21T10:11:21.859129Z",
     "shell.execute_reply.started": "2022-02-21T09:29:41.489094Z"
    },
    "papermill": {
     "duration": 0.097123,
     "end_time": "2022-02-21T10:11:21.859354",
     "exception": false,
     "start_time": "2022-02-21T10:11:21.762231",
     "status": "completed"
    },
    "tags": []
   },
   "outputs": [
    {
     "name": "stdout",
     "output_type": "stream",
     "text": [
      "<class 'pandas.core.frame.DataFrame'>\n",
      "RangeIndex: 70000 entries, 0 to 69999\n",
      "Columns: 482 entries, id to feature_506\n",
      "dtypes: float64(121), int64(274), object(87)\n",
      "memory usage: 257.4+ MB\n"
     ]
    }
   ],
   "source": [
    "train.info()"
   ]
  },
  {
   "cell_type": "markdown",
   "id": "1ad1c6ab",
   "metadata": {
    "papermill": {
     "duration": 0.069297,
     "end_time": "2022-02-21T10:11:21.999050",
     "exception": false,
     "start_time": "2022-02-21T10:11:21.929753",
     "status": "completed"
    },
    "tags": []
   },
   "source": [
    "<h1 id=\"date\" style=\"color:white;background:#0076a8;padding:8px;border-radius:8px\">Are there DateTime features ?</h1>\n",
    "I'll check first 10 rows of dataset to see if there are features that contatin dates with string/object data type, then I'll apply DateTime format"
   ]
  },
  {
   "cell_type": "code",
   "execution_count": 14,
   "id": "5f5e1374",
   "metadata": {
    "execution": {
     "iopub.execute_input": "2022-02-21T10:11:22.314517Z",
     "iopub.status.busy": "2022-02-21T10:11:22.313571Z",
     "iopub.status.idle": "2022-02-21T10:11:22.350937Z",
     "shell.execute_reply": "2022-02-21T10:11:22.350244Z",
     "shell.execute_reply.started": "2022-02-21T09:29:41.511157Z"
    },
    "papermill": {
     "duration": 0.281311,
     "end_time": "2022-02-21T10:11:22.351152",
     "exception": false,
     "start_time": "2022-02-21T10:11:22.069841",
     "status": "completed"
    },
    "tags": []
   },
   "outputs": [
    {
     "data": {
      "text/html": [
       "<div>\n",
       "<style scoped>\n",
       "    .dataframe tbody tr th:only-of-type {\n",
       "        vertical-align: middle;\n",
       "    }\n",
       "\n",
       "    .dataframe tbody tr th {\n",
       "        vertical-align: top;\n",
       "    }\n",
       "\n",
       "    .dataframe thead th {\n",
       "        text-align: right;\n",
       "    }\n",
       "</style>\n",
       "<table border=\"1\" class=\"dataframe\">\n",
       "  <thead>\n",
       "    <tr style=\"text-align: right;\">\n",
       "      <th></th>\n",
       "      <th>feature_191</th>\n",
       "      <th>feature_192</th>\n",
       "      <th>feature_199</th>\n",
       "      <th>feature_200</th>\n",
       "      <th>feature_201</th>\n",
       "    </tr>\n",
       "  </thead>\n",
       "  <tbody>\n",
       "    <tr>\n",
       "      <th>0</th>\n",
       "      <td>11/10/2017</td>\n",
       "      <td>11/10/2017</td>\n",
       "      <td>11/10/2017</td>\n",
       "      <td>17/01/2016</td>\n",
       "      <td>11/10/2017</td>\n",
       "    </tr>\n",
       "    <tr>\n",
       "      <th>1</th>\n",
       "      <td>25/03/2015</td>\n",
       "      <td>25/03/2015</td>\n",
       "      <td>02/04/2017</td>\n",
       "      <td>25/03/2015</td>\n",
       "      <td>25/03/2015</td>\n",
       "    </tr>\n",
       "    <tr>\n",
       "      <th>2</th>\n",
       "      <td>27/01/2015</td>\n",
       "      <td>27/01/2015</td>\n",
       "      <td>24/03/2016</td>\n",
       "      <td>27/01/2015</td>\n",
       "      <td>27/01/2015</td>\n",
       "    </tr>\n",
       "    <tr>\n",
       "      <th>3</th>\n",
       "      <td>05/02/2014</td>\n",
       "      <td>01/04/2014</td>\n",
       "      <td>01/04/2014</td>\n",
       "      <td>01/04/2014</td>\n",
       "      <td>01/04/2014</td>\n",
       "    </tr>\n",
       "    <tr>\n",
       "      <th>4</th>\n",
       "      <td>20/07/2009</td>\n",
       "      <td>10/09/2013</td>\n",
       "      <td>10/09/2013</td>\n",
       "      <td>24/01/2016</td>\n",
       "      <td>10/09/2013</td>\n",
       "    </tr>\n",
       "    <tr>\n",
       "      <th>...</th>\n",
       "      <td>...</td>\n",
       "      <td>...</td>\n",
       "      <td>...</td>\n",
       "      <td>...</td>\n",
       "      <td>...</td>\n",
       "    </tr>\n",
       "    <tr>\n",
       "      <th>69995</th>\n",
       "      <td>27/09/2010</td>\n",
       "      <td>01/02/2014</td>\n",
       "      <td>01/02/2014</td>\n",
       "      <td>14/02/2014</td>\n",
       "      <td>01/02/2014</td>\n",
       "    </tr>\n",
       "    <tr>\n",
       "      <th>69996</th>\n",
       "      <td>19/09/2016</td>\n",
       "      <td>19/09/2016</td>\n",
       "      <td>19/09/2016</td>\n",
       "      <td>19/09/2016</td>\n",
       "      <td>19/09/2016</td>\n",
       "    </tr>\n",
       "    <tr>\n",
       "      <th>69997</th>\n",
       "      <td>14/09/2005</td>\n",
       "      <td>25/07/2015</td>\n",
       "      <td>25/07/2015</td>\n",
       "      <td>09/04/2016</td>\n",
       "      <td>25/07/2015</td>\n",
       "    </tr>\n",
       "    <tr>\n",
       "      <th>69998</th>\n",
       "      <td>29/11/2017</td>\n",
       "      <td>29/11/2017</td>\n",
       "      <td>29/11/2017</td>\n",
       "      <td>17/01/2016</td>\n",
       "      <td>29/11/2017</td>\n",
       "    </tr>\n",
       "    <tr>\n",
       "      <th>69999</th>\n",
       "      <td>23/01/2018</td>\n",
       "      <td>23/01/2018</td>\n",
       "      <td>23/01/2018</td>\n",
       "      <td>17/01/2016</td>\n",
       "      <td>23/01/2018</td>\n",
       "    </tr>\n",
       "  </tbody>\n",
       "</table>\n",
       "<p>70000 rows × 5 columns</p>\n",
       "</div>"
      ],
      "text/plain": [
       "      feature_191 feature_192 feature_199 feature_200 feature_201\n",
       "0      11/10/2017  11/10/2017  11/10/2017  17/01/2016  11/10/2017\n",
       "1      25/03/2015  25/03/2015  02/04/2017  25/03/2015  25/03/2015\n",
       "2      27/01/2015  27/01/2015  24/03/2016  27/01/2015  27/01/2015\n",
       "3      05/02/2014  01/04/2014  01/04/2014  01/04/2014  01/04/2014\n",
       "4      20/07/2009  10/09/2013  10/09/2013  24/01/2016  10/09/2013\n",
       "...           ...         ...         ...         ...         ...\n",
       "69995  27/09/2010  01/02/2014  01/02/2014  14/02/2014  01/02/2014\n",
       "69996  19/09/2016  19/09/2016  19/09/2016  19/09/2016  19/09/2016\n",
       "69997  14/09/2005  25/07/2015  25/07/2015  09/04/2016  25/07/2015\n",
       "69998  29/11/2017  29/11/2017  29/11/2017  17/01/2016  29/11/2017\n",
       "69999  23/01/2018  23/01/2018  23/01/2018  17/01/2016  23/01/2018\n",
       "\n",
       "[70000 rows x 5 columns]"
      ]
     },
     "execution_count": 14,
     "metadata": {},
     "output_type": "execute_result"
    }
   ],
   "source": [
    "#Find columns that contain date objects\n",
    "mask = train[Categorical_Features][:10].astype(str).apply(lambda x : x.str.match('(\\d{2,4}(-|\\/|\\\\|\\.| )\\d{2}(-|\\/|\\\\|\\.| )\\d{2,4})+').any())\n",
    "datetime_Features=train[Categorical_Features].loc[:,mask]\n",
    "\n",
    "datetime_Features"
   ]
  },
  {
   "cell_type": "markdown",
   "id": "821e3c55",
   "metadata": {
    "papermill": {
     "duration": 0.073296,
     "end_time": "2022-02-21T10:11:22.496681",
     "exception": false,
     "start_time": "2022-02-21T10:11:22.423385",
     "status": "completed"
    },
    "tags": []
   },
   "source": [
    "<h2> Apply DateTime format </h2>"
   ]
  },
  {
   "cell_type": "code",
   "execution_count": 15,
   "id": "8dc4986a",
   "metadata": {
    "execution": {
     "iopub.execute_input": "2022-02-21T10:11:22.753898Z",
     "iopub.status.busy": "2022-02-21T10:11:22.751951Z",
     "iopub.status.idle": "2022-02-21T10:11:23.855694Z",
     "shell.execute_reply": "2022-02-21T10:11:23.854904Z",
     "shell.execute_reply.started": "2022-02-21T09:29:41.718320Z"
    },
    "papermill": {
     "duration": 1.287877,
     "end_time": "2022-02-21T10:11:23.855877",
     "exception": false,
     "start_time": "2022-02-21T10:11:22.568000",
     "status": "completed"
    },
    "tags": []
   },
   "outputs": [
    {
     "data": {
      "text/html": [
       "<div>\n",
       "<style scoped>\n",
       "    .dataframe tbody tr th:only-of-type {\n",
       "        vertical-align: middle;\n",
       "    }\n",
       "\n",
       "    .dataframe tbody tr th {\n",
       "        vertical-align: top;\n",
       "    }\n",
       "\n",
       "    .dataframe thead th {\n",
       "        text-align: right;\n",
       "    }\n",
       "</style>\n",
       "<table border=\"1\" class=\"dataframe\">\n",
       "  <thead>\n",
       "    <tr style=\"text-align: right;\">\n",
       "      <th></th>\n",
       "      <th>feature_191</th>\n",
       "      <th>feature_192</th>\n",
       "      <th>feature_199</th>\n",
       "      <th>feature_200</th>\n",
       "      <th>feature_201</th>\n",
       "    </tr>\n",
       "  </thead>\n",
       "  <tbody>\n",
       "    <tr>\n",
       "      <th>0</th>\n",
       "      <td>2017-11-10</td>\n",
       "      <td>2017-11-10</td>\n",
       "      <td>2017-11-10</td>\n",
       "      <td>2016-01-17</td>\n",
       "      <td>2017-11-10</td>\n",
       "    </tr>\n",
       "    <tr>\n",
       "      <th>1</th>\n",
       "      <td>2015-03-25</td>\n",
       "      <td>2015-03-25</td>\n",
       "      <td>2017-02-04</td>\n",
       "      <td>2015-03-25</td>\n",
       "      <td>2015-03-25</td>\n",
       "    </tr>\n",
       "    <tr>\n",
       "      <th>2</th>\n",
       "      <td>2015-01-27</td>\n",
       "      <td>2015-01-27</td>\n",
       "      <td>2016-03-24</td>\n",
       "      <td>2015-01-27</td>\n",
       "      <td>2015-01-27</td>\n",
       "    </tr>\n",
       "    <tr>\n",
       "      <th>3</th>\n",
       "      <td>2014-05-02</td>\n",
       "      <td>2014-01-04</td>\n",
       "      <td>2014-01-04</td>\n",
       "      <td>2014-01-04</td>\n",
       "      <td>2014-01-04</td>\n",
       "    </tr>\n",
       "    <tr>\n",
       "      <th>4</th>\n",
       "      <td>2009-07-20</td>\n",
       "      <td>2013-10-09</td>\n",
       "      <td>2013-10-09</td>\n",
       "      <td>2016-01-24</td>\n",
       "      <td>2013-10-09</td>\n",
       "    </tr>\n",
       "    <tr>\n",
       "      <th>...</th>\n",
       "      <td>...</td>\n",
       "      <td>...</td>\n",
       "      <td>...</td>\n",
       "      <td>...</td>\n",
       "      <td>...</td>\n",
       "    </tr>\n",
       "    <tr>\n",
       "      <th>69995</th>\n",
       "      <td>2010-09-27</td>\n",
       "      <td>2014-01-02</td>\n",
       "      <td>2014-01-02</td>\n",
       "      <td>2014-02-14</td>\n",
       "      <td>2014-01-02</td>\n",
       "    </tr>\n",
       "    <tr>\n",
       "      <th>69996</th>\n",
       "      <td>2016-09-19</td>\n",
       "      <td>2016-09-19</td>\n",
       "      <td>2016-09-19</td>\n",
       "      <td>2016-09-19</td>\n",
       "      <td>2016-09-19</td>\n",
       "    </tr>\n",
       "    <tr>\n",
       "      <th>69997</th>\n",
       "      <td>2005-09-14</td>\n",
       "      <td>2015-07-25</td>\n",
       "      <td>2015-07-25</td>\n",
       "      <td>2016-09-04</td>\n",
       "      <td>2015-07-25</td>\n",
       "    </tr>\n",
       "    <tr>\n",
       "      <th>69998</th>\n",
       "      <td>2017-11-29</td>\n",
       "      <td>2017-11-29</td>\n",
       "      <td>2017-11-29</td>\n",
       "      <td>2016-01-17</td>\n",
       "      <td>2017-11-29</td>\n",
       "    </tr>\n",
       "    <tr>\n",
       "      <th>69999</th>\n",
       "      <td>2018-01-23</td>\n",
       "      <td>2018-01-23</td>\n",
       "      <td>2018-01-23</td>\n",
       "      <td>2016-01-17</td>\n",
       "      <td>2018-01-23</td>\n",
       "    </tr>\n",
       "  </tbody>\n",
       "</table>\n",
       "<p>70000 rows × 5 columns</p>\n",
       "</div>"
      ],
      "text/plain": [
       "      feature_191 feature_192 feature_199 feature_200 feature_201\n",
       "0      2017-11-10  2017-11-10  2017-11-10  2016-01-17  2017-11-10\n",
       "1      2015-03-25  2015-03-25  2017-02-04  2015-03-25  2015-03-25\n",
       "2      2015-01-27  2015-01-27  2016-03-24  2015-01-27  2015-01-27\n",
       "3      2014-05-02  2014-01-04  2014-01-04  2014-01-04  2014-01-04\n",
       "4      2009-07-20  2013-10-09  2013-10-09  2016-01-24  2013-10-09\n",
       "...           ...         ...         ...         ...         ...\n",
       "69995  2010-09-27  2014-01-02  2014-01-02  2014-02-14  2014-01-02\n",
       "69996  2016-09-19  2016-09-19  2016-09-19  2016-09-19  2016-09-19\n",
       "69997  2005-09-14  2015-07-25  2015-07-25  2016-09-04  2015-07-25\n",
       "69998  2017-11-29  2017-11-29  2017-11-29  2016-01-17  2017-11-29\n",
       "69999  2018-01-23  2018-01-23  2018-01-23  2016-01-17  2018-01-23\n",
       "\n",
       "[70000 rows x 5 columns]"
      ]
     },
     "execution_count": 15,
     "metadata": {},
     "output_type": "execute_result"
    }
   ],
   "source": [
    "#Apply datetime format\n",
    "train[datetime_Features.columns]= train[datetime_Features.columns].apply(pd.to_datetime,dayfirst=False)\n",
    "test[datetime_Features.columns]= test[datetime_Features.columns].apply(pd.to_datetime,dayfirst=False)\n",
    "\n",
    "#Show datetime features\n",
    "datetime_tmp=train.select_dtypes(include=['datetime'])\n",
    "datetime_tmp"
   ]
  },
  {
   "cell_type": "markdown",
   "id": "5480e245",
   "metadata": {
    "papermill": {
     "duration": 0.072561,
     "end_time": "2022-02-21T10:11:24.001984",
     "exception": false,
     "start_time": "2022-02-21T10:11:23.929423",
     "status": "completed"
    },
    "tags": []
   },
   "source": [
    "<h2> Separating Year, Month,Week and Day </h2>"
   ]
  },
  {
   "cell_type": "code",
   "execution_count": 16,
   "id": "cdaa5f11",
   "metadata": {
    "execution": {
     "iopub.execute_input": "2022-02-21T10:11:24.159497Z",
     "iopub.status.busy": "2022-02-21T10:11:24.158697Z",
     "iopub.status.idle": "2022-02-21T10:11:24.229807Z",
     "shell.execute_reply": "2022-02-21T10:11:24.230493Z",
     "shell.execute_reply.started": "2022-02-21T09:29:42.895807Z"
    },
    "papermill": {
     "duration": 0.150927,
     "end_time": "2022-02-21T10:11:24.230716",
     "exception": false,
     "start_time": "2022-02-21T10:11:24.079789",
     "status": "completed"
    },
    "tags": []
   },
   "outputs": [],
   "source": [
    "#get each part of datetime using pandas DatetimeIndex\n",
    "for col in datetime_tmp.columns:\n",
    "    train[col+\"_year\"]=pd.DatetimeIndex(train[col]).year\n",
    "   # train[col+\"_month\"]=pd.DatetimeIndex(train[col]).month\n",
    "  # train[col+\"_week\"]=pd.DatetimeIndex(train[col]).week\n",
    "   # train[col+\"_day\"]=pd.DatetimeIndex(train[col]).day\n",
    "\n",
    "    \n",
    "    test[col+\"_year\"]=pd.DatetimeIndex(test[col]).year\n",
    "   # test[col+\"_month\"]=pd.DatetimeIndex(test[col]).month\n",
    "   # test[col+\"_week\"]=pd.DatetimeIndex(test[col]).week\n",
    "   # test[col+\"_day\"]=pd.DatetimeIndex(test[col]).day"
   ]
  },
  {
   "cell_type": "markdown",
   "id": "f3757f24",
   "metadata": {
    "papermill": {
     "duration": 0.074693,
     "end_time": "2022-02-21T10:11:24.376086",
     "exception": false,
     "start_time": "2022-02-21T10:11:24.301393",
     "status": "completed"
    },
    "tags": []
   },
   "source": [
    "<h2> Drop datetime features </h2>"
   ]
  },
  {
   "cell_type": "code",
   "execution_count": 17,
   "id": "7dca2ca1",
   "metadata": {
    "execution": {
     "iopub.execute_input": "2022-02-21T10:11:24.531333Z",
     "iopub.status.busy": "2022-02-21T10:11:24.530492Z",
     "iopub.status.idle": "2022-02-21T10:11:24.948887Z",
     "shell.execute_reply": "2022-02-21T10:11:24.948140Z",
     "shell.execute_reply.started": "2022-02-21T09:29:42.968858Z"
    },
    "papermill": {
     "duration": 0.499411,
     "end_time": "2022-02-21T10:11:24.949055",
     "exception": false,
     "start_time": "2022-02-21T10:11:24.449644",
     "status": "completed"
    },
    "tags": []
   },
   "outputs": [],
   "source": [
    "#Drop from train/test\n",
    "train.drop(list(datetime_tmp.columns),axis=1,inplace=True)\n",
    "test.drop(list(datetime_tmp.columns),axis=1,inplace=True)\n",
    "\n",
    "#Update Categorical_Features list\n",
    "Categorical_Features = [e for e in Categorical_Features\n",
    "                        if e not in datetime_tmp.columns]"
   ]
  },
  {
   "cell_type": "code",
   "execution_count": 18,
   "id": "c7daec2d",
   "metadata": {
    "execution": {
     "iopub.execute_input": "2022-02-21T10:11:25.100958Z",
     "iopub.status.busy": "2022-02-21T10:11:25.100114Z",
     "iopub.status.idle": "2022-02-21T10:11:25.343970Z",
     "shell.execute_reply": "2022-02-21T10:11:25.344723Z",
     "shell.execute_reply.started": "2022-02-21T09:29:43.328641Z"
    },
    "papermill": {
     "duration": 0.323115,
     "end_time": "2022-02-21T10:11:25.344958",
     "exception": false,
     "start_time": "2022-02-21T10:11:25.021843",
     "status": "completed"
    },
    "tags": []
   },
   "outputs": [],
   "source": [
    "#Create a copy of datasets\n",
    "train_c=train.copy()\n",
    "test_c=test.copy()"
   ]
  },
  {
   "cell_type": "markdown",
   "id": "d5e3d076",
   "metadata": {
    "papermill": {
     "duration": 0.074216,
     "end_time": "2022-02-21T10:11:25.491142",
     "exception": false,
     "start_time": "2022-02-21T10:11:25.416926",
     "status": "completed"
    },
    "tags": []
   },
   "source": [
    "<h1 id=\"cardinality\" style=\"color:white;background:#0076a8;padding:8px;border-radius:8px\">  Cardinality of categorical features </h1>\n",
    "\n",
    "The function below calculates the number of unique values for each categorical feature and returns a data frame"
   ]
  },
  {
   "cell_type": "code",
   "execution_count": 19,
   "id": "707c859b",
   "metadata": {
    "_kg_hide-input": true,
    "execution": {
     "iopub.execute_input": "2022-02-21T10:11:25.645930Z",
     "iopub.status.busy": "2022-02-21T10:11:25.644909Z",
     "iopub.status.idle": "2022-02-21T10:11:25.647897Z",
     "shell.execute_reply": "2022-02-21T10:11:25.647278Z",
     "shell.execute_reply.started": "2022-02-21T09:29:43.534568Z"
    },
    "papermill": {
     "duration": 0.0835,
     "end_time": "2022-02-21T10:11:25.648088",
     "exception": false,
     "start_time": "2022-02-21T10:11:25.564588",
     "status": "completed"
    },
    "tags": []
   },
   "outputs": [],
   "source": [
    "#Get the number of unique values for each feature\n",
    "def get_high_cardinality(df,ftype):\n",
    "    tmp=[]\n",
    "    for col in ftype:\n",
    "        tmp.append( df[col].nunique() )\n",
    "\n",
    "    High_cardinality=pd.DataFrame({'Features':ftype,'Cardinality':tmp})\n",
    "    return High_cardinality.sort_values(by='Cardinality',ascending=False)"
   ]
  },
  {
   "cell_type": "code",
   "execution_count": 20,
   "id": "41e38752",
   "metadata": {
    "execution": {
     "iopub.execute_input": "2022-02-21T10:11:25.795184Z",
     "iopub.status.busy": "2022-02-21T10:11:25.794325Z",
     "iopub.status.idle": "2022-02-21T10:11:26.263941Z",
     "shell.execute_reply": "2022-02-21T10:11:26.263282Z",
     "shell.execute_reply.started": "2022-02-21T09:29:43.542810Z"
    },
    "papermill": {
     "duration": 0.54442,
     "end_time": "2022-02-21T10:11:26.264112",
     "exception": false,
     "start_time": "2022-02-21T10:11:25.719692",
     "status": "completed"
    },
    "tags": []
   },
   "outputs": [
    {
     "data": {
      "text/html": [
       "<div>\n",
       "<style scoped>\n",
       "    .dataframe tbody tr th:only-of-type {\n",
       "        vertical-align: middle;\n",
       "    }\n",
       "\n",
       "    .dataframe tbody tr th {\n",
       "        vertical-align: top;\n",
       "    }\n",
       "\n",
       "    .dataframe thead th {\n",
       "        text-align: right;\n",
       "    }\n",
       "</style>\n",
       "<table border=\"1\" class=\"dataframe\">\n",
       "  <thead>\n",
       "    <tr style=\"text-align: right;\">\n",
       "      <th></th>\n",
       "      <th>Features</th>\n",
       "      <th>Cardinality</th>\n",
       "    </tr>\n",
       "  </thead>\n",
       "  <tbody>\n",
       "    <tr>\n",
       "      <th>7</th>\n",
       "      <td>feature_18</td>\n",
       "      <td>15858</td>\n",
       "    </tr>\n",
       "    <tr>\n",
       "      <th>28</th>\n",
       "      <td>feature_133</td>\n",
       "      <td>7126</td>\n",
       "    </tr>\n",
       "    <tr>\n",
       "      <th>9</th>\n",
       "      <td>feature_20</td>\n",
       "      <td>5841</td>\n",
       "    </tr>\n",
       "    <tr>\n",
       "      <th>11</th>\n",
       "      <td>feature_22</td>\n",
       "      <td>2339</td>\n",
       "    </tr>\n",
       "    <tr>\n",
       "      <th>10</th>\n",
       "      <td>feature_21</td>\n",
       "      <td>2327</td>\n",
       "    </tr>\n",
       "    <tr>\n",
       "      <th>8</th>\n",
       "      <td>feature_19</td>\n",
       "      <td>260</td>\n",
       "    </tr>\n",
       "    <tr>\n",
       "      <th>24</th>\n",
       "      <td>feature_54</td>\n",
       "      <td>260</td>\n",
       "    </tr>\n",
       "    <tr>\n",
       "      <th>35</th>\n",
       "      <td>feature_185</td>\n",
       "      <td>255</td>\n",
       "    </tr>\n",
       "    <tr>\n",
       "      <th>48</th>\n",
       "      <td>feature_246</td>\n",
       "      <td>147</td>\n",
       "    </tr>\n",
       "    <tr>\n",
       "      <th>63</th>\n",
       "      <td>feature_279</td>\n",
       "      <td>136</td>\n",
       "    </tr>\n",
       "  </tbody>\n",
       "</table>\n",
       "</div>"
      ],
      "text/plain": [
       "       Features  Cardinality\n",
       "7    feature_18        15858\n",
       "28  feature_133         7126\n",
       "9    feature_20         5841\n",
       "11   feature_22         2339\n",
       "10   feature_21         2327\n",
       "8    feature_19          260\n",
       "24   feature_54          260\n",
       "35  feature_185          255\n",
       "48  feature_246          147\n",
       "63  feature_279          136"
      ]
     },
     "execution_count": 20,
     "metadata": {},
     "output_type": "execute_result"
    }
   ],
   "source": [
    "#Categorical Features Sorted by cardinality \n",
    "cardinality=get_high_cardinality(train_c,Categorical_Features).head(10)\n",
    "cardinality"
   ]
  },
  {
   "cell_type": "markdown",
   "id": "f0171e76",
   "metadata": {
    "papermill": {
     "duration": 0.072803,
     "end_time": "2022-02-21T10:11:26.411912",
     "exception": false,
     "start_time": "2022-02-21T10:11:26.339109",
     "status": "completed"
    },
    "tags": []
   },
   "source": [
    "### 'feature_18' has 7181 categories with 1 value count:"
   ]
  },
  {
   "cell_type": "code",
   "execution_count": 21,
   "id": "168412a0",
   "metadata": {
    "execution": {
     "iopub.execute_input": "2022-02-21T10:11:26.590265Z",
     "iopub.status.busy": "2022-02-21T10:11:26.589502Z",
     "iopub.status.idle": "2022-02-21T10:11:26.621725Z",
     "shell.execute_reply": "2022-02-21T10:11:26.621072Z",
     "shell.execute_reply.started": "2022-02-21T09:29:43.988245Z"
    },
    "papermill": {
     "duration": 0.133322,
     "end_time": "2022-02-21T10:11:26.621896",
     "exception": false,
     "start_time": "2022-02-21T10:11:26.488574",
     "status": "completed"
    },
    "tags": []
   },
   "outputs": [
    {
     "data": {
      "text/plain": [
       "C21571    1\n",
       "C18763    1\n",
       "C7904     1\n",
       "C7468     1\n",
       "C25958    1\n",
       "         ..\n",
       "C10695    1\n",
       "C23750    1\n",
       "C14000    1\n",
       "C11838    1\n",
       "C22264    1\n",
       "Name: feature_18, Length: 7181, dtype: int64"
      ]
     },
     "execution_count": 21,
     "metadata": {},
     "output_type": "execute_result"
    }
   ],
   "source": [
    "train_c['feature_18'].value_counts()[train_c['feature_18'].value_counts()<2]"
   ]
  },
  {
   "cell_type": "markdown",
   "id": "b4ed17de",
   "metadata": {
    "papermill": {
     "duration": 0.077921,
     "end_time": "2022-02-21T10:11:26.775835",
     "exception": false,
     "start_time": "2022-02-21T10:11:26.697914",
     "status": "completed"
    },
    "tags": []
   },
   "source": [
    "<h2> Reducing cardinality of categorical features </h2>\n",
    "\n",
    "Categories with one value count will be replaced with the 'other'"
   ]
  },
  {
   "cell_type": "code",
   "execution_count": 22,
   "id": "1201a793",
   "metadata": {
    "execution": {
     "iopub.execute_input": "2022-02-21T10:11:26.938312Z",
     "iopub.status.busy": "2022-02-21T10:11:26.937478Z",
     "iopub.status.idle": "2022-02-21T10:12:06.581955Z",
     "shell.execute_reply": "2022-02-21T10:12:06.582653Z",
     "shell.execute_reply.started": "2022-02-21T09:29:44.042943Z"
    },
    "papermill": {
     "duration": 39.734082,
     "end_time": "2022-02-21T10:12:06.582934",
     "exception": false,
     "start_time": "2022-02-21T10:11:26.848852",
     "status": "completed"
    },
    "tags": []
   },
   "outputs": [],
   "source": [
    "for col in list(get_high_cardinality(train_c,Categorical_Features).Features):\n",
    "        #get a list of categories which contain one value\n",
    "        tmp=list(train_c[col].value_counts()[train_c[col].value_counts()<2].index)\n",
    "        #Replace with 'other'\n",
    "        train_c[col]=train_c[col].apply(lambda x:'other' if x in tmp else x)\n",
    "\n",
    "#Do the same for test dataset    \n",
    "for col in list(get_high_cardinality(test_c,Categorical_Features).Features):\n",
    "        tmp=list(test_c[col].value_counts()[test_c[col].value_counts()<2].index)\n",
    "        test_c[col]=test_c[col].apply(lambda x:'other' if x in tmp else x)"
   ]
  },
  {
   "cell_type": "markdown",
   "id": "c49a9f37",
   "metadata": {
    "papermill": {
     "duration": 0.072911,
     "end_time": "2022-02-21T10:12:06.727717",
     "exception": false,
     "start_time": "2022-02-21T10:12:06.654806",
     "status": "completed"
    },
    "tags": []
   },
   "source": [
    "<h1 id=\"missings\" style=\"color:white;background:#0076a8;padding:8px;border-radius:8px\">  Chi-Square Test of independence for categorical features </h1>"
   ]
  },
  {
   "cell_type": "markdown",
   "id": "7a4f972c",
   "metadata": {
    "papermill": {
     "duration": 0.072289,
     "end_time": "2022-02-21T10:12:06.872377",
     "exception": false,
     "start_time": "2022-02-21T10:12:06.800088",
     "status": "completed"
    },
    "tags": []
   },
   "source": [
    "<h3> p-value level = 0.05 </h3>"
   ]
  },
  {
   "cell_type": "markdown",
   "id": "96895406",
   "metadata": {
    "papermill": {
     "duration": 0.073676,
     "end_time": "2022-02-21T10:12:07.019906",
     "exception": false,
     "start_time": "2022-02-21T10:12:06.946230",
     "status": "completed"
    },
    "tags": []
   },
   "source": [
    "<h3> Null Hypothesis (H0): There is no relationship between feature and target </h3>"
   ]
  },
  {
   "cell_type": "code",
   "execution_count": 23,
   "id": "b607d757",
   "metadata": {
    "execution": {
     "iopub.execute_input": "2022-02-21T10:12:07.167313Z",
     "iopub.status.busy": "2022-02-21T10:12:07.166612Z",
     "iopub.status.idle": "2022-02-21T10:12:15.172018Z",
     "shell.execute_reply": "2022-02-21T10:12:15.171363Z",
     "shell.execute_reply.started": "2022-02-21T09:30:22.852460Z"
    },
    "papermill": {
     "duration": 8.079974,
     "end_time": "2022-02-21T10:12:15.172189",
     "exception": false,
     "start_time": "2022-02-21T10:12:07.092215",
     "status": "completed"
    },
    "tags": []
   },
   "outputs": [
    {
     "data": {
      "text/html": [
       "<div>\n",
       "<style scoped>\n",
       "    .dataframe tbody tr th:only-of-type {\n",
       "        vertical-align: middle;\n",
       "    }\n",
       "\n",
       "    .dataframe tbody tr th {\n",
       "        vertical-align: top;\n",
       "    }\n",
       "\n",
       "    .dataframe thead th {\n",
       "        text-align: right;\n",
       "    }\n",
       "</style>\n",
       "<table border=\"1\" class=\"dataframe\">\n",
       "  <thead>\n",
       "    <tr style=\"text-align: right;\">\n",
       "      <th></th>\n",
       "      <th>Column</th>\n",
       "      <th>Hypothesis</th>\n",
       "    </tr>\n",
       "  </thead>\n",
       "  <tbody>\n",
       "    <tr>\n",
       "      <th>0</th>\n",
       "      <td>feature_0</td>\n",
       "      <td>Fail to Reject Null Hypothesis</td>\n",
       "    </tr>\n",
       "    <tr>\n",
       "      <th>1</th>\n",
       "      <td>feature_1</td>\n",
       "      <td>Fail to Reject Null Hypothesis</td>\n",
       "    </tr>\n",
       "    <tr>\n",
       "      <th>2</th>\n",
       "      <td>feature_2</td>\n",
       "      <td>Reject Null Hypothesis</td>\n",
       "    </tr>\n",
       "    <tr>\n",
       "      <th>3</th>\n",
       "      <td>feature_3</td>\n",
       "      <td>Reject Null Hypothesis</td>\n",
       "    </tr>\n",
       "    <tr>\n",
       "      <th>4</th>\n",
       "      <td>feature_4</td>\n",
       "      <td>Reject Null Hypothesis</td>\n",
       "    </tr>\n",
       "    <tr>\n",
       "      <th>...</th>\n",
       "      <td>...</td>\n",
       "      <td>...</td>\n",
       "    </tr>\n",
       "    <tr>\n",
       "      <th>77</th>\n",
       "      <td>feature_293</td>\n",
       "      <td>Reject Null Hypothesis</td>\n",
       "    </tr>\n",
       "    <tr>\n",
       "      <th>78</th>\n",
       "      <td>feature_336</td>\n",
       "      <td>Reject Null Hypothesis</td>\n",
       "    </tr>\n",
       "    <tr>\n",
       "      <th>79</th>\n",
       "      <td>feature_337</td>\n",
       "      <td>Fail to Reject Null Hypothesis</td>\n",
       "    </tr>\n",
       "    <tr>\n",
       "      <th>80</th>\n",
       "      <td>feature_338</td>\n",
       "      <td>Fail to Reject Null Hypothesis</td>\n",
       "    </tr>\n",
       "    <tr>\n",
       "      <th>81</th>\n",
       "      <td>feature_371</td>\n",
       "      <td>Reject Null Hypothesis</td>\n",
       "    </tr>\n",
       "  </tbody>\n",
       "</table>\n",
       "<p>82 rows × 2 columns</p>\n",
       "</div>"
      ],
      "text/plain": [
       "         Column                      Hypothesis\n",
       "0     feature_0  Fail to Reject Null Hypothesis\n",
       "1     feature_1  Fail to Reject Null Hypothesis\n",
       "2     feature_2          Reject Null Hypothesis\n",
       "3     feature_3          Reject Null Hypothesis\n",
       "4     feature_4          Reject Null Hypothesis\n",
       "..          ...                             ...\n",
       "77  feature_293          Reject Null Hypothesis\n",
       "78  feature_336          Reject Null Hypothesis\n",
       "79  feature_337  Fail to Reject Null Hypothesis\n",
       "80  feature_338  Fail to Reject Null Hypothesis\n",
       "81  feature_371          Reject Null Hypothesis\n",
       "\n",
       "[82 rows x 2 columns]"
      ]
     },
     "execution_count": 23,
     "metadata": {},
     "output_type": "execute_result"
    }
   ],
   "source": [
    "# Import the chi-square \n",
    "from scipy.stats import chi2_contingency\n",
    "\n",
    "chi2_check = []\n",
    "for i in Categorical_Features:\n",
    "    if chi2_contingency(pd.crosstab(train['target'], train[i]))[1] < 0.05:\n",
    "        chi2_check.append('Reject Null Hypothesis')\n",
    "    else:\n",
    "        chi2_check.append('Fail to Reject Null Hypothesis')\n",
    "res = pd.DataFrame(data = [Categorical_Features, chi2_check] \n",
    "             ).T \n",
    "res.columns = ['Column', 'Hypothesis']\n",
    "res"
   ]
  },
  {
   "cell_type": "markdown",
   "id": "bb7997be",
   "metadata": {
    "papermill": {
     "duration": 0.071592,
     "end_time": "2022-02-21T10:12:15.316345",
     "exception": false,
     "start_time": "2022-02-21T10:12:15.244753",
     "status": "completed"
    },
    "tags": []
   },
   "source": [
    "<h3> Add those features to drop list which failed to reject Null Hypothesis </h3>\n",
    "I'll create a drop list to add unwanted features into it "
   ]
  },
  {
   "cell_type": "code",
   "execution_count": 24,
   "id": "296b640a",
   "metadata": {
    "execution": {
     "iopub.execute_input": "2022-02-21T10:12:15.471324Z",
     "iopub.status.busy": "2022-02-21T10:12:15.470507Z",
     "iopub.status.idle": "2022-02-21T10:12:15.473425Z",
     "shell.execute_reply": "2022-02-21T10:12:15.473947Z",
     "shell.execute_reply.started": "2022-02-21T09:30:30.427259Z"
    },
    "papermill": {
     "duration": 0.084895,
     "end_time": "2022-02-21T10:12:15.474148",
     "exception": false,
     "start_time": "2022-02-21T10:12:15.389253",
     "status": "completed"
    },
    "tags": []
   },
   "outputs": [
    {
     "name": "stdout",
     "output_type": "stream",
     "text": [
      "17  features added to drop list\n"
     ]
    }
   ],
   "source": [
    "#add unwanted categorical features to drop list\n",
    "Unwanted_catFeatures= res[res.Hypothesis=='Fail to Reject Null Hypothesis'].Column\n",
    "\n",
    "#Add to Drop list\n",
    "Features_toDrop=[]\n",
    "Features_toDrop+=list(Unwanted_catFeatures)\n",
    "print(len(Unwanted_catFeatures),' features added to drop list')"
   ]
  },
  {
   "cell_type": "markdown",
   "id": "70b46f1d",
   "metadata": {
    "papermill": {
     "duration": 0.07216,
     "end_time": "2022-02-21T10:12:15.620087",
     "exception": false,
     "start_time": "2022-02-21T10:12:15.547927",
     "status": "completed"
    },
    "tags": []
   },
   "source": [
    "<h1 id=\"Working\" style=\"color:white;background:#0076a8;padding:8px;border-radius:8px\">  Working with numeric features </h1>"
   ]
  },
  {
   "cell_type": "markdown",
   "id": "b5369009",
   "metadata": {
    "papermill": {
     "duration": 0.075876,
     "end_time": "2022-02-21T10:12:15.768561",
     "exception": false,
     "start_time": "2022-02-21T10:12:15.692685",
     "status": "completed"
    },
    "tags": []
   },
   "source": [
    "## Correlations"
   ]
  },
  {
   "cell_type": "markdown",
   "id": "5caa91c5",
   "metadata": {
    "papermill": {
     "duration": 0.07246,
     "end_time": "2022-02-21T10:12:15.914207",
     "exception": false,
     "start_time": "2022-02-21T10:12:15.841747",
     "status": "completed"
    },
    "tags": []
   },
   "source": [
    "<h3>Correlation between numeric features and the target</h3>\n"
   ]
  },
  {
   "cell_type": "code",
   "execution_count": 25,
   "id": "6e7f0afa",
   "metadata": {
    "execution": {
     "iopub.execute_input": "2022-02-21T10:12:16.067832Z",
     "iopub.status.busy": "2022-02-21T10:12:16.066931Z",
     "iopub.status.idle": "2022-02-21T10:12:16.669645Z",
     "shell.execute_reply": "2022-02-21T10:12:16.670241Z",
     "shell.execute_reply.started": "2022-02-21T09:30:30.436603Z"
    },
    "papermill": {
     "duration": 0.683841,
     "end_time": "2022-02-21T10:12:16.670495",
     "exception": false,
     "start_time": "2022-02-21T10:12:15.986654",
     "status": "completed"
    },
    "tags": []
   },
   "outputs": [],
   "source": [
    "#Get correlations with target (sorted)\n",
    "corr_df=train_c.drop(['target'],axis=1).corrwith(train_c['target']).abs().sort_values(ascending=False)"
   ]
  },
  {
   "cell_type": "code",
   "execution_count": 26,
   "id": "3c24bc54",
   "metadata": {
    "_kg_hide-input": true,
    "execution": {
     "iopub.execute_input": "2022-02-21T10:12:16.821418Z",
     "iopub.status.busy": "2022-02-21T10:12:16.820598Z",
     "iopub.status.idle": "2022-02-21T10:12:17.342823Z",
     "shell.execute_reply": "2022-02-21T10:12:17.343600Z",
     "shell.execute_reply.started": "2022-02-21T09:30:31.006333Z"
    },
    "papermill": {
     "duration": 0.599802,
     "end_time": "2022-02-21T10:12:17.343843",
     "exception": false,
     "start_time": "2022-02-21T10:12:16.744041",
     "status": "completed"
    },
    "tags": []
   },
   "outputs": [
    {
     "data": {
      "text/plain": [
       "Text(0.5, 0, 'Correlation')"
      ]
     },
     "execution_count": 26,
     "metadata": {},
     "output_type": "execute_result"
    },
    {
     "data": {
      "image/png": "[encoded data removed]",
      "text/plain": [
       "<Figure size 720x720 with 1 Axes>"
      ]
     },
     "metadata": {},
     "output_type": "display_data"
    }
   ],
   "source": [
    "#Plot features which have more than 0.08 correlation with the target\n",
    "plt.figure(figsize=(10,10))\n",
    "\n",
    "#Plot - sorted correlations\n",
    "sns.barplot(x=corr_df[corr_df>0.08],y=corr_df[corr_df>0.08].index).set_title('Correlation between numeric features and target')\n",
    "plt.xlabel('Correlation')"
   ]
  },
  {
   "cell_type": "markdown",
   "id": "b8ce273e",
   "metadata": {
    "papermill": {
     "duration": 0.075336,
     "end_time": "2022-02-21T10:12:17.500509",
     "exception": false,
     "start_time": "2022-02-21T10:12:17.425173",
     "status": "completed"
    },
    "tags": []
   },
   "source": [
    "### Distribution "
   ]
  },
  {
   "cell_type": "code",
   "execution_count": 27,
   "id": "c3d33b8b",
   "metadata": {
    "execution": {
     "iopub.execute_input": "2022-02-21T10:12:17.660361Z",
     "iopub.status.busy": "2022-02-21T10:12:17.659230Z",
     "iopub.status.idle": "2022-02-21T10:12:18.005394Z",
     "shell.execute_reply": "2022-02-21T10:12:18.005998Z",
     "shell.execute_reply.started": "2022-02-21T09:30:31.512787Z"
    },
    "papermill": {
     "duration": 0.427666,
     "end_time": "2022-02-21T10:12:18.006207",
     "exception": false,
     "start_time": "2022-02-21T10:12:17.578541",
     "status": "completed"
    },
    "tags": []
   },
   "outputs": [
    {
     "data": {
      "image/png": "[encoded data removed]",
      "text/plain": [
       "<Figure size 720x360 with 1 Axes>"
      ]
     },
     "metadata": {},
     "output_type": "display_data"
    }
   ],
   "source": [
    "plt.figure(figsize=(10,5))\n",
    "plt.xlabel('Correlation with target')\n",
    "plt.ylabel('The number of numeric features')\n",
    "sns.histplot(corr_df).set_title('Distribution of numeric features in terms of correlation with the target',size=15)\n",
    "plt.show()"
   ]
  },
  {
   "cell_type": "markdown",
   "id": "199d1590",
   "metadata": {
    "papermill": {
     "duration": 0.075485,
     "end_time": "2022-02-21T10:12:18.157817",
     "exception": false,
     "start_time": "2022-02-21T10:12:18.082332",
     "status": "completed"
    },
    "tags": []
   },
   "source": [
    "As we can see the correlation between most numeric features and the target is not significant, There is only 1 numeric feature which has correlation more than 0.3 with the target and it's binary feature just like the target"
   ]
  },
  {
   "cell_type": "markdown",
   "id": "56831a1f",
   "metadata": {
    "papermill": {
     "duration": 0.077127,
     "end_time": "2022-02-21T10:12:18.312080",
     "exception": false,
     "start_time": "2022-02-21T10:12:18.234953",
     "status": "completed"
    },
    "tags": []
   },
   "source": [
    "### Visualize"
   ]
  },
  {
   "cell_type": "code",
   "execution_count": 28,
   "id": "acd25514",
   "metadata": {
    "_kg_hide-input": true,
    "execution": {
     "iopub.execute_input": "2022-02-21T10:12:18.475872Z",
     "iopub.status.busy": "2022-02-21T10:12:18.474738Z",
     "iopub.status.idle": "2022-02-21T10:12:20.672520Z",
     "shell.execute_reply": "2022-02-21T10:12:20.673071Z",
     "shell.execute_reply.started": "2022-02-21T09:30:31.835990Z"
    },
    "papermill": {
     "duration": 2.283163,
     "end_time": "2022-02-21T10:12:20.673276",
     "exception": false,
     "start_time": "2022-02-21T10:12:18.390113",
     "status": "completed"
    },
    "tags": []
   },
   "outputs": [
    {
     "data": {
      "image/png": "[encoded data removed]",
      "text/plain": [
       "<Figure size 1224x864 with 9 Axes>"
      ]
     },
     "metadata": {},
     "output_type": "display_data"
    }
   ],
   "source": [
    "fig, ax = plt.subplots(3,3,figsize=(17,12))\n",
    "sns.countplot(train_c.feature_307,hue=train_c.target, ax=ax[0][0])\n",
    "sns.countplot(train_c.feature_297,hue=train_c.target, ax=ax[0][1])\n",
    "sns.histplot(train_c.feature_81, ax=ax[0][2])\n",
    "sns.histplot(train_c.feature_82, ax=ax[1][0])\n",
    "sns.countplot(train_c.feature_108,hue=train_c.target, ax=ax[1][1])\n",
    "sns.countplot(train_c.feature_110,hue=train_c.target, ax=ax[1][2])\n",
    "sns.countplot(train_c.feature_470,hue=train_c.target, ax=ax[2][0])\n",
    "sns.countplot(train_c.feature_264,hue=train_c.target, ax=ax[2][1])\n",
    "sns.countplot(train_c.feature_263,hue=train_c.target, ax=ax[2][2])\n",
    "\n",
    "plt.suptitle('Important numeric features')\n",
    "plt.show()"
   ]
  },
  {
   "cell_type": "markdown",
   "id": "7b3f862f",
   "metadata": {
    "papermill": {
     "duration": 0.07788,
     "end_time": "2022-02-21T10:12:20.830796",
     "exception": false,
     "start_time": "2022-02-21T10:12:20.752916",
     "status": "completed"
    },
    "tags": []
   },
   "source": [
    "### Add new features"
   ]
  },
  {
   "cell_type": "code",
   "execution_count": 29,
   "id": "b2f595a4",
   "metadata": {
    "execution": {
     "iopub.execute_input": "2022-02-21T10:12:20.998439Z",
     "iopub.status.busy": "2022-02-21T10:12:20.993270Z",
     "iopub.status.idle": "2022-02-21T10:12:21.073728Z",
     "shell.execute_reply": "2022-02-21T10:12:21.073037Z",
     "shell.execute_reply.started": "2022-02-21T09:30:33.842055Z"
    },
    "papermill": {
     "duration": 0.164741,
     "end_time": "2022-02-21T10:12:21.073915",
     "exception": false,
     "start_time": "2022-02-21T10:12:20.909174",
     "status": "completed"
    },
    "tags": []
   },
   "outputs": [],
   "source": [
    "#Taking sqrt of feature_81\n",
    "train_c['feature_81_sqrt']= train_c.feature_81.apply(np.sqrt)\n",
    "test_c['feature_81_sqrt']= test_c.feature_81.apply(np.sqrt)\n",
    "\n",
    "#Binarization feature_82\n",
    "train_c['feature_82_binary']= train_c['feature_82'].apply(lambda x: 0 if x==0 else 1)\n",
    "test_c['feature_82_binary']= test_c['feature_82'].apply(lambda x: 0 if x==0 else 1)\n",
    "\n",
    "#Multiplication of feature_307 and feature_82_binary\n",
    "train_c['feature_82_307']= train_c['feature_307']*train_c['feature_82_binary']\n",
    "test_c['feature_82_307']= test_c['feature_307']*test_c['feature_82_binary']"
   ]
  },
  {
   "cell_type": "markdown",
   "id": "18eaf1f6",
   "metadata": {
    "papermill": {
     "duration": 0.077377,
     "end_time": "2022-02-21T10:12:21.229803",
     "exception": false,
     "start_time": "2022-02-21T10:12:21.152426",
     "status": "completed"
    },
    "tags": []
   },
   "source": [
    "### Add features to drop list that have insignificant correlation with target"
   ]
  },
  {
   "cell_type": "code",
   "execution_count": 30,
   "id": "936ffa7b",
   "metadata": {
    "execution": {
     "iopub.execute_input": "2022-02-21T10:12:21.396355Z",
     "iopub.status.busy": "2022-02-21T10:12:21.395496Z",
     "iopub.status.idle": "2022-02-21T10:12:21.400770Z",
     "shell.execute_reply": "2022-02-21T10:12:21.400219Z",
     "shell.execute_reply.started": "2022-02-21T09:30:33.921346Z"
    },
    "papermill": {
     "duration": 0.09365,
     "end_time": "2022-02-21T10:12:21.400970",
     "exception": false,
     "start_time": "2022-02-21T10:12:21.307320",
     "status": "completed"
    },
    "tags": []
   },
   "outputs": [
    {
     "name": "stdout",
     "output_type": "stream",
     "text": [
      "28  features added to drop list\n"
     ]
    }
   ],
   "source": [
    "#Corr less than 0.002 with target\n",
    "low_corr=list(corr_df[corr_df<0.002].index)\n",
    "\n",
    "#Add to drop list\n",
    "Features_toDrop+=low_corr\n",
    "print(len(low_corr),' features added to drop list')"
   ]
  },
  {
   "cell_type": "markdown",
   "id": "399a76bf",
   "metadata": {
    "papermill": {
     "duration": 0.082989,
     "end_time": "2022-02-21T10:12:21.563981",
     "exception": false,
     "start_time": "2022-02-21T10:12:21.480992",
     "status": "completed"
    },
    "tags": []
   },
   "source": [
    "## Features with one unique value "
   ]
  },
  {
   "cell_type": "code",
   "execution_count": 31,
   "id": "03da0a72",
   "metadata": {
    "execution": {
     "iopub.execute_input": "2022-02-21T10:12:21.732674Z",
     "iopub.status.busy": "2022-02-21T10:12:21.731817Z",
     "iopub.status.idle": "2022-02-21T10:12:22.548891Z",
     "shell.execute_reply": "2022-02-21T10:12:22.548262Z",
     "shell.execute_reply.started": "2022-02-21T09:30:33.930474Z"
    },
    "papermill": {
     "duration": 0.903226,
     "end_time": "2022-02-21T10:12:22.549054",
     "exception": false,
     "start_time": "2022-02-21T10:12:21.645828",
     "status": "completed"
    },
    "tags": []
   },
   "outputs": [
    {
     "data": {
      "text/html": [
       "<div>\n",
       "<style scoped>\n",
       "    .dataframe tbody tr th:only-of-type {\n",
       "        vertical-align: middle;\n",
       "    }\n",
       "\n",
       "    .dataframe tbody tr th {\n",
       "        vertical-align: top;\n",
       "    }\n",
       "\n",
       "    .dataframe thead th {\n",
       "        text-align: right;\n",
       "    }\n",
       "</style>\n",
       "<table border=\"1\" class=\"dataframe\">\n",
       "  <thead>\n",
       "    <tr style=\"text-align: right;\">\n",
       "      <th></th>\n",
       "      <th>feature_55</th>\n",
       "      <th>feature_100</th>\n",
       "      <th>feature_149</th>\n",
       "      <th>feature_187</th>\n",
       "      <th>feature_188</th>\n",
       "      <th>feature_190</th>\n",
       "      <th>feature_227</th>\n",
       "      <th>feature_228</th>\n",
       "      <th>feature_248</th>\n",
       "      <th>feature_249</th>\n",
       "      <th>...</th>\n",
       "      <th>feature_484</th>\n",
       "      <th>feature_487</th>\n",
       "      <th>feature_489</th>\n",
       "      <th>feature_491</th>\n",
       "      <th>feature_493</th>\n",
       "      <th>feature_495</th>\n",
       "      <th>feature_498</th>\n",
       "      <th>feature_500</th>\n",
       "      <th>feature_502</th>\n",
       "      <th>feature_505</th>\n",
       "    </tr>\n",
       "  </thead>\n",
       "  <tbody>\n",
       "    <tr>\n",
       "      <th>0</th>\n",
       "      <td>C0</td>\n",
       "      <td>0</td>\n",
       "      <td>0</td>\n",
       "      <td>C0</td>\n",
       "      <td>C0</td>\n",
       "      <td>C0</td>\n",
       "      <td>0</td>\n",
       "      <td>0</td>\n",
       "      <td>C0</td>\n",
       "      <td>C1</td>\n",
       "      <td>...</td>\n",
       "      <td>0</td>\n",
       "      <td>0</td>\n",
       "      <td>0</td>\n",
       "      <td>0</td>\n",
       "      <td>0</td>\n",
       "      <td>0</td>\n",
       "      <td>0</td>\n",
       "      <td>0</td>\n",
       "      <td>0</td>\n",
       "      <td>0</td>\n",
       "    </tr>\n",
       "    <tr>\n",
       "      <th>1</th>\n",
       "      <td>C0</td>\n",
       "      <td>0</td>\n",
       "      <td>0</td>\n",
       "      <td>C0</td>\n",
       "      <td>C0</td>\n",
       "      <td>C0</td>\n",
       "      <td>0</td>\n",
       "      <td>0</td>\n",
       "      <td>C0</td>\n",
       "      <td>C1</td>\n",
       "      <td>...</td>\n",
       "      <td>0</td>\n",
       "      <td>0</td>\n",
       "      <td>0</td>\n",
       "      <td>0</td>\n",
       "      <td>0</td>\n",
       "      <td>0</td>\n",
       "      <td>0</td>\n",
       "      <td>0</td>\n",
       "      <td>0</td>\n",
       "      <td>0</td>\n",
       "    </tr>\n",
       "    <tr>\n",
       "      <th>2</th>\n",
       "      <td>C0</td>\n",
       "      <td>0</td>\n",
       "      <td>0</td>\n",
       "      <td>C0</td>\n",
       "      <td>C0</td>\n",
       "      <td>C0</td>\n",
       "      <td>0</td>\n",
       "      <td>0</td>\n",
       "      <td>C0</td>\n",
       "      <td>C1</td>\n",
       "      <td>...</td>\n",
       "      <td>0</td>\n",
       "      <td>0</td>\n",
       "      <td>0</td>\n",
       "      <td>0</td>\n",
       "      <td>0</td>\n",
       "      <td>0</td>\n",
       "      <td>0</td>\n",
       "      <td>0</td>\n",
       "      <td>0</td>\n",
       "      <td>0</td>\n",
       "    </tr>\n",
       "    <tr>\n",
       "      <th>3</th>\n",
       "      <td>C0</td>\n",
       "      <td>0</td>\n",
       "      <td>0</td>\n",
       "      <td>C0</td>\n",
       "      <td>C0</td>\n",
       "      <td>C0</td>\n",
       "      <td>0</td>\n",
       "      <td>0</td>\n",
       "      <td>C0</td>\n",
       "      <td>C1</td>\n",
       "      <td>...</td>\n",
       "      <td>0</td>\n",
       "      <td>0</td>\n",
       "      <td>0</td>\n",
       "      <td>0</td>\n",
       "      <td>0</td>\n",
       "      <td>0</td>\n",
       "      <td>0</td>\n",
       "      <td>0</td>\n",
       "      <td>0</td>\n",
       "      <td>0</td>\n",
       "    </tr>\n",
       "    <tr>\n",
       "      <th>4</th>\n",
       "      <td>C0</td>\n",
       "      <td>0</td>\n",
       "      <td>0</td>\n",
       "      <td>C0</td>\n",
       "      <td>C0</td>\n",
       "      <td>C0</td>\n",
       "      <td>0</td>\n",
       "      <td>0</td>\n",
       "      <td>C0</td>\n",
       "      <td>C1</td>\n",
       "      <td>...</td>\n",
       "      <td>0</td>\n",
       "      <td>0</td>\n",
       "      <td>0</td>\n",
       "      <td>0</td>\n",
       "      <td>0</td>\n",
       "      <td>0</td>\n",
       "      <td>0</td>\n",
       "      <td>0</td>\n",
       "      <td>0</td>\n",
       "      <td>0</td>\n",
       "    </tr>\n",
       "    <tr>\n",
       "      <th>...</th>\n",
       "      <td>...</td>\n",
       "      <td>...</td>\n",
       "      <td>...</td>\n",
       "      <td>...</td>\n",
       "      <td>...</td>\n",
       "      <td>...</td>\n",
       "      <td>...</td>\n",
       "      <td>...</td>\n",
       "      <td>...</td>\n",
       "      <td>...</td>\n",
       "      <td>...</td>\n",
       "      <td>...</td>\n",
       "      <td>...</td>\n",
       "      <td>...</td>\n",
       "      <td>...</td>\n",
       "      <td>...</td>\n",
       "      <td>...</td>\n",
       "      <td>...</td>\n",
       "      <td>...</td>\n",
       "      <td>...</td>\n",
       "      <td>...</td>\n",
       "    </tr>\n",
       "    <tr>\n",
       "      <th>69995</th>\n",
       "      <td>C0</td>\n",
       "      <td>0</td>\n",
       "      <td>0</td>\n",
       "      <td>C0</td>\n",
       "      <td>C0</td>\n",
       "      <td>C0</td>\n",
       "      <td>0</td>\n",
       "      <td>0</td>\n",
       "      <td>C0</td>\n",
       "      <td>C1</td>\n",
       "      <td>...</td>\n",
       "      <td>0</td>\n",
       "      <td>0</td>\n",
       "      <td>0</td>\n",
       "      <td>0</td>\n",
       "      <td>0</td>\n",
       "      <td>0</td>\n",
       "      <td>0</td>\n",
       "      <td>0</td>\n",
       "      <td>0</td>\n",
       "      <td>0</td>\n",
       "    </tr>\n",
       "    <tr>\n",
       "      <th>69996</th>\n",
       "      <td>C0</td>\n",
       "      <td>0</td>\n",
       "      <td>0</td>\n",
       "      <td>C0</td>\n",
       "      <td>C0</td>\n",
       "      <td>C0</td>\n",
       "      <td>0</td>\n",
       "      <td>0</td>\n",
       "      <td>C0</td>\n",
       "      <td>C1</td>\n",
       "      <td>...</td>\n",
       "      <td>0</td>\n",
       "      <td>0</td>\n",
       "      <td>0</td>\n",
       "      <td>0</td>\n",
       "      <td>0</td>\n",
       "      <td>0</td>\n",
       "      <td>0</td>\n",
       "      <td>0</td>\n",
       "      <td>0</td>\n",
       "      <td>0</td>\n",
       "    </tr>\n",
       "    <tr>\n",
       "      <th>69997</th>\n",
       "      <td>C0</td>\n",
       "      <td>0</td>\n",
       "      <td>0</td>\n",
       "      <td>C0</td>\n",
       "      <td>C0</td>\n",
       "      <td>C0</td>\n",
       "      <td>0</td>\n",
       "      <td>0</td>\n",
       "      <td>C0</td>\n",
       "      <td>C1</td>\n",
       "      <td>...</td>\n",
       "      <td>0</td>\n",
       "      <td>0</td>\n",
       "      <td>0</td>\n",
       "      <td>0</td>\n",
       "      <td>0</td>\n",
       "      <td>0</td>\n",
       "      <td>0</td>\n",
       "      <td>0</td>\n",
       "      <td>0</td>\n",
       "      <td>0</td>\n",
       "    </tr>\n",
       "    <tr>\n",
       "      <th>69998</th>\n",
       "      <td>C0</td>\n",
       "      <td>0</td>\n",
       "      <td>0</td>\n",
       "      <td>C0</td>\n",
       "      <td>C0</td>\n",
       "      <td>C0</td>\n",
       "      <td>0</td>\n",
       "      <td>0</td>\n",
       "      <td>C0</td>\n",
       "      <td>C1</td>\n",
       "      <td>...</td>\n",
       "      <td>0</td>\n",
       "      <td>0</td>\n",
       "      <td>0</td>\n",
       "      <td>0</td>\n",
       "      <td>0</td>\n",
       "      <td>0</td>\n",
       "      <td>0</td>\n",
       "      <td>0</td>\n",
       "      <td>0</td>\n",
       "      <td>0</td>\n",
       "    </tr>\n",
       "    <tr>\n",
       "      <th>69999</th>\n",
       "      <td>C0</td>\n",
       "      <td>0</td>\n",
       "      <td>0</td>\n",
       "      <td>C0</td>\n",
       "      <td>C0</td>\n",
       "      <td>C0</td>\n",
       "      <td>0</td>\n",
       "      <td>0</td>\n",
       "      <td>C0</td>\n",
       "      <td>C1</td>\n",
       "      <td>...</td>\n",
       "      <td>0</td>\n",
       "      <td>0</td>\n",
       "      <td>0</td>\n",
       "      <td>0</td>\n",
       "      <td>0</td>\n",
       "      <td>0</td>\n",
       "      <td>0</td>\n",
       "      <td>0</td>\n",
       "      <td>0</td>\n",
       "      <td>0</td>\n",
       "    </tr>\n",
       "  </tbody>\n",
       "</table>\n",
       "<p>70000 rows × 59 columns</p>\n",
       "</div>"
      ],
      "text/plain": [
       "      feature_55  feature_100  feature_149 feature_187 feature_188  \\\n",
       "0             C0            0            0          C0          C0   \n",
       "1             C0            0            0          C0          C0   \n",
       "2             C0            0            0          C0          C0   \n",
       "3             C0            0            0          C0          C0   \n",
       "4             C0            0            0          C0          C0   \n",
       "...          ...          ...          ...         ...         ...   \n",
       "69995         C0            0            0          C0          C0   \n",
       "69996         C0            0            0          C0          C0   \n",
       "69997         C0            0            0          C0          C0   \n",
       "69998         C0            0            0          C0          C0   \n",
       "69999         C0            0            0          C0          C0   \n",
       "\n",
       "      feature_190  feature_227  feature_228 feature_248 feature_249  ...  \\\n",
       "0              C0            0            0          C0          C1  ...   \n",
       "1              C0            0            0          C0          C1  ...   \n",
       "2              C0            0            0          C0          C1  ...   \n",
       "3              C0            0            0          C0          C1  ...   \n",
       "4              C0            0            0          C0          C1  ...   \n",
       "...           ...          ...          ...         ...         ...  ...   \n",
       "69995          C0            0            0          C0          C1  ...   \n",
       "69996          C0            0            0          C0          C1  ...   \n",
       "69997          C0            0            0          C0          C1  ...   \n",
       "69998          C0            0            0          C0          C1  ...   \n",
       "69999          C0            0            0          C0          C1  ...   \n",
       "\n",
       "       feature_484  feature_487  feature_489  feature_491  feature_493  \\\n",
       "0                0            0            0            0            0   \n",
       "1                0            0            0            0            0   \n",
       "2                0            0            0            0            0   \n",
       "3                0            0            0            0            0   \n",
       "4                0            0            0            0            0   \n",
       "...            ...          ...          ...          ...          ...   \n",
       "69995            0            0            0            0            0   \n",
       "69996            0            0            0            0            0   \n",
       "69997            0            0            0            0            0   \n",
       "69998            0            0            0            0            0   \n",
       "69999            0            0            0            0            0   \n",
       "\n",
       "       feature_495  feature_498  feature_500  feature_502  feature_505  \n",
       "0                0            0            0            0            0  \n",
       "1                0            0            0            0            0  \n",
       "2                0            0            0            0            0  \n",
       "3                0            0            0            0            0  \n",
       "4                0            0            0            0            0  \n",
       "...            ...          ...          ...          ...          ...  \n",
       "69995            0            0            0            0            0  \n",
       "69996            0            0            0            0            0  \n",
       "69997            0            0            0            0            0  \n",
       "69998            0            0            0            0            0  \n",
       "69999            0            0            0            0            0  \n",
       "\n",
       "[70000 rows x 59 columns]"
      ]
     },
     "execution_count": 31,
     "metadata": {},
     "output_type": "execute_result"
    }
   ],
   "source": [
    "tmp=[]\n",
    "for col in train_c.columns:\n",
    "    #If column contains one unique value\n",
    "    if (( train_c[col].nunique() <=1 )):\n",
    "        #add to list\n",
    "        tmp.append(col)\n",
    "#Filter dataframe\n",
    "train[tmp]"
   ]
  },
  {
   "cell_type": "code",
   "execution_count": 32,
   "id": "d5913aa7",
   "metadata": {
    "execution": {
     "iopub.execute_input": "2022-02-21T10:12:22.721607Z",
     "iopub.status.busy": "2022-02-21T10:12:22.720842Z",
     "iopub.status.idle": "2022-02-21T10:12:22.724712Z",
     "shell.execute_reply": "2022-02-21T10:12:22.724072Z",
     "shell.execute_reply.started": "2022-02-21T09:30:34.711755Z"
    },
    "papermill": {
     "duration": 0.09167,
     "end_time": "2022-02-21T10:12:22.724875",
     "exception": false,
     "start_time": "2022-02-21T10:12:22.633205",
     "status": "completed"
    },
    "tags": []
   },
   "outputs": [
    {
     "name": "stdout",
     "output_type": "stream",
     "text": [
      "59  features added to drop list\n"
     ]
    }
   ],
   "source": [
    "#Add to drop list\n",
    "Features_toDrop+=list(tmp)\n",
    "\n",
    "print(len(tmp),' features added to drop list')"
   ]
  },
  {
   "cell_type": "markdown",
   "id": "77e34ba3",
   "metadata": {
    "papermill": {
     "duration": 0.079654,
     "end_time": "2022-02-21T10:12:22.885682",
     "exception": false,
     "start_time": "2022-02-21T10:12:22.806028",
     "status": "completed"
    },
    "tags": []
   },
   "source": [
    "### Correlation between features"
   ]
  },
  {
   "cell_type": "code",
   "execution_count": 33,
   "id": "32be067a",
   "metadata": {
    "_kg_hide-input": true,
    "execution": {
     "iopub.execute_input": "2022-02-21T10:12:23.061579Z",
     "iopub.status.busy": "2022-02-21T10:12:23.060800Z",
     "iopub.status.idle": "2022-02-21T10:12:23.063014Z",
     "shell.execute_reply": "2022-02-21T10:12:23.062367Z",
     "shell.execute_reply.started": "2022-02-21T09:30:34.718918Z"
    },
    "papermill": {
     "duration": 0.096009,
     "end_time": "2022-02-21T10:12:23.063187",
     "exception": false,
     "start_time": "2022-02-21T10:12:22.967178",
     "status": "completed"
    },
    "tags": []
   },
   "outputs": [],
   "source": [
    "def get_highly_correlated(df, features, threshold=0.5):\n",
    "    corr_df = df[features].corr() # get correlations\n",
    "    correlated_features = np.where(np.abs(corr_df) > threshold) # select ones above the abs threshold\n",
    "    correlated_features = [(corr_df.iloc[x,y], x, y) for x, y in zip(*correlated_features) if x != y and x < y] # avoid duplication\n",
    "    s_corr_list = sorted(correlated_features, key=lambda x: -abs(x[0])) # sort by correlation value\n",
    "    if s_corr_list == []:\n",
    "        print(\"There are no highly correlated features with correlation above\", threshold)\n",
    "    else:\n",
    "        col1,col2,col3=list(),list(),list()\n",
    "        for v, i, j in s_corr_list:\n",
    "            col1.append(corr_df.index[i])\n",
    "            col2.append(corr_df.columns[j])\n",
    "            col3.append(v)\n",
    "        col_list=[col1,col2,col3]\n",
    "        return pd.DataFrame(col_list, index=['F1', 'F2','Correlation']).T.sort_values(by='Correlation',ascending=False)"
   ]
  },
  {
   "cell_type": "markdown",
   "id": "90f86ea4",
   "metadata": {
    "papermill": {
     "duration": 0.078653,
     "end_time": "2022-02-21T10:12:23.221174",
     "exception": false,
     "start_time": "2022-02-21T10:12:23.142521",
     "status": "completed"
    },
    "tags": []
   },
   "source": [
    "### There is more than 0.99 correlation between some features"
   ]
  },
  {
   "cell_type": "code",
   "execution_count": 34,
   "id": "56c855b7",
   "metadata": {
    "execution": {
     "iopub.execute_input": "2022-02-21T10:12:23.398027Z",
     "iopub.status.busy": "2022-02-21T10:12:23.397175Z",
     "iopub.status.idle": "2022-02-21T10:12:53.115344Z",
     "shell.execute_reply": "2022-02-21T10:12:53.115835Z",
     "shell.execute_reply.started": "2022-02-21T09:30:34.732531Z"
    },
    "papermill": {
     "duration": 29.815912,
     "end_time": "2022-02-21T10:12:53.116038",
     "exception": false,
     "start_time": "2022-02-21T10:12:23.300126",
     "status": "completed"
    },
    "tags": []
   },
   "outputs": [
    {
     "data": {
      "text/html": [
       "<div>\n",
       "<style scoped>\n",
       "    .dataframe tbody tr th:only-of-type {\n",
       "        vertical-align: middle;\n",
       "    }\n",
       "\n",
       "    .dataframe tbody tr th {\n",
       "        vertical-align: top;\n",
       "    }\n",
       "\n",
       "    .dataframe thead th {\n",
       "        text-align: right;\n",
       "    }\n",
       "</style>\n",
       "<table border=\"1\" class=\"dataframe\">\n",
       "  <thead>\n",
       "    <tr style=\"text-align: right;\">\n",
       "      <th></th>\n",
       "      <th>F1</th>\n",
       "      <th>F2</th>\n",
       "      <th>Correlation</th>\n",
       "    </tr>\n",
       "  </thead>\n",
       "  <tbody>\n",
       "    <tr>\n",
       "      <th>0</th>\n",
       "      <td>feature_46</td>\n",
       "      <td>feature_140</td>\n",
       "      <td>1.0</td>\n",
       "    </tr>\n",
       "    <tr>\n",
       "      <th>520</th>\n",
       "      <td>feature_448</td>\n",
       "      <td>feature_464</td>\n",
       "      <td>1.0</td>\n",
       "    </tr>\n",
       "    <tr>\n",
       "      <th>511</th>\n",
       "      <td>feature_444</td>\n",
       "      <td>feature_503</td>\n",
       "      <td>1.0</td>\n",
       "    </tr>\n",
       "    <tr>\n",
       "      <th>513</th>\n",
       "      <td>feature_444</td>\n",
       "      <td>feature_506</td>\n",
       "      <td>1.0</td>\n",
       "    </tr>\n",
       "    <tr>\n",
       "      <th>514</th>\n",
       "      <td>feature_448</td>\n",
       "      <td>feature_450</td>\n",
       "      <td>1.0</td>\n",
       "    </tr>\n",
       "    <tr>\n",
       "      <th>...</th>\n",
       "      <td>...</td>\n",
       "      <td>...</td>\n",
       "      <td>...</td>\n",
       "    </tr>\n",
       "    <tr>\n",
       "      <th>447</th>\n",
       "      <td>feature_424</td>\n",
       "      <td>feature_497</td>\n",
       "      <td>-1.0</td>\n",
       "    </tr>\n",
       "    <tr>\n",
       "      <th>36</th>\n",
       "      <td>feature_374</td>\n",
       "      <td>feature_490</td>\n",
       "      <td>-1.0</td>\n",
       "    </tr>\n",
       "    <tr>\n",
       "      <th>40</th>\n",
       "      <td>feature_374</td>\n",
       "      <td>feature_497</td>\n",
       "      <td>-1.0</td>\n",
       "    </tr>\n",
       "    <tr>\n",
       "      <th>443</th>\n",
       "      <td>feature_424</td>\n",
       "      <td>feature_490</td>\n",
       "      <td>-1.0</td>\n",
       "    </tr>\n",
       "    <tr>\n",
       "      <th>787</th>\n",
       "      <td>feature_473</td>\n",
       "      <td>feature_492</td>\n",
       "      <td>-1.0</td>\n",
       "    </tr>\n",
       "  </tbody>\n",
       "</table>\n",
       "<p>2352 rows × 3 columns</p>\n",
       "</div>"
      ],
      "text/plain": [
       "              F1           F2 Correlation\n",
       "0     feature_46  feature_140         1.0\n",
       "520  feature_448  feature_464         1.0\n",
       "511  feature_444  feature_503         1.0\n",
       "513  feature_444  feature_506         1.0\n",
       "514  feature_448  feature_450         1.0\n",
       "..           ...          ...         ...\n",
       "447  feature_424  feature_497        -1.0\n",
       "36   feature_374  feature_490        -1.0\n",
       "40   feature_374  feature_497        -1.0\n",
       "443  feature_424  feature_490        -1.0\n",
       "787  feature_473  feature_492        -1.0\n",
       "\n",
       "[2352 rows x 3 columns]"
      ]
     },
     "execution_count": 34,
     "metadata": {},
     "output_type": "execute_result"
    }
   ],
   "source": [
    "F_corr_df= get_highly_correlated(train_c[Numeric_Features],Numeric_Features,threshold=0.9)\n",
    "F_corr_df"
   ]
  },
  {
   "cell_type": "markdown",
   "id": "2139c8de",
   "metadata": {
    "papermill": {
     "duration": 0.079238,
     "end_time": "2022-02-21T10:12:53.275241",
     "exception": false,
     "start_time": "2022-02-21T10:12:53.196003",
     "status": "completed"
    },
    "tags": []
   },
   "source": [
    "### Drop one of two highly correlated features"
   ]
  },
  {
   "cell_type": "code",
   "execution_count": 35,
   "id": "539b159c",
   "metadata": {
    "execution": {
     "iopub.execute_input": "2022-02-21T10:12:53.451123Z",
     "iopub.status.busy": "2022-02-21T10:12:53.450136Z",
     "iopub.status.idle": "2022-02-21T10:12:53.453516Z",
     "shell.execute_reply": "2022-02-21T10:12:53.454017Z",
     "shell.execute_reply.started": "2022-02-21T09:31:04.212714Z"
    },
    "papermill": {
     "duration": 0.093981,
     "end_time": "2022-02-21T10:12:53.454212",
     "exception": false,
     "start_time": "2022-02-21T10:12:53.360231",
     "status": "completed"
    },
    "tags": []
   },
   "outputs": [
    {
     "name": "stdout",
     "output_type": "stream",
     "text": [
      "188  features added to drop list\n"
     ]
    }
   ],
   "source": [
    "#Using set() to get distinct features from the column F1\n",
    "drop_F1=list( set(F_corr_df.F1[F_corr_df.Correlation>0.9]) ) + list( set(F_corr_df.F1[F_corr_df.Correlation<-0.9]) )\n",
    "\n",
    "#Drop\n",
    "Features_toDrop += drop_F1\n",
    "print(len(drop_F1),' features added to drop list')"
   ]
  },
  {
   "cell_type": "markdown",
   "id": "e0b15206",
   "metadata": {
    "papermill": {
     "duration": 0.082078,
     "end_time": "2022-02-21T10:12:53.617431",
     "exception": false,
     "start_time": "2022-02-21T10:12:53.535353",
     "status": "completed"
    },
    "tags": []
   },
   "source": [
    "<h1 id=\"drop\" style=\"color:white;background:#0076a8;padding:8px;border-radius:8px\">Drop unwanted features </h1>\n",
    "\n",
    "Finally let's drop unwanted features that we have added into drop list so far"
   ]
  },
  {
   "cell_type": "code",
   "execution_count": 36,
   "id": "4a213b5e",
   "metadata": {
    "execution": {
     "iopub.execute_input": "2022-02-21T10:12:53.833940Z",
     "iopub.status.busy": "2022-02-21T10:12:53.782564Z",
     "iopub.status.idle": "2022-02-21T10:12:54.000780Z",
     "shell.execute_reply": "2022-02-21T10:12:54.001377Z",
     "shell.execute_reply.started": "2022-02-21T09:31:04.223679Z"
    },
    "papermill": {
     "duration": 0.303417,
     "end_time": "2022-02-21T10:12:54.001612",
     "exception": false,
     "start_time": "2022-02-21T10:12:53.698195",
     "status": "completed"
    },
    "tags": []
   },
   "outputs": [
    {
     "name": "stdout",
     "output_type": "stream",
     "text": [
      "216  Features dropped\n"
     ]
    }
   ],
   "source": [
    "Features_toDrop=list(set(Features_toDrop))\n",
    "\n",
    "train_c.drop(Features_toDrop,axis=1,inplace=True)\n",
    "test_c.drop(Features_toDrop,axis=1,inplace=True)\n",
    "\n",
    "#Remove from Categorical_Features list\n",
    "Categorical_Features = [e for e in Categorical_Features\n",
    "                        if e not in Features_toDrop]\n",
    "#Remove from Numeric features list\n",
    "Numeric_Features=[e for e in Numeric_Features\n",
    "                  if e not in Features_toDrop]\n",
    "\n",
    "print(len(Features_toDrop),' Features dropped')"
   ]
  },
  {
   "cell_type": "code",
   "execution_count": 37,
   "id": "79da5b11",
   "metadata": {
    "execution": {
     "iopub.execute_input": "2022-02-21T10:12:54.171757Z",
     "iopub.status.busy": "2022-02-21T10:12:54.171015Z",
     "iopub.status.idle": "2022-02-21T10:12:54.175775Z",
     "shell.execute_reply": "2022-02-21T10:12:54.176495Z",
     "shell.execute_reply.started": "2022-02-21T09:31:04.424899Z"
    },
    "papermill": {
     "duration": 0.091165,
     "end_time": "2022-02-21T10:12:54.176691",
     "exception": false,
     "start_time": "2022-02-21T10:12:54.085526",
     "status": "completed"
    },
    "tags": []
   },
   "outputs": [
    {
     "data": {
      "text/plain": [
       "((70000, 269), (30000, 268))"
      ]
     },
     "execution_count": 37,
     "metadata": {},
     "output_type": "execute_result"
    }
   ],
   "source": [
    "train_c.shape, test_c.shape"
   ]
  },
  {
   "cell_type": "markdown",
   "id": "9ac2fa3e",
   "metadata": {
    "papermill": {
     "duration": 0.083343,
     "end_time": "2022-02-21T10:12:54.342474",
     "exception": false,
     "start_time": "2022-02-21T10:12:54.259131",
     "status": "completed"
    },
    "tags": []
   },
   "source": [
    "<h1 id=\"encode\" style=\"color:white;background:#0076a8;padding:8px;border-radius:8px\">  Encoding categorical features </h1>\n"
   ]
  },
  {
   "cell_type": "code",
   "execution_count": 38,
   "id": "76fc9fc9",
   "metadata": {
    "execution": {
     "iopub.execute_input": "2022-02-21T10:12:54.513997Z",
     "iopub.status.busy": "2022-02-21T10:12:54.513124Z",
     "iopub.status.idle": "2022-02-21T10:12:58.169416Z",
     "shell.execute_reply": "2022-02-21T10:12:58.169993Z",
     "shell.execute_reply.started": "2022-02-21T09:31:04.432316Z"
    },
    "papermill": {
     "duration": 3.742648,
     "end_time": "2022-02-21T10:12:58.170224",
     "exception": false,
     "start_time": "2022-02-21T10:12:54.427576",
     "status": "completed"
    },
    "tags": []
   },
   "outputs": [],
   "source": [
    "#Create copy\n",
    "train_e=train_c.copy()\n",
    "test_e=test_c.copy()\n",
    "\n",
    "for col in list(Categorical_Features):\n",
    "    le = LabelEncoder()\n",
    "    #fit encoder on train/test at the same time\n",
    "    le.fit(pd.concat([train_e[col],test_e[col]], ignore_index=True))\n",
    "    #transform \n",
    "    train_e[col]=le.transform(train_e[col])\n",
    "    test_e[col]=le.transform(test_e[col])"
   ]
  },
  {
   "cell_type": "markdown",
   "id": "ce0d3c84",
   "metadata": {
    "papermill": {
     "duration": 0.082145,
     "end_time": "2022-02-21T10:12:58.334829",
     "exception": false,
     "start_time": "2022-02-21T10:12:58.252684",
     "status": "completed"
    },
    "tags": []
   },
   "source": [
    "<h1 id=\"encode\" style=\"color:white;background:#0076a8;padding:8px;border-radius:8px\">  Modeling </h1>"
   ]
  },
  {
   "cell_type": "markdown",
   "id": "c90d6e8b",
   "metadata": {
    "papermill": {
     "duration": 0.081483,
     "end_time": "2022-02-21T10:12:58.497383",
     "exception": false,
     "start_time": "2022-02-21T10:12:58.415900",
     "status": "completed"
    },
    "tags": []
   },
   "source": [
    "<h2> Define and split variables </h2>"
   ]
  },
  {
   "cell_type": "code",
   "execution_count": 39,
   "id": "567422fa",
   "metadata": {
    "execution": {
     "iopub.execute_input": "2022-02-21T10:12:58.676997Z",
     "iopub.status.busy": "2022-02-21T10:12:58.675377Z",
     "iopub.status.idle": "2022-02-21T10:12:58.939337Z",
     "shell.execute_reply": "2022-02-21T10:12:58.938608Z",
     "shell.execute_reply.started": "2022-02-21T09:31:07.882063Z"
    },
    "papermill": {
     "duration": 0.35985,
     "end_time": "2022-02-21T10:12:58.939518",
     "exception": false,
     "start_time": "2022-02-21T10:12:58.579668",
     "status": "completed"
    },
    "tags": []
   },
   "outputs": [],
   "source": [
    "toDrop=['target'] + ['feature_82','feature_192_year','feature_199_year','feature_200_year','feature_201_year']\n",
    "\n",
    "#Variables\n",
    "X=train_e.drop(toDrop,axis=1)\n",
    "y=train_e['target']\n",
    "\n",
    "X_train,X_valid,y_train,y_valid = train_test_split(X, y, test_size=0.2,random_state=18)"
   ]
  },
  {
   "cell_type": "markdown",
   "id": "4b40726d",
   "metadata": {
    "papermill": {
     "duration": 0.081779,
     "end_time": "2022-02-21T10:12:59.102966",
     "exception": false,
     "start_time": "2022-02-21T10:12:59.021187",
     "status": "completed"
    },
    "tags": []
   },
   "source": [
    "## Tuning"
   ]
  },
  {
   "cell_type": "code",
   "execution_count": 40,
   "id": "4520d0fc",
   "metadata": {
    "_kg_hide-input": true,
    "_kg_hide-output": true,
    "execution": {
     "iopub.execute_input": "2022-02-21T10:12:59.274319Z",
     "iopub.status.busy": "2022-02-21T10:12:59.273246Z",
     "iopub.status.idle": "2022-02-21T10:12:59.277767Z",
     "shell.execute_reply": "2022-02-21T10:12:59.277090Z",
     "shell.execute_reply.started": "2022-02-21T09:31:08.133929Z"
    },
    "papermill": {
     "duration": 0.094321,
     "end_time": "2022-02-21T10:12:59.277936",
     "exception": false,
     "start_time": "2022-02-21T10:12:59.183615",
     "status": "completed"
    },
    "tags": []
   },
   "outputs": [
    {
     "data": {
      "text/plain": [
       "'\\nimport optuna\\nfrom optuna.integration import LightGBMPruningCallback\\n\\ndef objective(trial, X, y):\\n    param_grid = {\\n        \\n        # \"device_type\": trial.suggest_categorical(\"device_type\", [\\'gpu\\']),\\n        \"n_estimators\": trial.suggest_int(\"n_estimators\", 5000,20000,step=10),\\n        \"learning_rate\": trial.suggest_loguniform(\"learning_rate\", 0.02, 0.1),\\n       # \"num_leaves\": trial.suggest_int(\"num_leaves\", 10, 2000, step=20),\\n        \"max_depth\": trial.suggest_int(\"max_depth\", 3, 12),\\n        \"reg_alpha\": trial.suggest_loguniform(\"reg_alpha\", 1.0, 15.0),\\n        \"reg_lambda\": trial.suggest_loguniform(\"reg_lambda\", 1.0, 15.0),\\n        \\'scale_pos_weight\\': trial.suggest_float(\"scale_pos_weight\", 0.1, 0.95, step=0.1),\\n        \\'subsample\\': trial.suggest_loguniform(\\'subsample\\', 0.4, 1.0),\\n        \\'colsample_bytree\\': trial.suggest_float(\\'colsample_bytree\\', 0.5, 1.0),\\n        \"gamma\": trial.suggest_float(\"gamma\", 0.2, 0.95, step=0.1),\\n         \"min_child_weight\": trial.suggest_float(\"min_child_weight\", 1, 10, step=1),\\n       \\n        #\"bagging_freq\": trial.suggest_int(\"bagging_freq\", 0,10),\\n        #\"feature_fraction\": trial.suggest_float(\\n        #\"feature_fraction\", 0.2, 0.95, step=0.1\\n        #),\\n    }\\n\\n    cv = StratifiedKFold(n_splits=5, shuffle=True, random_state=18)\\n\\n    cv_scores = np.empty(5)\\n    for idx, (train_idx, test_idx) in enumerate(cv.split(X, y)):\\n        X_train, X_test = X.iloc[train_idx], X.iloc[test_idx]\\n        y_train, y_test = y[train_idx], y[test_idx]\\n\\n        model = XGBClassifier( **param_grid)\\n        model.fit(\\n            X_train,\\n            y_train,\\n            eval_set=[(X_test, y_test)],\\n            eval_metric=\"auc\",\\n            early_stopping_rounds=200,\\n            verbose=200,\\n\\n        )\\n        preds = model.predict_proba(X_test)\\n        cv_scores[idx] = roc_auc_score(y_test, preds[:,1])\\n\\n    return np.mean(cv_scores)\\n\\n\\n#Start tuning\\nstudy = optuna.create_study(direction=\"maximize\", study_name=\"LGBM Classifier\")\\nfunc = lambda trial: objective(trial, X, y)\\nstudy.optimize(func, n_trials=20)\\n\\n#Show best parameters\\nprint(f\"\\tBest auc: {study.best_value:.5f}\")\\nprint(f\"\\tBest params:\")\\nfor key, value in study.best_params.items():\\n    print(f\"\\t\\t{key}: {value}\")\\n    \\n'"
      ]
     },
     "execution_count": 40,
     "metadata": {},
     "output_type": "execute_result"
    }
   ],
   "source": [
    "'''\n",
    "import optuna\n",
    "from optuna.integration import LightGBMPruningCallback\n",
    "\n",
    "def objective(trial, X, y):\n",
    "    param_grid = {\n",
    "        \n",
    "        # \"device_type\": trial.suggest_categorical(\"device_type\", ['gpu']),\n",
    "        \"n_estimators\": trial.suggest_int(\"n_estimators\", 5000,20000,step=10),\n",
    "        \"learning_rate\": trial.suggest_loguniform(\"learning_rate\", 0.02, 0.1),\n",
    "       # \"num_leaves\": trial.suggest_int(\"num_leaves\", 10, 2000, step=20),\n",
    "        \"max_depth\": trial.suggest_int(\"max_depth\", 3, 12),\n",
    "        \"reg_alpha\": trial.suggest_loguniform(\"reg_alpha\", 1.0, 15.0),\n",
    "        \"reg_lambda\": trial.suggest_loguniform(\"reg_lambda\", 1.0, 15.0),\n",
    "        'scale_pos_weight': trial.suggest_float(\"scale_pos_weight\", 0.1, 0.95, step=0.1),\n",
    "        'subsample': trial.suggest_loguniform('subsample', 0.4, 1.0),\n",
    "        'colsample_bytree': trial.suggest_float('colsample_bytree', 0.5, 1.0),\n",
    "        \"gamma\": trial.suggest_float(\"gamma\", 0.2, 0.95, step=0.1),\n",
    "         \"min_child_weight\": trial.suggest_float(\"min_child_weight\", 1, 10, step=1),\n",
    "       \n",
    "        #\"bagging_freq\": trial.suggest_int(\"bagging_freq\", 0,10),\n",
    "        #\"feature_fraction\": trial.suggest_float(\n",
    "        #\"feature_fraction\", 0.2, 0.95, step=0.1\n",
    "        #),\n",
    "    }\n",
    "\n",
    "    cv = StratifiedKFold(n_splits=5, shuffle=True, random_state=18)\n",
    "\n",
    "    cv_scores = np.empty(5)\n",
    "    for idx, (train_idx, test_idx) in enumerate(cv.split(X, y)):\n",
    "        X_train, X_test = X.iloc[train_idx], X.iloc[test_idx]\n",
    "        y_train, y_test = y[train_idx], y[test_idx]\n",
    "\n",
    "        model = XGBClassifier( **param_grid)\n",
    "        model.fit(\n",
    "            X_train,\n",
    "            y_train,\n",
    "            eval_set=[(X_test, y_test)],\n",
    "            eval_metric=\"auc\",\n",
    "            early_stopping_rounds=200,\n",
    "            verbose=200,\n",
    "\n",
    "        )\n",
    "        preds = model.predict_proba(X_test)\n",
    "        cv_scores[idx] = roc_auc_score(y_test, preds[:,1])\n",
    "\n",
    "    return np.mean(cv_scores)\n",
    "\n",
    "\n",
    "#Start tuning\n",
    "study = optuna.create_study(direction=\"maximize\", study_name=\"LGBM Classifier\")\n",
    "func = lambda trial: objective(trial, X, y)\n",
    "study.optimize(func, n_trials=20)\n",
    "\n",
    "#Show best parameters\n",
    "print(f\"\\tBest auc: {study.best_value:.5f}\")\n",
    "print(f\"\\tBest params:\")\n",
    "for key, value in study.best_params.items():\n",
    "    print(f\"\\t\\t{key}: {value}\")\n",
    "    \n",
    "'''\n"
   ]
  },
  {
   "cell_type": "markdown",
   "id": "72af5509",
   "metadata": {
    "papermill": {
     "duration": 0.083249,
     "end_time": "2022-02-21T10:12:59.444178",
     "exception": false,
     "start_time": "2022-02-21T10:12:59.360929",
     "status": "completed"
    },
    "tags": []
   },
   "source": [
    "## Models with tuned params"
   ]
  },
  {
   "cell_type": "code",
   "execution_count": 41,
   "id": "d5760bb7",
   "metadata": {
    "execution": {
     "iopub.execute_input": "2022-02-21T10:12:59.626989Z",
     "iopub.status.busy": "2022-02-21T10:12:59.621488Z",
     "iopub.status.idle": "2022-02-21T10:12:59.630262Z",
     "shell.execute_reply": "2022-02-21T10:12:59.629228Z",
     "shell.execute_reply.started": "2022-02-21T10:00:28.893422Z"
    },
    "papermill": {
     "duration": 0.103063,
     "end_time": "2022-02-21T10:12:59.630493",
     "exception": false,
     "start_time": "2022-02-21T10:12:59.527430",
     "status": "completed"
    },
    "tags": []
   },
   "outputs": [],
   "source": [
    "# Parameter grids\n",
    "LGBM_params = {\n",
    "    'n_estimators': 10000,\n",
    "    'learning_rate': 0.01346129943895438,\n",
    "    'num_leaves': 1230,\n",
    "    'max_depth': 5,\n",
    "    'lambda_l1': 9.014424962435049,\n",
    "    'lambda_l2': 5.09941903202415,\n",
    "    'min_child_samples': 56,\n",
    "    'subsample': 0.8210241479916653,\n",
    "    'bagging_fraction': 0.8,\n",
    "    'bagging_freq': 5,\n",
    "    'feature_fraction': 0.6000000000000001,\n",
    "}\n",
    "\n",
    "CATBOOST_params = {\n",
    "    'subsample': 0.50,\n",
    "    'learning_rate': 0.03,\n",
    "    \"max_depth\": 6,\n",
    "    \"min_data_in_leaf\": 50,\n",
    "    \"colsample_bylevel\": 0.5,\n",
    "    'random_state':42,\n",
    "    'num_boost_round': 2000,\n",
    "    'l2_leaf_reg': 1.0,\n",
    "    'eval_metric': \"AUC\",\n",
    "}\n",
    "\n",
    "XGB_params = {\n",
    "   'n_estimators': 14140,\n",
    "    'learning_rate': 0.0111538499996725174,\n",
    "    'max_depth': 4,\n",
    "    'reg_alpha': 2.9735993984217104,\n",
    "    'reg_lambda': 2.214625977393439,\n",
    "    'scale_pos_weight': 0.9,\n",
    "    'subsample': 0.7768428006197691,\n",
    "    'gamma': 0.5\n",
    "}\n",
    "\n",
    "#LGBM\n",
    "LGBM = LGBMClassifier(**LGBM_params)\n",
    "\n",
    "#Catboost\n",
    "CATBOOST = CatBoostClassifier(**CATBOOST_params)\n",
    "\n",
    "#XGBoost\n",
    "XGB = XGBClassifier(**XGB_params)"
   ]
  },
  {
   "cell_type": "markdown",
   "id": "09748f0e",
   "metadata": {
    "papermill": {
     "duration": 0.081584,
     "end_time": "2022-02-21T10:12:59.797019",
     "exception": false,
     "start_time": "2022-02-21T10:12:59.715435",
     "status": "completed"
    },
    "tags": []
   },
   "source": [
    "## Validation score function"
   ]
  },
  {
   "cell_type": "code",
   "execution_count": 42,
   "id": "ea7b50ea",
   "metadata": {
    "execution": {
     "iopub.execute_input": "2022-02-21T10:12:59.971087Z",
     "iopub.status.busy": "2022-02-21T10:12:59.969992Z",
     "iopub.status.idle": "2022-02-21T10:12:59.973871Z",
     "shell.execute_reply": "2022-02-21T10:12:59.973093Z",
     "shell.execute_reply.started": "2022-02-21T09:40:00.076215Z"
    },
    "papermill": {
     "duration": 0.094544,
     "end_time": "2022-02-21T10:12:59.974051",
     "exception": false,
     "start_time": "2022-02-21T10:12:59.879507",
     "status": "completed"
    },
    "tags": []
   },
   "outputs": [],
   "source": [
    "#Returns validation score\n",
    "def get_val_score(model):\n",
    "    val_pred = model.predict_proba(X_valid)\n",
    "    return roc_auc_score(y_valid,val_pred[:,1])"
   ]
  },
  {
   "cell_type": "markdown",
   "id": "2185ba16",
   "metadata": {
    "papermill": {
     "duration": 0.085177,
     "end_time": "2022-02-21T10:13:00.147371",
     "exception": false,
     "start_time": "2022-02-21T10:13:00.062194",
     "status": "completed"
    },
    "tags": []
   },
   "source": [
    "## XGBOOST Classifier"
   ]
  },
  {
   "cell_type": "code",
   "execution_count": 43,
   "id": "9587f2e9",
   "metadata": {
    "execution": {
     "iopub.execute_input": "2022-02-21T10:13:00.324443Z",
     "iopub.status.busy": "2022-02-21T10:13:00.323632Z",
     "iopub.status.idle": "2022-02-21T10:23:15.414780Z",
     "shell.execute_reply": "2022-02-21T10:23:15.415637Z",
     "shell.execute_reply.started": "2022-02-21T10:00:31.755269Z"
    },
    "papermill": {
     "duration": 615.183985,
     "end_time": "2022-02-21T10:23:15.415920",
     "exception": false,
     "start_time": "2022-02-21T10:13:00.231935",
     "status": "completed"
    },
    "tags": []
   },
   "outputs": [
    {
     "name": "stdout",
     "output_type": "stream",
     "text": [
      "[0]\tvalidation_0-auc:0.74590\n",
      "[100]\tvalidation_0-auc:0.76266\n",
      "[200]\tvalidation_0-auc:0.76919\n",
      "[300]\tvalidation_0-auc:0.77427\n",
      "[400]\tvalidation_0-auc:0.77722\n",
      "[500]\tvalidation_0-auc:0.77922\n",
      "[600]\tvalidation_0-auc:0.78057\n",
      "[700]\tvalidation_0-auc:0.78152\n",
      "[800]\tvalidation_0-auc:0.78228\n",
      "[900]\tvalidation_0-auc:0.78277\n",
      "[1000]\tvalidation_0-auc:0.78317\n",
      "[1100]\tvalidation_0-auc:0.78360\n",
      "[1200]\tvalidation_0-auc:0.78390\n",
      "[1300]\tvalidation_0-auc:0.78405\n",
      "[1400]\tvalidation_0-auc:0.78433\n",
      "[1500]\tvalidation_0-auc:0.78448\n",
      "[1600]\tvalidation_0-auc:0.78467\n",
      "[1700]\tvalidation_0-auc:0.78481\n",
      "[1800]\tvalidation_0-auc:0.78491\n",
      "[1900]\tvalidation_0-auc:0.78497\n",
      "[2000]\tvalidation_0-auc:0.78504\n",
      "[2100]\tvalidation_0-auc:0.78505\n",
      "[2200]\tvalidation_0-auc:0.78516\n",
      "[2300]\tvalidation_0-auc:0.78514\n",
      "[2400]\tvalidation_0-auc:0.78509\n",
      "[2418]\tvalidation_0-auc:0.78512\n",
      "====================\n",
      "LGBM Validation AUC :  0.7851942878111431\n"
     ]
    }
   ],
   "source": [
    "XGB.fit(X_train,y_train,\n",
    "         eval_set=[(X_valid, y_valid)],\n",
    "         early_stopping_rounds=200,verbose=100,eval_metric='auc')\n",
    "#Get score\n",
    "print(\"=\"*20)\n",
    "print(\"LGBM Validation AUC : \", get_val_score(XGB))"
   ]
  },
  {
   "cell_type": "markdown",
   "id": "ef99b5e6",
   "metadata": {
    "papermill": {
     "duration": 0.098002,
     "end_time": "2022-02-21T10:23:15.609868",
     "exception": false,
     "start_time": "2022-02-21T10:23:15.511866",
     "status": "completed"
    },
    "tags": []
   },
   "source": [
    "### XGBOOST feature importance"
   ]
  },
  {
   "cell_type": "code",
   "execution_count": 44,
   "id": "493de1f1",
   "metadata": {
    "_kg_hide-input": true,
    "execution": {
     "iopub.execute_input": "2022-02-21T10:23:15.800796Z",
     "iopub.status.busy": "2022-02-21T10:23:15.799751Z",
     "iopub.status.idle": "2022-02-21T10:23:16.295881Z",
     "shell.execute_reply": "2022-02-21T10:23:16.296458Z",
     "shell.execute_reply.started": "2022-02-21T09:31:08.293069Z"
    },
    "papermill": {
     "duration": 0.592377,
     "end_time": "2022-02-21T10:23:16.296665",
     "exception": false,
     "start_time": "2022-02-21T10:23:15.704288",
     "status": "completed"
    },
    "tags": []
   },
   "outputs": [
    {
     "data": {
      "text/plain": [
       "Text(0.5, 1.0, 'XGBoost Feature importance')"
      ]
     },
     "execution_count": 44,
     "metadata": {},
     "output_type": "execute_result"
    },
    {
     "data": {
      "image/png": "[encoded data removed]",
      "text/plain": [
       "<Figure size 720x576 with 1 Axes>"
      ]
     },
     "metadata": {},
     "output_type": "display_data"
    }
   ],
   "source": [
    "FI=pd.DataFrame({'Features':X.columns,'Importance':XGB.feature_importances_})\n",
    "FI=FI.sort_values(by='Importance',ascending=False)[:20]\n",
    "#plot\n",
    "plt.figure(figsize=(10,8))\n",
    "sns.barplot(x=FI.Importance,y=FI.Features).set_title('XGBoost Feature importance')"
   ]
  },
  {
   "cell_type": "markdown",
   "id": "1b4bb94f",
   "metadata": {
    "papermill": {
     "duration": 0.092182,
     "end_time": "2022-02-21T10:23:16.483558",
     "exception": false,
     "start_time": "2022-02-21T10:23:16.391376",
     "status": "completed"
    },
    "tags": []
   },
   "source": [
    "## LGBM Classifier"
   ]
  },
  {
   "cell_type": "code",
   "execution_count": 45,
   "id": "1cd198ad",
   "metadata": {
    "execution": {
     "iopub.execute_input": "2022-02-21T10:23:16.678457Z",
     "iopub.status.busy": "2022-02-21T10:23:16.677648Z",
     "iopub.status.idle": "2022-02-21T10:23:49.906507Z",
     "shell.execute_reply": "2022-02-21T10:23:49.907747Z",
     "shell.execute_reply.started": "2022-02-21T09:31:08.294512Z"
    },
    "papermill": {
     "duration": 33.330731,
     "end_time": "2022-02-21T10:23:49.908027",
     "exception": false,
     "start_time": "2022-02-21T10:23:16.577296",
     "status": "completed"
    },
    "tags": []
   },
   "outputs": [
    {
     "name": "stdout",
     "output_type": "stream",
     "text": [
      "[LightGBM] [Warning] lambda_l1 is set=9.014424962435049, reg_alpha=0.0 will be ignored. Current value: lambda_l1=9.014424962435049\n",
      "[LightGBM] [Warning] bagging_fraction is set=0.8, subsample=0.8210241479916653 will be ignored. Current value: bagging_fraction=0.8\n",
      "[LightGBM] [Warning] lambda_l2 is set=5.09941903202415, reg_lambda=0.0 will be ignored. Current value: lambda_l2=5.09941903202415\n",
      "[LightGBM] [Warning] feature_fraction is set=0.6000000000000001, colsample_bytree=1.0 will be ignored. Current value: feature_fraction=0.6000000000000001\n",
      "[LightGBM] [Warning] bagging_freq is set=5, subsample_freq=0 will be ignored. Current value: bagging_freq=5\n",
      "[100]\tvalid_0's auc: 0.770704\tvalid_0's binary_logloss: 0.523377\n",
      "[200]\tvalid_0's auc: 0.775316\tvalid_0's binary_logloss: 0.507379\n",
      "[300]\tvalid_0's auc: 0.778381\tvalid_0's binary_logloss: 0.502333\n",
      "[400]\tvalid_0's auc: 0.780595\tvalid_0's binary_logloss: 0.499819\n",
      "[500]\tvalid_0's auc: 0.782214\tvalid_0's binary_logloss: 0.498199\n",
      "[600]\tvalid_0's auc: 0.783311\tvalid_0's binary_logloss: 0.497188\n",
      "[700]\tvalid_0's auc: 0.78391\tvalid_0's binary_logloss: 0.496628\n",
      "[800]\tvalid_0's auc: 0.784278\tvalid_0's binary_logloss: 0.496241\n",
      "[900]\tvalid_0's auc: 0.784619\tvalid_0's binary_logloss: 0.495956\n",
      "[1000]\tvalid_0's auc: 0.785005\tvalid_0's binary_logloss: 0.495651\n",
      "[1100]\tvalid_0's auc: 0.785206\tvalid_0's binary_logloss: 0.49554\n",
      "[1200]\tvalid_0's auc: 0.785209\tvalid_0's binary_logloss: 0.495552\n",
      "[1300]\tvalid_0's auc: 0.785313\tvalid_0's binary_logloss: 0.495487\n",
      "[1400]\tvalid_0's auc: 0.78546\tvalid_0's binary_logloss: 0.495396\n",
      "[1500]\tvalid_0's auc: 0.785507\tvalid_0's binary_logloss: 0.495377\n",
      "[1600]\tvalid_0's auc: 0.785518\tvalid_0's binary_logloss: 0.495356\n",
      "====================\n",
      "LGBM Validation AUC :  0.7855529570056876\n"
     ]
    }
   ],
   "source": [
    "LGBM.fit(X_train,y_train,\n",
    "         eval_set=[(X_valid, y_valid)],\n",
    "         early_stopping_rounds=200,verbose=100,eval_metric='auc')\n",
    "#Get score\n",
    "print(\"=\"*20)\n",
    "print(\"LGBM Validation AUC : \", get_val_score(LGBM))"
   ]
  },
  {
   "cell_type": "markdown",
   "id": "d2dcc3e0",
   "metadata": {
    "papermill": {
     "duration": 0.104237,
     "end_time": "2022-02-21T10:23:50.113318",
     "exception": false,
     "start_time": "2022-02-21T10:23:50.009081",
     "status": "completed"
    },
    "tags": []
   },
   "source": [
    "### LGBM Feature importance"
   ]
  },
  {
   "cell_type": "code",
   "execution_count": 46,
   "id": "18a0d389",
   "metadata": {
    "_kg_hide-input": true,
    "execution": {
     "iopub.execute_input": "2022-02-21T10:23:50.326295Z",
     "iopub.status.busy": "2022-02-21T10:23:50.319367Z",
     "iopub.status.idle": "2022-02-21T10:23:50.749550Z",
     "shell.execute_reply": "2022-02-21T10:23:50.748810Z",
     "shell.execute_reply.started": "2022-02-21T09:31:08.295655Z"
    },
    "papermill": {
     "duration": 0.537736,
     "end_time": "2022-02-21T10:23:50.749716",
     "exception": false,
     "start_time": "2022-02-21T10:23:50.211980",
     "status": "completed"
    },
    "tags": []
   },
   "outputs": [
    {
     "data": {
      "text/plain": [
       "Text(0.5, 1.0, 'LGBM Feature importance')"
      ]
     },
     "execution_count": 46,
     "metadata": {},
     "output_type": "execute_result"
    },
    {
     "data": {
      "image/png": "[encoded data removed]",
      "text/plain": [
       "<Figure size 720x576 with 1 Axes>"
      ]
     },
     "metadata": {},
     "output_type": "display_data"
    }
   ],
   "source": [
    "FI=pd.DataFrame({'Features':X.columns,'Importance':LGBM.feature_importances_})\n",
    "FI=FI.sort_values(by='Importance',ascending=False)[:20]\n",
    "#plot\n",
    "plt.figure(figsize=(10,8))\n",
    "sns.barplot(x=FI.Importance,y=FI.Features).set_title('LGBM Feature importance')"
   ]
  },
  {
   "cell_type": "markdown",
   "id": "bdcca097",
   "metadata": {
    "papermill": {
     "duration": 0.101166,
     "end_time": "2022-02-21T10:23:50.950750",
     "exception": false,
     "start_time": "2022-02-21T10:23:50.849584",
     "status": "completed"
    },
    "tags": []
   },
   "source": [
    "## CATBOOST Classifier"
   ]
  },
  {
   "cell_type": "code",
   "execution_count": 47,
   "id": "acb33991",
   "metadata": {
    "execution": {
     "iopub.execute_input": "2022-02-21T10:23:51.169629Z",
     "iopub.status.busy": "2022-02-21T10:23:51.168832Z",
     "iopub.status.idle": "2022-02-21T10:30:01.388361Z",
     "shell.execute_reply": "2022-02-21T10:30:01.387771Z",
     "shell.execute_reply.started": "2022-02-21T09:31:08.297088Z"
    },
    "papermill": {
     "duration": 370.33387,
     "end_time": "2022-02-21T10:30:01.388585",
     "exception": false,
     "start_time": "2022-02-21T10:23:51.054715",
     "status": "completed"
    },
    "tags": []
   },
   "outputs": [
    {
     "name": "stdout",
     "output_type": "stream",
     "text": [
      "0:\ttest: 0.7495993\tbest: 0.7495993 (0)\ttotal: 254ms\tremaining: 8m 26s\n",
      "100:\ttest: 0.7756639\tbest: 0.7756639 (100)\ttotal: 19s\tremaining: 5m 56s\n",
      "200:\ttest: 0.7799536\tbest: 0.7799536 (200)\ttotal: 37.8s\tremaining: 5m 38s\n",
      "300:\ttest: 0.7814491\tbest: 0.7814491 (300)\ttotal: 57.2s\tremaining: 5m 22s\n",
      "400:\ttest: 0.7826146\tbest: 0.7826146 (400)\ttotal: 1m 15s\tremaining: 5m 2s\n",
      "500:\ttest: 0.7832125\tbest: 0.7832160 (498)\ttotal: 1m 34s\tremaining: 4m 43s\n",
      "600:\ttest: 0.7836268\tbest: 0.7836323 (596)\ttotal: 1m 53s\tremaining: 4m 24s\n",
      "700:\ttest: 0.7838774\tbest: 0.7838835 (690)\ttotal: 2m 12s\tremaining: 4m 6s\n",
      "800:\ttest: 0.7841066\tbest: 0.7841066 (800)\ttotal: 2m 31s\tremaining: 3m 47s\n",
      "900:\ttest: 0.7842997\tbest: 0.7843115 (899)\ttotal: 2m 50s\tremaining: 3m 28s\n",
      "1000:\ttest: 0.7845609\tbest: 0.7845609 (1000)\ttotal: 3m 10s\tremaining: 3m 10s\n",
      "1100:\ttest: 0.7847861\tbest: 0.7847861 (1100)\ttotal: 3m 29s\tremaining: 2m 51s\n",
      "1200:\ttest: 0.7848447\tbest: 0.7848604 (1150)\ttotal: 3m 49s\tremaining: 2m 32s\n",
      "1300:\ttest: 0.7849864\tbest: 0.7849864 (1300)\ttotal: 4m 8s\tremaining: 2m 13s\n",
      "1400:\ttest: 0.7851777\tbest: 0.7851815 (1394)\ttotal: 4m 27s\tremaining: 1m 54s\n",
      "1500:\ttest: 0.7852344\tbest: 0.7852344 (1500)\ttotal: 4m 46s\tremaining: 1m 35s\n",
      "1600:\ttest: 0.7852572\tbest: 0.7852933 (1518)\ttotal: 5m 6s\tremaining: 1m 16s\n",
      "1700:\ttest: 0.7853176\tbest: 0.7853301 (1698)\ttotal: 5m 26s\tremaining: 57.3s\n",
      "1800:\ttest: 0.7852428\tbest: 0.7853363 (1709)\ttotal: 5m 45s\tremaining: 38.2s\n",
      "1900:\ttest: 0.7852342\tbest: 0.7853363 (1709)\ttotal: 6m 5s\tremaining: 19s\n",
      "Stopped by overfitting detector  (200 iterations wait)\n",
      "\n",
      "bestTest = 0.7853363097\n",
      "bestIteration = 1709\n",
      "\n",
      "Shrink model to first 1710 iterations.\n",
      "====================\n",
      "CATBOOST Validation AUC :  0.7853363097058284\n"
     ]
    }
   ],
   "source": [
    "CATBOOST.fit(X_train,y_train,\n",
    "             eval_set=[(X_valid, y_valid)],\n",
    "             cat_features=Categorical_Features,\n",
    "             early_stopping_rounds=200,verbose=100)\n",
    "#Get score\n",
    "print(\"=\"*20)\n",
    "print(\"CATBOOST Validation AUC : \", get_val_score(CATBOOST))"
   ]
  },
  {
   "cell_type": "markdown",
   "id": "662ad15e",
   "metadata": {
    "papermill": {
     "duration": 0.109856,
     "end_time": "2022-02-21T10:30:01.606176",
     "exception": false,
     "start_time": "2022-02-21T10:30:01.496320",
     "status": "completed"
    },
    "tags": []
   },
   "source": [
    "### CatBoost Feature importance"
   ]
  },
  {
   "cell_type": "code",
   "execution_count": 48,
   "id": "a776a0c4",
   "metadata": {
    "_kg_hide-input": true,
    "execution": {
     "iopub.execute_input": "2022-02-21T10:30:01.881033Z",
     "iopub.status.busy": "2022-02-21T10:30:01.848694Z",
     "iopub.status.idle": "2022-02-21T10:30:02.379733Z",
     "shell.execute_reply": "2022-02-21T10:30:02.378943Z",
     "shell.execute_reply.started": "2022-02-21T09:31:08.298498Z"
    },
    "papermill": {
     "duration": 0.651706,
     "end_time": "2022-02-21T10:30:02.379926",
     "exception": false,
     "start_time": "2022-02-21T10:30:01.728220",
     "status": "completed"
    },
    "tags": []
   },
   "outputs": [
    {
     "data": {
      "text/plain": [
       "Text(0.5, 1.0, 'CATBOOST Feature importance')"
      ]
     },
     "execution_count": 48,
     "metadata": {},
     "output_type": "execute_result"
    },
    {
     "data": {
      "image/png": "[encoded data removed]",
      "text/plain": [
       "<Figure size 720x576 with 1 Axes>"
      ]
     },
     "metadata": {},
     "output_type": "display_data"
    }
   ],
   "source": [
    "FI=pd.DataFrame({'Features':X.columns,'Importance':CATBOOST.feature_importances_})\n",
    "FI=FI.sort_values(by='Importance',ascending=False)[:20]\n",
    "#plot\n",
    "plt.figure(figsize=(10,8))\n",
    "sns.barplot(x=FI.Importance,y=FI.Features).set_title('CATBOOST Feature importance')"
   ]
  },
  {
   "cell_type": "markdown",
   "id": "151191df",
   "metadata": {
    "papermill": {
     "duration": 0.114403,
     "end_time": "2022-02-21T10:30:02.610767",
     "exception": false,
     "start_time": "2022-02-21T10:30:02.496364",
     "status": "completed"
    },
    "tags": []
   },
   "source": [
    "<h1 id=\"prediction\" style=\"color:white;background:#0076a8;padding:8px;border-radius:8px\"> Making prediction on test data </h1>"
   ]
  },
  {
   "cell_type": "code",
   "execution_count": 49,
   "id": "0998ed36",
   "metadata": {
    "execution": {
     "iopub.execute_input": "2022-02-21T10:30:02.853448Z",
     "iopub.status.busy": "2022-02-21T10:30:02.851860Z",
     "iopub.status.idle": "2022-02-21T10:30:06.313925Z",
     "shell.execute_reply": "2022-02-21T10:30:06.313222Z",
     "shell.execute_reply.started": "2022-02-21T09:31:08.299718Z"
    },
    "papermill": {
     "duration": 3.583572,
     "end_time": "2022-02-21T10:30:06.314110",
     "exception": false,
     "start_time": "2022-02-21T10:30:02.730538",
     "status": "completed"
    },
    "tags": []
   },
   "outputs": [],
   "source": [
    "toDrop=['feature_82','feature_192_year','feature_199_year','feature_200_year','feature_201_year']\n",
    "\n",
    "LGBM_pred=LGBM.predict_proba(test_e.drop(toDrop,axis=1))\n",
    "XGB_pred=XGB.predict_proba(test_e.drop(toDrop,axis=1))\n",
    "CATBOOST_pred=CATBOOST.predict_proba(test_e.drop(toDrop,axis=1))"
   ]
  },
  {
   "cell_type": "markdown",
   "id": "5c385f98",
   "metadata": {
    "papermill": {
     "duration": 0.110216,
     "end_time": "2022-02-21T10:30:06.537662",
     "exception": false,
     "start_time": "2022-02-21T10:30:06.427446",
     "status": "completed"
    },
    "tags": []
   },
   "source": [
    "### Ensemble of predictions"
   ]
  },
  {
   "cell_type": "code",
   "execution_count": 50,
   "id": "ea7af883",
   "metadata": {
    "execution": {
     "iopub.execute_input": "2022-02-21T10:30:06.771925Z",
     "iopub.status.busy": "2022-02-21T10:30:06.770943Z",
     "iopub.status.idle": "2022-02-21T10:30:06.774518Z",
     "shell.execute_reply": "2022-02-21T10:30:06.773837Z",
     "shell.execute_reply.started": "2022-02-21T09:31:08.300974Z"
    },
    "papermill": {
     "duration": 0.120257,
     "end_time": "2022-02-21T10:30:06.774680",
     "exception": false,
     "start_time": "2022-02-21T10:30:06.654423",
     "status": "completed"
    },
    "tags": []
   },
   "outputs": [],
   "source": [
    "test_predictions = 0.4 * LGBM_pred[:,1] + 0.3 * CATBOOST_pred[:,1] + 0.3 * XGB_pred[:,1]"
   ]
  },
  {
   "cell_type": "markdown",
   "id": "f2a561ce",
   "metadata": {
    "papermill": {
     "duration": 0.114233,
     "end_time": "2022-02-21T10:30:07.002000",
     "exception": false,
     "start_time": "2022-02-21T10:30:06.887767",
     "status": "completed"
    },
    "tags": []
   },
   "source": [
    "### Create submission file"
   ]
  },
  {
   "cell_type": "code",
   "execution_count": 51,
   "id": "53e5ba67",
   "metadata": {
    "execution": {
     "iopub.execute_input": "2022-02-21T10:30:07.231534Z",
     "iopub.status.busy": "2022-02-21T10:30:07.230665Z",
     "iopub.status.idle": "2022-02-21T10:30:07.345770Z",
     "shell.execute_reply": "2022-02-21T10:30:07.346340Z",
     "shell.execute_reply.started": "2022-02-21T09:31:08.302331Z"
    },
    "papermill": {
     "duration": 0.23229,
     "end_time": "2022-02-21T10:30:07.346562",
     "exception": false,
     "start_time": "2022-02-21T10:30:07.114272",
     "status": "completed"
    },
    "tags": []
   },
   "outputs": [
    {
     "data": {
      "text/html": [
       "<div>\n",
       "<style scoped>\n",
       "    .dataframe tbody tr th:only-of-type {\n",
       "        vertical-align: middle;\n",
       "    }\n",
       "\n",
       "    .dataframe tbody tr th {\n",
       "        vertical-align: top;\n",
       "    }\n",
       "\n",
       "    .dataframe thead th {\n",
       "        text-align: right;\n",
       "    }\n",
       "</style>\n",
       "<table border=\"1\" class=\"dataframe\">\n",
       "  <thead>\n",
       "    <tr style=\"text-align: right;\">\n",
       "      <th></th>\n",
       "      <th>id</th>\n",
       "      <th>target</th>\n",
       "    </tr>\n",
       "  </thead>\n",
       "  <tbody>\n",
       "    <tr>\n",
       "      <th>0</th>\n",
       "      <td>5</td>\n",
       "      <td>0.401350</td>\n",
       "    </tr>\n",
       "    <tr>\n",
       "      <th>1</th>\n",
       "      <td>7</td>\n",
       "      <td>0.317016</td>\n",
       "    </tr>\n",
       "    <tr>\n",
       "      <th>2</th>\n",
       "      <td>9</td>\n",
       "      <td>0.310080</td>\n",
       "    </tr>\n",
       "    <tr>\n",
       "      <th>3</th>\n",
       "      <td>11</td>\n",
       "      <td>0.126033</td>\n",
       "    </tr>\n",
       "    <tr>\n",
       "      <th>4</th>\n",
       "      <td>14</td>\n",
       "      <td>0.252191</td>\n",
       "    </tr>\n",
       "    <tr>\n",
       "      <th>5</th>\n",
       "      <td>15</td>\n",
       "      <td>0.244366</td>\n",
       "    </tr>\n",
       "    <tr>\n",
       "      <th>6</th>\n",
       "      <td>19</td>\n",
       "      <td>0.127366</td>\n",
       "    </tr>\n",
       "    <tr>\n",
       "      <th>7</th>\n",
       "      <td>21</td>\n",
       "      <td>0.135106</td>\n",
       "    </tr>\n",
       "    <tr>\n",
       "      <th>8</th>\n",
       "      <td>25</td>\n",
       "      <td>0.354705</td>\n",
       "    </tr>\n",
       "    <tr>\n",
       "      <th>9</th>\n",
       "      <td>29</td>\n",
       "      <td>0.162790</td>\n",
       "    </tr>\n",
       "  </tbody>\n",
       "</table>\n",
       "</div>"
      ],
      "text/plain": [
       "   id    target\n",
       "0   5  0.401350\n",
       "1   7  0.317016\n",
       "2   9  0.310080\n",
       "3  11  0.126033\n",
       "4  14  0.252191\n",
       "5  15  0.244366\n",
       "6  19  0.127366\n",
       "7  21  0.135106\n",
       "8  25  0.354705\n",
       "9  29  0.162790"
      ]
     },
     "execution_count": 51,
     "metadata": {},
     "output_type": "execute_result"
    }
   ],
   "source": [
    "sample['target']=test_predictions\n",
    "sample.to_csv('submission.csv',index=False)\n",
    "sample.head(10)"
   ]
  },
  {
   "cell_type": "markdown",
   "id": "66db5b23",
   "metadata": {
    "papermill": {
     "duration": 0.111548,
     "end_time": "2022-02-21T10:30:07.569931",
     "exception": false,
     "start_time": "2022-02-21T10:30:07.458383",
     "status": "completed"
    },
    "tags": []
   },
   "source": [
    "### Credits\n",
    "\n",
    "\n",
    "https://towardsdatascience.com/categorical-feature-selection-via-chi-square-fc558b09de43\n",
    "\n",
    "https://towardsdatascience.com/kagglers-guide-to-lightgbm-hyperparameter-tuning-with-optuna-in-2021-ed048d9838b5\n",
    "\n",
    "https://towardsdatascience.com/understanding-feature-engineering-part-1-continuous-numeric-data-da4e47099a7b\n"
   ]
  }
 ],
 "metadata": {
  "kernelspec": {
   "display_name": "Python 3",
   "language": "python",
   "name": "python3"
  },
  "language_info": {
   "codemirror_mode": {
    "name": "ipython",
    "version": 3
   },
   "file_extension": ".py",
   "mimetype": "text/x-python",
   "name": "python",
   "nbconvert_exporter": "python",
   "pygments_lexer": "ipython3",
   "version": "3.7.12"
  },
  "papermill": {
   "default_parameters": {},
   "duration": 1163.644926,
   "end_time": "2022-02-21T10:30:08.999859",
   "environment_variables": {},
   "exception": null,
   "input_path": "__notebook__.ipynb",
   "output_path": "__notebook__.ipynb",
   "parameters": {},
   "start_time": "2022-02-21T10:10:45.354933",
   "version": "2.3.3"
  }
 },
 "nbformat": 4,
 "nbformat_minor": 5
}
